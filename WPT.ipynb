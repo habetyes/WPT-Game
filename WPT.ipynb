{
 "cells": [
  {
   "cell_type": "code",
   "execution_count": 276,
   "metadata": {},
   "outputs": [],
   "source": [
    "import pandas as pd\n",
    "import random\n",
    "import time"
   ]
  },
  {
   "cell_type": "markdown",
   "metadata": {},
   "source": [
    "# Initialize Deck and Value_Dict"
   ]
  },
  {
   "cell_type": "code",
   "execution_count": 279,
   "metadata": {},
   "outputs": [],
   "source": [
    "deck = {1: 'Ah', 2: 'Kh', 3: 'Qh', 4: 'Jh', 5: 'Th', 6: '9h', 7: '8h', 8: '7h',\n",
    "       9: '6h', 10: '5h', 11: '4h', 12: '3h', 13: '2h', 14: 'Ad', 15: 'Kd', 16: 'Qd', 17: 'Jd', 18: 'Td',\n",
    "       19: '9d', 20: '8d', 21: '7d', 22: '6d', 23: '5d', 24: '4d', 25: '3d', 26: '2d', 27: 'Ac', 28: 'Kc', 29: 'Qc', \n",
    "       30: 'Jc', 31: 'Tc', 32: '9c', 33: '8c', 34: '7c', 35:'6c', 36:'5c', 37:'4c', 38:'3c', 39:'2c', 40:'As', 41:'Ks',\n",
    "       42: 'Qs', 43:'Js', 44:'Ts', 45:'9s', 46:'8s', 47:'7s', 48:'6s', 49:'5s', 50:'4s', 51:'3s',52:'2s'}\n",
    "\n",
    "value_dict = {1:'A', 2:'2', 3:'3', 4:'4', 5:'5', 6:'6', 7:'7', 8:'8', 9:'9', 10:'T', 11:'J', 12:'Q', 13:'K', 14:'A'}"
   ]
  },
  {
   "cell_type": "markdown",
   "metadata": {},
   "source": [
    "# Deal Player, Dealer and Board"
   ]
  },
  {
   "cell_type": "code",
   "execution_count": 280,
   "metadata": {},
   "outputs": [
    {
     "name": "stdout",
     "output_type": "stream",
     "text": [
      "Player Has: ['3c', '9c']\n"
     ]
    }
   ],
   "source": [
    "# Declare Player Hand\n",
    "player_hand = []\n",
    "for x in range(2):\n",
    "    player_hand.append(deck.pop(random.choice(list(deck.keys()))))    \n",
    "print(f'Player Has: {player_hand}')\n"
   ]
  },
  {
   "cell_type": "code",
   "execution_count": 281,
   "metadata": {},
   "outputs": [
    {
     "name": "stdout",
     "output_type": "stream",
     "text": [
      "Dealer Has: ['5c', '7h']\n"
     ]
    }
   ],
   "source": [
    "dealer_hand = []\n",
    "for x in range(2):\n",
    "    dealer_hand.append(deck.pop(random.choice(list(deck.keys()))))    \n",
    "print(f'Dealer Has: {dealer_hand}')"
   ]
  },
  {
   "cell_type": "code",
   "execution_count": 282,
   "metadata": {
    "scrolled": true
   },
   "outputs": [
    {
     "name": "stdout",
     "output_type": "stream",
     "text": [
      "['Jc', '4s', '3s', 'Ac', '8c']\n"
     ]
    }
   ],
   "source": [
    "board = []\n",
    "for x in range(5):\n",
    "    board.append(deck.pop(random.choice(list(deck.keys()))))    \n",
    "print(board)"
   ]
  },
  {
   "cell_type": "markdown",
   "metadata": {},
   "source": [
    "# Evaluate Hole Card Bonus"
   ]
  },
  {
   "cell_type": "code",
   "execution_count": 283,
   "metadata": {},
   "outputs": [
    {
     "name": "stdout",
     "output_type": "stream",
     "text": [
      "Suited! Pays 1:1\n"
     ]
    },
    {
     "data": {
      "text/plain": [
       "1"
      ]
     },
     "execution_count": 283,
     "metadata": {},
     "output_type": "execute_result"
    }
   ],
   "source": [
    "suited = player_hand[0][1] == player_hand[1][1]\n",
    "pair_bonus = {'A': 20, 'K': 8, 'Q': 8, 'J':8, '10':3, '9':3, '8':3, '7':3, '6':3, '5':2,'4':2,'3':2,'2':2}\n",
    "\n",
    "if ((player_hand[0] == 'Ad') or (player_hand[0] == 'Ah')) and ((player_hand[1] == 'Ah') or (player_hand[1] == 'Ad')):\n",
    "    hole_bonus_payout = 50\n",
    "    print(f' RED ACES!!! Pays {hole_bonus_payout}:1')\n",
    "elif ((player_hand[0][0] == 'A') and (player_hand[1][0] == 'K')) or ((player_hand[0][0] == 'K') and (player_hand[1][0] == 'A')):\n",
    "    if suited == True:\n",
    "        hole_bonus_payout = 25\n",
    "        print(f' Big Slick!! Pays {hole_bonus_payout}:1')\n",
    "    else:\n",
    "        hole_bonus_payout = 0\n",
    "        print(\"Sorry, Bonus Bet Lost\")\n",
    "elif player_hand[0][0] == player_hand[1][0]:\n",
    "    pair = player_hand[0][0]\n",
    "    hole_bonus_payout = pair_bonus[player_hand[0][0]]\n",
    "    print(f'Pocket {pair}s! Pays {hole_bonus_payout}:1')\n",
    "elif suited == True:\n",
    "    hole_bonus_payout = 1\n",
    "    print(f'Suited! Pays {hole_bonus_payout}:1')\n",
    "else:\n",
    "    hole_bonus_payout = 0\n",
    "    print(\"Sorry, Bonus Bet Lost\")\n",
    "    \n",
    "    \n",
    "hole_bonus_payout"
   ]
  },
  {
   "cell_type": "code",
   "execution_count": 284,
   "metadata": {},
   "outputs": [
    {
     "data": {
      "text/plain": [
       "1"
      ]
     },
     "execution_count": 284,
     "metadata": {},
     "output_type": "execute_result"
    }
   ],
   "source": [
    "hole_bonus_payout"
   ]
  },
  {
   "cell_type": "code",
   "execution_count": 285,
   "metadata": {
    "scrolled": true
   },
   "outputs": [
    {
     "data": {
      "text/plain": [
       "['3c', '9c', 'Jc', '4s', '3s', 'Ac', '8c']"
      ]
     },
     "execution_count": 285,
     "metadata": {},
     "output_type": "execute_result"
    }
   ],
   "source": [
    "final_hand = player_hand + board\n",
    "final_hand"
   ]
  },
  {
   "cell_type": "markdown",
   "metadata": {},
   "source": [
    "# Check for Straight"
   ]
  },
  {
   "cell_type": "code",
   "execution_count": 319,
   "metadata": {},
   "outputs": [
    {
     "name": "stdout",
     "output_type": "stream",
     "text": [
      "[1, 2, 3, 4, 10]\n",
      "[2, 3, 4, 10, 11]\n",
      "[3, 4, 10, 11, 12]\n",
      "[4, 10, 11, 12, 13]\n",
      "[10, 11, 12, 13, 14]\n",
      "Straight to the A\n"
     ]
    }
   ],
   "source": [
    "# re-write final hand for testing purposes\n",
    "final_hand = ['Ac', 'Kc', 'Qc', 'Js', 'Ts', '2c', '3c', '4d', 'Js']\n",
    "\n",
    "keys = []\n",
    "def getKeys(dictionary, value_list):\n",
    "    items = dictionary.items()\n",
    "    stv = sorted({(x[0]) for x in value_list})\n",
    "    stv = str(stv)\n",
    "    for item in items:\n",
    "        if item[1] in stv:\n",
    "            keys.append(item[0])\n",
    "\n",
    "    return keys\n",
    "\n",
    "keys = getKeys(value_dict, final_hand)\n",
    "# keys = keys[::-1]\n",
    "\n",
    "\n",
    "for idx, value in enumerate(keys):\n",
    "    slice = keys[idx:idx+5]\n",
    "    print(slice)\n",
    "    if len(slice) < 5:\n",
    "        print(\"No Straights Found\")\n",
    "        straight = False\n",
    "        break\n",
    "    if slice == list(range(value,value+5)):\n",
    "        straight = True\n",
    "        straight_top_key = value+4\n",
    "        straight_top = value_dict[value+4]\n",
    "        print(f'Straight to the {straight_top}')\n",
    "        break\n",
    "    else:\n",
    "        straight = False\n",
    "        \n",
    "\n"
   ]
  },
  {
   "cell_type": "markdown",
   "metadata": {},
   "source": [
    "# Check for Flush"
   ]
  },
  {
   "cell_type": "code",
   "execution_count": 292,
   "metadata": {},
   "outputs": [
    {
     "data": {
      "text/plain": [
       "'Flush'"
      ]
     },
     "execution_count": 292,
     "metadata": {},
     "output_type": "execute_result"
    }
   ],
   "source": [
    "suits = []\n",
    "for x in final_hand:\n",
    "    suits.append(x[1])\n",
    "\n",
    "def flush_check():\n",
    "    if (suits.count('s') >= 5) or (suits.count('c') >= 5) or (suits.count('d') >= 5) or (suits.count('h') >= 5):\n",
    "        flush = True\n",
    "        return \"Flush\"\n",
    "    return False\n",
    "\n",
    "flush_check()\n",
    "\n",
    "# Create function for each hand type, create one last function to call them all in descending order, return boolean for each function\n",
    "# if/elif to catch first true result\n",
    "\n",
    "# if royal() == True:\n",
    "#     payout = 500\n",
    "#     print(\"ROYAL FLUSH!!!!\")\n",
    "# elif straighFlush == True:\n",
    "#     payout = 100\n",
    "#     print(\"Straight Flush!!!\")\n",
    "# elif ....."
   ]
  },
  {
   "cell_type": "code",
   "execution_count": 10,
   "metadata": {},
   "outputs": [
    {
     "data": {
      "text/plain": [
       "2"
      ]
     },
     "execution_count": 10,
     "metadata": {},
     "output_type": "execute_result"
    }
   ],
   "source": []
  },
  {
   "cell_type": "markdown",
   "metadata": {},
   "source": [
    "# Test Hand Cells"
   ]
  },
  {
   "cell_type": "code",
   "execution_count": 265,
   "metadata": {},
   "outputs": [
    {
     "name": "stdout",
     "output_type": "stream",
     "text": [
      "Suited! Pays 1:1\n"
     ]
    }
   ],
   "source": [
    "test_hand = ['Th', 'Kh']\n",
    "test_board = ['As', '4c', 'Qd', '2h', 'Jh']\n",
    "hole_bonus = {'A': 20, 'K': 8, 'Q': 8, 'J':8, '10':3, '9':3, '8':3, '7':3, '6':3, '5':2,'4':2,'3':2,'2':2}\n",
    "test_suited = test_hand[0][1] == test_hand[1][1]\n",
    "\n",
    "if ((test_hand[0] == 'Ad') or (test_hand[0] == 'Ah')) and ((test_hand[1] == 'Ah') or (test_hand[1] == 'Ad')):\n",
    "    payout = 50\n",
    "    print(f' RED ACES!!! Pays {payout}:1')\n",
    "elif ((test_hand[0][0] == 'A') and (test_hand[1][0] == 'K')) or ((test_hand[0][0] == 'K') and (test_hand[1][0] == 'A')):\n",
    "    if test_suited == True:\n",
    "        payout = 25\n",
    "        print(f' Big Slick!! Pays {payout}:1')\n",
    "    else:\n",
    "        payout = 0\n",
    "        print(\"Sorry, Bonus Bet Lost\")\n",
    "elif test_hand[0][0] == test_hand[1][0]:\n",
    "    pair = test_hand[0][0]\n",
    "    payout = hole_bonus[test_hand[0][0]]\n",
    "    print(f'Pocket {pair}s! Pays {payout}:1')\n",
    "elif test_suited == True:\n",
    "    payout = 1\n",
    "    print(f'Suited! Pays {payout}:1')\n",
    "else:\n",
    "    payout = 0\n",
    "    print(\"Sorry, Bonus Bet Lost\")"
   ]
  },
  {
   "cell_type": "code",
   "execution_count": 266,
   "metadata": {
    "scrolled": true
   },
   "outputs": [
    {
     "data": {
      "text/plain": [
       "['Th', 'Kh', 'As', '4c', 'Qd', '2h', 'Jh']"
      ]
     },
     "execution_count": 266,
     "metadata": {},
     "output_type": "execute_result"
    }
   ],
   "source": [
    "test_final_hand = test_hand + test_board\n",
    "test_final_hand"
   ]
  },
  {
   "cell_type": "code",
   "execution_count": 267,
   "metadata": {},
   "outputs": [],
   "source": [
    "value_dict = {1:'A', 2:'2', 3:'3', 4:'4', 5:'5', 6:'6', 7:'7', 8:'8', 9:'9', 10:'T', 11:'J', 12:'Q', 13:'K', 14:'A'}\n",
    "\n",
    "keys = []\n",
    "def getKeys(dictionary, value_list):\n",
    "    items = dictionary.items()\n",
    "    stv = sorted({(x[0]) for x in value_list})\n",
    "    stv = str(stv)\n",
    "    for item in items:\n",
    "        if item[1] in stv:\n",
    "            keys.append(item[0])\n",
    "\n",
    "    return keys\n"
   ]
  },
  {
   "cell_type": "code",
   "execution_count": 268,
   "metadata": {},
   "outputs": [],
   "source": [
    "keys = getKeys(value_dict, test_final_hand)"
   ]
  },
  {
   "cell_type": "code",
   "execution_count": 269,
   "metadata": {},
   "outputs": [
    {
     "data": {
      "text/plain": [
       "[1, 2, 4, 10, 11, 12, 13, 14]"
      ]
     },
     "execution_count": 269,
     "metadata": {},
     "output_type": "execute_result"
    }
   ],
   "source": [
    "keys"
   ]
  },
  {
   "cell_type": "code",
   "execution_count": 274,
   "metadata": {},
   "outputs": [
    {
     "name": "stdout",
     "output_type": "stream",
     "text": [
      "Nothing\n",
      "Nothing\n",
      "Nothing\n",
      "Straight\n",
      "Straight to the A\n"
     ]
    }
   ],
   "source": [
    "for idx, value in enumerate(keys):\n",
    "    slice = keys[idx:idx+5]\n",
    "    if len(slice) < 5:\n",
    "        print(\"No Straights Found\")\n",
    "        straight = False\n",
    "        break\n",
    "    if slice == list(range(value,value+5)):\n",
    "        print(\"Straight\")\n",
    "        straight = True\n",
    "        straight_top_key = value+4\n",
    "        straight_top = value_dict[value+4]\n",
    "        break\n",
    "    else:\n",
    "        print(\"Nothing\")\n",
    "        straight = False\n",
    "        \n",
    "\n",
    "straight\n",
    "print(f'Straight to the {straight_top}')"
   ]
  },
  {
   "cell_type": "code",
   "execution_count": 180,
   "metadata": {},
   "outputs": [],
   "source": [
    "value_dict = {1:'A', 2:'2', 3:'3', 4:'4', 5:'5', 6:'6', 7:'7', 8:'8', 9:'9', 10:'T', 11:'J', 12:'Q', 13:'K', 14:'A'}"
   ]
  },
  {
   "cell_type": "code",
   "execution_count": 181,
   "metadata": {},
   "outputs": [],
   "source": []
  },
  {
   "cell_type": "code",
   "execution_count": 182,
   "metadata": {},
   "outputs": [
    {
     "name": "stdout",
     "output_type": "stream",
     "text": [
      "Straight\n"
     ]
    },
    {
     "data": {
      "text/plain": [
       "True"
      ]
     },
     "execution_count": 182,
     "metadata": {},
     "output_type": "execute_result"
    }
   ],
   "source": []
  },
  {
   "cell_type": "code",
   "execution_count": null,
   "metadata": {},
   "outputs": [],
   "source": []
  },
  {
   "cell_type": "code",
   "execution_count": null,
   "metadata": {},
   "outputs": [],
   "source": []
  },
  {
   "cell_type": "code",
   "execution_count": 105,
   "metadata": {},
   "outputs": [
    {
     "data": {
      "text/plain": [
       "4"
      ]
     },
     "execution_count": 105,
     "metadata": {},
     "output_type": "execute_result"
    }
   ],
   "source": []
  },
  {
   "cell_type": "code",
   "execution_count": 100,
   "metadata": {},
   "outputs": [
    {
     "data": {
      "text/plain": [
       "False"
      ]
     },
     "execution_count": 100,
     "metadata": {},
     "output_type": "execute_result"
    }
   ],
   "source": [
    "def flush_check():\n",
    "    if (test_suits.count('s') >= 5) or (test_suits.count('c') >= 5) or (test_suits.count('d') >= 5) or (test_suits.count('h') >= 5):\n",
    "        return \"Flush\"\n",
    "    return False\n",
    "\n",
    "flush_check()\n",
    "\n",
    "# Create function for each hand type, create one last function to call them all in descending order, return boolean for each function\n",
    "# if/elif to catch first true result\n",
    "\n",
    "# if royal() == True:\n",
    "#     payout = 500\n",
    "#     print(\"ROYAL FLUSH!!!!\")\n",
    "# elif straighFlush == True:\n",
    "#     payout = 100\n",
    "#     print(\"Straight Flush!!!\")\n",
    "# elif ....."
   ]
  },
  {
   "cell_type": "code",
   "execution_count": 101,
   "metadata": {},
   "outputs": [
    {
     "data": {
      "text/plain": [
       "['2', '4', '5', '6', '7', '8']"
      ]
     },
     "execution_count": 101,
     "metadata": {},
     "output_type": "execute_result"
    }
   ],
   "source": []
  },
  {
   "cell_type": "code",
   "execution_count": 102,
   "metadata": {},
   "outputs": [
    {
     "data": {
      "text/plain": [
       "6"
      ]
     },
     "execution_count": 102,
     "metadata": {},
     "output_type": "execute_result"
    }
   ],
   "source": []
  },
  {
   "cell_type": "code",
   "execution_count": 103,
   "metadata": {},
   "outputs": [
    {
     "name": "stdout",
     "output_type": "stream",
     "text": [
      "Straight in iteration 0\n"
     ]
    }
   ],
   "source": []
  },
  {
   "cell_type": "code",
   "execution_count": 104,
   "metadata": {},
   "outputs": [
    {
     "data": {
      "text/plain": [
       "True"
      ]
     },
     "execution_count": 104,
     "metadata": {},
     "output_type": "execute_result"
    }
   ],
   "source": []
  },
  {
   "cell_type": "code",
   "execution_count": null,
   "metadata": {},
   "outputs": [],
   "source": []
  },
  {
   "cell_type": "code",
   "execution_count": null,
   "metadata": {},
   "outputs": [],
   "source": [
    "# Move FLush Check into main code\n",
    "# Move Straight Check into main code\n"
   ]
  },
  {
   "cell_type": "code",
   "execution_count": 106,
   "metadata": {},
   "outputs": [
    {
     "data": {
      "text/plain": [
       "['2', '4', '5', '6', '7', '8']"
      ]
     },
     "execution_count": 106,
     "metadata": {},
     "output_type": "execute_result"
    }
   ],
   "source": []
  },
  {
   "cell_type": "code",
   "execution_count": null,
   "metadata": {},
   "outputs": [],
   "source": []
  },
  {
   "cell_type": "code",
   "execution_count": null,
   "metadata": {},
   "outputs": [],
   "source": []
  }
 ],
 "metadata": {
  "kernelspec": {
   "display_name": "Python [conda env:PythonData]",
   "language": "python",
   "name": "conda-env-PythonData-py"
  },
  "language_info": {
   "codemirror_mode": {
    "name": "ipython",
    "version": 3
   },
   "file_extension": ".py",
   "mimetype": "text/x-python",
   "name": "python",
   "nbconvert_exporter": "python",
   "pygments_lexer": "ipython3",
   "version": "3.7.1"
  }
 },
 "nbformat": 4,
 "nbformat_minor": 2
}
