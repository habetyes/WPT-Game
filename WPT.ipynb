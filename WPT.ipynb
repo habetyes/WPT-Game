{
 "cells": [
  {
   "cell_type": "code",
   "execution_count": 2,
   "metadata": {},
   "outputs": [],
   "source": [
    "import pandas as pd\n",
    "import random\n",
    "import time"
   ]
  },
  {
   "cell_type": "code",
   "execution_count": 3,
   "metadata": {},
   "outputs": [],
   "source": [
    "deck = {1: 'Ah', 2: 'Kh', 3: 'Qh', 4: 'Jh', 5: 'Th', 6: '9h', 7: '8h', 8: '7h',\n",
    "       9: '6h', 10: '5h', 11: '4h', 12: '3h', 13: '2h', 14: 'Ad', 15: 'Kd', 16: 'Qd', 17: 'Jd', 18: 'Td',\n",
    "       19: '9d', 20: '8d', 21: '7d', 22: '6d', 23: '5d', 24: '4d', 25: '3d', 26: '2d', 27: 'Ac', 28: 'Kc', 29: 'Qc', \n",
    "       30: 'Jc', 31: 'Tc', 32: '9c', 33: '8c', 34: '7c', 35:'6c', 36:'5c', 37:'4c', 38:'3c', 39:'2c', 40:'As', 41:'Ks',\n",
    "       42: 'Qs', 43:'Js', 44:'Ts', 45:'9s', 46:'8s', 47:'7s', 48:'6s', 49:'5s', 50:'4s', 51:'3s',52:'2s'}"
   ]
  },
  {
   "cell_type": "code",
   "execution_count": 4,
   "metadata": {},
   "outputs": [
    {
     "name": "stdout",
     "output_type": "stream",
     "text": [
      "Player Has: ['3h', '4h']\n"
     ]
    }
   ],
   "source": [
    "# Declare Player Hand\n",
    "player_hand = []\n",
    "for x in range(2):\n",
    "    player_hand.append(deck.pop(random.choice(list(deck.keys()))))    \n",
    "print(f'Player Has: {player_hand}')\n"
   ]
  },
  {
   "cell_type": "code",
   "execution_count": 5,
   "metadata": {},
   "outputs": [
    {
     "name": "stdout",
     "output_type": "stream",
     "text": [
      "Dealer Has: ['Qh', '2d']\n"
     ]
    }
   ],
   "source": [
    "dealer_hand = []\n",
    "for x in range(2):\n",
    "    dealer_hand.append(deck.pop(random.choice(list(deck.keys()))))    \n",
    "print(f'Dealer Has: {dealer_hand}')"
   ]
  },
  {
   "cell_type": "code",
   "execution_count": 6,
   "metadata": {},
   "outputs": [
    {
     "name": "stdout",
     "output_type": "stream",
     "text": [
      "['Ac', '5d', '8h', '4d', 'Jc']\n"
     ]
    }
   ],
   "source": [
    "board = []\n",
    "for x in range(5):\n",
    "    board.append(deck.pop(random.choice(list(deck.keys()))))    \n",
    "print(board)"
   ]
  },
  {
   "cell_type": "code",
   "execution_count": 7,
   "metadata": {},
   "outputs": [
    {
     "name": "stdout",
     "output_type": "stream",
     "text": [
      "Suited! Pays 1:1\n"
     ]
    }
   ],
   "source": [
    "suited = player_hand[0][1] == player_hand[1][1]\n",
    "pair_bonus = {'A': 20, 'K': 8, 'Q': 8, 'J':8, '10':3, '9':3, '8':3, '7':3, '6':3, '5':2,'4':2,'3':2,'2':2}\n",
    "\n",
    "if ((player_hand[0] == 'Ad') or (player_hand[0] == 'Ah')) and ((player_hand[1] == 'Ah') or (player_hand[1] == 'Ad')):\n",
    "    hole_bonus_payout = 50\n",
    "    print(f' RED ACES!!! Pays {hole_bonus_payout}:1')\n",
    "elif ((player_hand[0][0] == 'A') and (player_hand[1][0] == 'K')) or ((player_hand[0][0] == 'K') and (player_hand[1][0] == 'A')):\n",
    "    if suited == True:\n",
    "        hole_bonus_payout = 25\n",
    "        print(f' Big Slick!! Pays {hole_bonus_payout}:1')\n",
    "    else:\n",
    "        hole_bonus_payout = 0\n",
    "        print(\"Sorry, Bonus Bet Lost\")\n",
    "elif player_hand[0][0] == player_hand[1][0]:\n",
    "    pair = player_hand[0][0]\n",
    "    hole_bonus_payout = pair_bonus[player_hand[0][0]]\n",
    "    print(f'Pocket {pair}s! Pays {hole_bonus_payout}:1')\n",
    "elif suited == True:\n",
    "    hole_bonus_payout = 1\n",
    "    print(f'Suited! Pays {hole_bonus_payout}:1')\n",
    "else:\n",
    "    hole_bonus_payout = 0\n",
    "    print(\"Sorry, Bonus Bet Lost\")"
   ]
  },
  {
   "cell_type": "code",
   "execution_count": 8,
   "metadata": {},
   "outputs": [
    {
     "data": {
      "text/plain": [
       "1"
      ]
     },
     "execution_count": 8,
     "metadata": {},
     "output_type": "execute_result"
    }
   ],
   "source": [
    "hole_bonus_payout"
   ]
  },
  {
   "cell_type": "code",
   "execution_count": 9,
   "metadata": {},
   "outputs": [
    {
     "data": {
      "text/plain": [
       "['3h', '4h', 'Ac', '5d', '8h', '4d', 'Jc']"
      ]
     },
     "execution_count": 9,
     "metadata": {},
     "output_type": "execute_result"
    }
   ],
   "source": [
    "final_hand = player_hand + board\n",
    "final_hand"
   ]
  },
  {
   "cell_type": "code",
   "execution_count": 10,
   "metadata": {},
   "outputs": [
    {
     "data": {
      "text/plain": [
       "2"
      ]
     },
     "execution_count": 10,
     "metadata": {},
     "output_type": "execute_result"
    }
   ],
   "source": [
    "suits = []\n",
    "for x in final_hand:\n",
    "    suits.append(x[1])\n",
    "\n",
    "suits.count('c')"
   ]
  },
  {
   "cell_type": "markdown",
   "metadata": {},
   "source": [
    "# Test Hand Cells"
   ]
  },
  {
   "cell_type": "code",
   "execution_count": 97,
   "metadata": {},
   "outputs": [
    {
     "name": "stdout",
     "output_type": "stream",
     "text": [
      "Suited! Pays 1:1\n"
     ]
    }
   ],
   "source": [
    "test_hand = ['6h', '2h']\n",
    "test_board = ['4s', '5c', '8d', '2h', '7h']\n",
    "hole_bonus = {'A': 20, 'K': 8, 'Q': 8, 'J':8, '10':3, '9':3, '8':3, '7':3, '6':3, '5':2,'4':2,'3':2,'2':2}\n",
    "test_suited = test_hand[0][1] == test_hand[1][1]\n",
    "\n",
    "if ((test_hand[0] == 'Ad') or (test_hand[0] == 'Ah')) and ((test_hand[1] == 'Ah') or (test_hand[1] == 'Ad')):\n",
    "    payout = 50\n",
    "    print(f' RED ACES!!! Pays {payout}:1')\n",
    "elif ((test_hand[0][0] == 'A') and (test_hand[1][0] == 'K')) or ((test_hand[0][0] == 'K') and (test_hand[1][0] == 'A')):\n",
    "    if test_suited == True:\n",
    "        payout = 25\n",
    "        print(f' Big Slick!! Pays {payout}:1')\n",
    "    else:\n",
    "        payout = 0\n",
    "        print(\"Sorry, Bonus Bet Lost\")\n",
    "elif test_hand[0][0] == test_hand[1][0]:\n",
    "    pair = test_hand[0][0]\n",
    "    payout = hole_bonus[test_hand[0][0]]\n",
    "    print(f'Pocket {pair}s! Pays {payout}:1')\n",
    "elif test_suited == True:\n",
    "    payout = 1\n",
    "    print(f'Suited! Pays {payout}:1')\n",
    "else:\n",
    "    payout = 0\n",
    "    print(\"Sorry, Bonus Bet Lost\")"
   ]
  },
  {
   "cell_type": "code",
   "execution_count": 98,
   "metadata": {},
   "outputs": [
    {
     "data": {
      "text/plain": [
       "['6h', '2h', '4s', '5c', '8d', '2h', '7h']"
      ]
     },
     "execution_count": 98,
     "metadata": {},
     "output_type": "execute_result"
    }
   ],
   "source": [
    "test_final_hand = test_hand + test_board\n",
    "test_final_hand"
   ]
  },
  {
   "cell_type": "code",
   "execution_count": 105,
   "metadata": {},
   "outputs": [
    {
     "data": {
      "text/plain": [
       "4"
      ]
     },
     "execution_count": 105,
     "metadata": {},
     "output_type": "execute_result"
    }
   ],
   "source": [
    "test_suits = []\n",
    "for x in test_final_hand:\n",
    "    test_suits.append(x[1])\n",
    "\n",
    "test_suits.count('h')"
   ]
  },
  {
   "cell_type": "code",
   "execution_count": 100,
   "metadata": {},
   "outputs": [
    {
     "data": {
      "text/plain": [
       "False"
      ]
     },
     "execution_count": 100,
     "metadata": {},
     "output_type": "execute_result"
    }
   ],
   "source": [
    "def flush_check():\n",
    "    if (test_suits.count('s') >= 5) or (test_suits.count('c') >= 5) or (test_suits.count('d') >= 5) or (test_suits.count('h') >= 5):\n",
    "        return \"Flush\"\n",
    "    return False\n",
    "\n",
    "flush_check()\n",
    "\n",
    "# Create function for each hand type, create one last function to call them all in descending order, return boolean for each function\n",
    "# if/elif to catch first true result\n",
    "\n",
    "# if royal() == True:\n",
    "#     payout = 500\n",
    "#     print(\"ROYAL FLUSH!!!!\")\n",
    "# elif straighFlush == True:\n",
    "#     payout = 100\n",
    "#     print(\"Straight Flush!!!\")\n",
    "# elif ....."
   ]
  },
  {
   "cell_type": "code",
   "execution_count": 101,
   "metadata": {},
   "outputs": [
    {
     "data": {
      "text/plain": [
       "['2', '4', '5', '6', '7', '8']"
      ]
     },
     "execution_count": 101,
     "metadata": {},
     "output_type": "execute_result"
    }
   ],
   "source": [
    "test_values = []\n",
    "for x in test_final_hand:\n",
    "    test_values.append(x[0])\n",
    "\n",
    "dedupe = list(set(test_values))\n",
    "stv = sorted(dedupe)\n",
    "stv\n"
   ]
  },
  {
   "cell_type": "code",
   "execution_count": 102,
   "metadata": {},
   "outputs": [
    {
     "data": {
      "text/plain": [
       "6"
      ]
     },
     "execution_count": 102,
     "metadata": {},
     "output_type": "execute_result"
    }
   ],
   "source": [
    "len(stv)"
   ]
  },
  {
   "cell_type": "code",
   "execution_count": 103,
   "metadata": {},
   "outputs": [
    {
     "name": "stdout",
     "output_type": "stream",
     "text": [
      "Straight in iteration 0\n"
     ]
    }
   ],
   "source": [
    "for i in range (0,len(stv)-4):\n",
    "    if int(stv[len(stv)-1 - i]) - int(stv[len(stv)-5 - i]) == 4:\n",
    "        straight = True\n",
    "        break\n",
    "    else:\n",
    "        straight = False"
   ]
  },
  {
   "cell_type": "code",
   "execution_count": 104,
   "metadata": {},
   "outputs": [
    {
     "data": {
      "text/plain": [
       "True"
      ]
     },
     "execution_count": 104,
     "metadata": {},
     "output_type": "execute_result"
    }
   ],
   "source": [
    "straight"
   ]
  },
  {
   "cell_type": "code",
   "execution_count": null,
   "metadata": {},
   "outputs": [],
   "source": [
    "testing = [x[0] for x in test_final_hand]\n",
    "testing"
   ]
  },
  {
   "cell_type": "code",
   "execution_count": null,
   "metadata": {},
   "outputs": [],
   "source": [
    "# Move FLush Check into main code\n",
    "# Move Straight Check into main code\n"
   ]
  }
 ],
 "metadata": {
  "kernelspec": {
   "display_name": "Python [conda env:PythonData]",
   "language": "python",
   "name": "conda-env-PythonData-py"
  },
  "language_info": {
   "codemirror_mode": {
    "name": "ipython",
    "version": 3
   },
   "file_extension": ".py",
   "mimetype": "text/x-python",
   "name": "python",
   "nbconvert_exporter": "python",
   "pygments_lexer": "ipython3",
   "version": "3.7.1"
  }
 },
 "nbformat": 4,
 "nbformat_minor": 2
}
