{
 "cells": [
  {
   "cell_type": "code",
   "execution_count": 1,
   "metadata": {},
   "outputs": [],
   "source": [
    "import pandas as pd\n",
    "import random\n",
    "import time\n",
    "import operator\n",
    "import collections"
   ]
  },
  {
   "cell_type": "markdown",
   "metadata": {},
   "source": [
    "# Initialize Deck and Value_Dicts"
   ]
  },
  {
   "cell_type": "code",
   "execution_count": 111,
   "metadata": {},
   "outputs": [],
   "source": [
    "# Initialize Deck\n",
    "deck = {1: 'Ah', 2: 'Kh', 3: 'Qh', 4: 'Jh', 5: 'Th', 6: '9h', 7: '8h', 8: '7h',\n",
    "       9: '6h', 10: '5h', 11: '4h', 12: '3h', 13: '2h', 14: 'Ad', 15: 'Kd', 16: 'Qd', 17: 'Jd', 18: 'Td',\n",
    "       19: '9d', 20: '8d', 21: '7d', 22: '6d', 23: '5d', 24: '4d', 25: '3d', 26: '2d', 27: 'Ac', 28: 'Kc', 29: 'Qc', \n",
    "       30: 'Jc', 31: 'Tc', 32: '9c', 33: '8c', 34: '7c', 35:'6c', 36:'5c', 37:'4c', 38:'3c', 39:'2c', 40:'As', 41:'Ks',\n",
    "       42: 'Qs', 43:'Js', 44:'Ts', 45:'9s', 46:'8s', 47:'7s', 48:'6s', 49:'5s', 50:'4s', 51:'3s',52:'2s'}\n",
    "\n",
    "# Look up for String Representation of Value\n",
    "value_dict = {1:'A', 2:'K', 3:'Q', 4:'J', 5:'T', 6:'9', 7:'8', 8:'7', 9:'6', 10:'5', 11:'4', 12:'3', 13:'2', 14:'A'}\n",
    "\n",
    "# Key Value Pairs to determine which card is more \"valuable\" than another\n",
    "cards_to_rank = {'A': 1, 'K': 2, 'Q': 3, 'J': 4, 'T': 5, '9': 6, '8': 7, '7': 8, '6': 9, '5': 10, '4': 11, '3': 12, '2': 13}\n",
    "\n",
    "# Key Value Pairs for Straight Checks\n",
    "straight_to_ranks = {'A': {1, 14}, 'K': {2}, 'Q': {3}, 'J': {4}, 'T': {5}, '9': {6}, '8': {7}, '7': {8}, '6': {9}, '5': {10}, '4': {11}, '3': {12}, '2': {13}}\n",
    "\n",
    "# Straight Flush Dicts\n",
    "res = {1: 'Ah', 2: 'Kh', 3: 'Qh', 4: 'Jh', 5: 'Th', 6: '9h', 7: '8h', 8: '7h',\n",
    "       9: '6h', 10: '5h', 11: '4h', 12: '3h', 13: '2h', 14: 'Ah', 16: 'Ad', 17: 'Kd', 18: 'Qd', 19: 'Jd',\n",
    "       20: 'Td', 21: '9d', 22: '8d', 23: '7d', 24: '6d', 25: '5d', 26: '4d', 27: '3d', 28: '2d', 29: 'Ad', 31: 'Ac', 32: 'Kc', \n",
    "       33: 'Qc', 34: 'Jc', 35: 'Tc', 36: '9c', 37: '8c', 38:'7c', 39:'6c', 40:'5c', 41:'4c', 42: '3c', 43:'2c', 44:'Ac',\n",
    "       46: 'As', 47:'Ks', 48:'Qs', 49:'Js', 50:'Ts', 51:'9s', 52:'8s', 53:'7s', 54:'6s', 55:'5s',56:'4s', 57:'3s', 58:'2s', 59:'As'}\n",
    "\n",
    "sf_dict = {'Ah': {1,14}, 'Kh': {2}, 'Qh': {3}, 'Jh': {4}, 'Th': {5}, '9h': {6}, '8h': {7}, '7h': {8}, '6h': {9}, '5h': {10},\n",
    "           '4h': {11}, '3h': {12}, '2h': {13}, 'Ad': {16, 29}, 'Kd': {17}, 'Qd': {18}, 'Jd': {19}, 'Td': {20}, '9d': {21},\n",
    "           '8d': {22}, '7d': {23}, '6d': {24}, '5d': {25}, '4d': {26}, '3d': {27}, '2d': {28}, 'Ac': {31, 44}, 'Kc': {32},\n",
    "           'Qc': {33}, 'Jc': {34}, 'Tc': {35}, '9c': {36}, '8c': {37}, '7c': {38}, '6c': {39}, '5c': {40}, '4c': {41}, '3c': {42},\n",
    "           '2c': {43}, 'As': {46, 59}, 'Ks': {47}, 'Qs': {48}, 'Js': {49}, 'Ts': {50}, '9s': {51}, '8s': {52}, '7s': {53}, '6s': {54},\n",
    "           '5s': {55}, '4s': {56}, '3s': {57}, '2s': {58}}"
   ]
  },
  {
   "cell_type": "markdown",
   "metadata": {},
   "source": [
    "# Deal Player, Dealer and Board"
   ]
  },
  {
   "cell_type": "code",
   "execution_count": 27,
   "metadata": {},
   "outputs": [
    {
     "name": "stdout",
     "output_type": "stream",
     "text": [
      "Player Has: ['4c', '7h']\n"
     ]
    }
   ],
   "source": [
    "# Declare Player Hand\n",
    "player_hand = []\n",
    "for x in range(2):\n",
    "    player_hand.append(deck.pop(random.choice(list(deck.keys()))))    \n",
    "print(f'Player Has: {player_hand}')\n"
   ]
  },
  {
   "cell_type": "code",
   "execution_count": 28,
   "metadata": {},
   "outputs": [
    {
     "name": "stdout",
     "output_type": "stream",
     "text": [
      "Dealer Has: ['Kh', '5c']\n"
     ]
    }
   ],
   "source": [
    "dealer_hand = []\n",
    "for x in range(2):\n",
    "    dealer_hand.append(deck.pop(random.choice(list(deck.keys()))))    \n",
    "print(f'Dealer Has: {dealer_hand}')"
   ]
  },
  {
   "cell_type": "code",
   "execution_count": 29,
   "metadata": {
    "scrolled": true
   },
   "outputs": [
    {
     "name": "stdout",
     "output_type": "stream",
     "text": [
      "['Ac', '2d', '8s', 'Ad', '7c']\n"
     ]
    }
   ],
   "source": [
    "board = []\n",
    "for x in range(5):\n",
    "    board.append(deck.pop(random.choice(list(deck.keys()))))    \n",
    "print(board)"
   ]
  },
  {
   "cell_type": "markdown",
   "metadata": {},
   "source": [
    "# Evaluate Hole Card Bonus"
   ]
  },
  {
   "cell_type": "code",
   "execution_count": 30,
   "metadata": {},
   "outputs": [
    {
     "name": "stdout",
     "output_type": "stream",
     "text": [
      "Sorry, Bonus Bet Lost\n"
     ]
    },
    {
     "data": {
      "text/plain": [
       "0"
      ]
     },
     "execution_count": 30,
     "metadata": {},
     "output_type": "execute_result"
    }
   ],
   "source": [
    "suited = player_hand[0][1] == player_hand[1][1]\n",
    "pair_bonus = {'A': 20, 'K': 8, 'Q': 8, 'J':8, '10':3, '9':3, '8':3, '7':3, '6':3, '5':2,'4':2,'3':2,'2':2}\n",
    "\n",
    "if ((player_hand[0] == 'Ad') or (player_hand[0] == 'Ah')) and ((player_hand[1] == 'Ah') or (player_hand[1] == 'Ad')):\n",
    "    hole_bonus_payout = 50\n",
    "    print(f' RED ACES!!! Pays {hole_bonus_payout}:1')\n",
    "elif ((player_hand[0][0] == 'A') and (player_hand[1][0] == 'K')) or ((player_hand[0][0] == 'K') and (player_hand[1][0] == 'A')):\n",
    "    if suited == True:\n",
    "        hole_bonus_payout = 25\n",
    "        print(f' Big Slick!! Pays {hole_bonus_payout}:1')\n",
    "    else:\n",
    "        hole_bonus_payout = 0\n",
    "        print(\"Sorry, Bonus Bet Lost\")\n",
    "elif player_hand[0][0] == player_hand[1][0]:\n",
    "    pair = player_hand[0][0]\n",
    "    hole_bonus_payout = pair_bonus[player_hand[0][0]]\n",
    "    print(f'Pocket {pair}s! Pays {hole_bonus_payout}:1')\n",
    "elif suited == True:\n",
    "    hole_bonus_payout = 1\n",
    "    print(f'Suited! Pays {hole_bonus_payout}:1')\n",
    "else:\n",
    "    hole_bonus_payout = 0\n",
    "    print(\"Sorry, Bonus Bet Lost\")\n",
    "    \n",
    "    \n",
    "hole_bonus_payout"
   ]
  },
  {
   "cell_type": "code",
   "execution_count": 31,
   "metadata": {},
   "outputs": [
    {
     "data": {
      "text/plain": [
       "0"
      ]
     },
     "execution_count": 31,
     "metadata": {},
     "output_type": "execute_result"
    }
   ],
   "source": [
    "hole_bonus_payout"
   ]
  },
  {
   "cell_type": "code",
   "execution_count": 32,
   "metadata": {
    "scrolled": true
   },
   "outputs": [
    {
     "data": {
      "text/plain": [
       "['4c', '7h', 'Ac', '2d', '8s', 'Ad', '7c']"
      ]
     },
     "execution_count": 32,
     "metadata": {},
     "output_type": "execute_result"
    }
   ],
   "source": [
    "final_hand = player_hand + board\n",
    "final_hand"
   ]
  },
  {
   "cell_type": "markdown",
   "metadata": {},
   "source": [
    "# Check Quads, Full House, Trips, Two Pair, Pair and High Card"
   ]
  },
  {
   "cell_type": "code",
   "execution_count": 119,
   "metadata": {},
   "outputs": [
    {
     "name": "stdout",
     "output_type": "stream",
     "text": [
      "ROYAL FLUSH!!!\n"
     ]
    }
   ],
   "source": [
    "final_hand = ['Ac', 'Kc', 'Qc', 'Js', 'Jc', 'Tc', '3c', 'Kd', '6c']\n",
    "\n",
    "# Strip suits from cards and set values to a list\n",
    "pairs = []\n",
    "for card in final_hand:\n",
    "    pairs.append(card[0])\n",
    "\n",
    "# Capture the numeric value associated with each key\n",
    "pair_keys = list()\n",
    "for card in pairs:\n",
    "    pair_keys.append(cards_to_rank[card])\n",
    "\n",
    "# Create lists for each hand rank, populated with appropriate keys which will assist in evaluating final hand\n",
    "qk = []\n",
    "fh = []\n",
    "tk = []\n",
    "pk = []\n",
    "hc = []\n",
    "\n",
    "# Set Booleans for hand value to False before flipping to True when appropriate in upcoming loops\n",
    "royal_flush = False\n",
    "straight_flush = False\n",
    "quads = False\n",
    "full_house = False\n",
    "flush = False\n",
    "straight = False\n",
    "trips = False\n",
    "two_pair = False\n",
    "pair = False\n",
    "high_card = False\n",
    "\n",
    "# Royal Flush and Straight Flush Check\n",
    "sf_keys = set()\n",
    "sf_value_keys = set()\n",
    "for card in final_hand:\n",
    "    sf_keys |= sf_dict[card]\n",
    "    sf_value_keys |= straight_to_ranks[card[0]]\n",
    "sf_value_keys = sorted(sf_value_keys)\n",
    "sf_keys = sorted(sf_keys)\n",
    "\n",
    "for idx, value in enumerate(sf_keys):\n",
    "    slice = sf_keys[idx:idx+5]\n",
    "    if len(slice) < 5:\n",
    "        straight_flush = False\n",
    "        break\n",
    "    if slice == list(range(value,value+5)):\n",
    "        straight_flush = True\n",
    "        sf_showdown = [res[value] for value in slice]\n",
    "        break\n",
    "    else:\n",
    "        straight_flush = False\n",
    "        \n",
    "        \n",
    "if straight_flush == True:\n",
    "    for idx, value in enumerate(sf_value_keys):\n",
    "        slice = sf_value_keys[idx:idx+5]\n",
    "        if slice == list(range(value,value+5)):\n",
    "            straight_flush_top_key = value\n",
    "            if straight_flush_top_key == 1:\n",
    "                royal_flush = True\n",
    "                straight_flush_top = value_dict[value]\n",
    "                straight_flush_string = (f'ROYAL FLUSH!!!')\n",
    "                print(straight_flush_string)\n",
    "                straight_flush_showdown = [value_dict[value] for value in slice]\n",
    "                break\n",
    "            else:\n",
    "                royal_flush = False\n",
    "                straight_flush_top = value_dict[value]\n",
    "                straight_flush_string = (f'Straight Flush to the {straight_flush_top}')\n",
    "                print(straight_flush_string)\n",
    "                straight_flush_showdown = [value_dict[value] for value in slice]\n",
    "                break\n",
    "                \n",
    "# Straight Check\n",
    "keys = set()\n",
    "for card in final_hand:\n",
    "    keys |= straight_to_ranks[card[0]]\n",
    "keys = sorted(keys)\n",
    "\n",
    "for idx, value in enumerate(keys):\n",
    "    slice = keys[idx:idx+5]\n",
    "    if len(slice) < 5:\n",
    "        straight = False\n",
    "        break\n",
    "    if slice == list(range(value,value+5)):\n",
    "        straight = True\n",
    "        straight_top_key = value\n",
    "        straight_top = value_dict[value]\n",
    "        straight_string = (f'Straight to the {straight_top}')\n",
    "        straight_showdown = [value_dict[value] for value in slice]\n",
    "        break\n",
    "    else:\n",
    "        straight = False\n",
    "        \n",
    "\n",
    "# Capture frequency counts of each key and append those values to their appropriate lists. Run first level hand assignment\n",
    "for idx, value in enumerate(pair_keys):\n",
    "    if pair_keys.count(value) > 3:\n",
    "        quads = True\n",
    "        qk.append(value)\n",
    "        qk = list(dict.fromkeys(qk))\n",
    "        qk = sorted(qk) \n",
    "        quad_top = qk[0]\n",
    "    elif pair_keys.count(value) == 3:\n",
    "        trips = True\n",
    "        tk.append(value)\n",
    "        tk = list(dict.fromkeys(tk))\n",
    "        tk = sorted(tk)\n",
    "        trip_top = tk[0]\n",
    "    elif pair_keys.count(value) == 2:\n",
    "        pair = True\n",
    "        pk.append(value)\n",
    "        pk = list(dict.fromkeys(pk))\n",
    "        pk = sorted(pk)\n",
    "    elif pair_keys.count(value) == 1:\n",
    "        hc.append(value)\n",
    "        hc = list(dict.fromkeys(hc))\n",
    "        hc = sorted(hc)\n",
    "\n",
    "# Capture \"floating\" values we will need to fill out all of our other hands. These are the \"Kickers\"       \n",
    "hc_top = hc[0]\n",
    "hc1 = value_dict[hc_top]\n",
    "\n",
    "# Create Quad string variabel\n",
    "if quads == True:\n",
    "    quad_string = (f'Quad {value_dict[quad_top]}s over {hc1}')\n",
    "    print(quad_string)\n",
    "\n",
    "# If trips is true, check for full house\n",
    "if trips == True:\n",
    "    if len(tk) > 1:\n",
    "        full_house = True\n",
    "        fh_top = tk[0]\n",
    "        fh_bottom = tk[1]\n",
    "        fh.append(fh_bottom)\n",
    "        fh_string = (f'Full House {value_dict[fh_top]}s over {value_dict[fh_bottom]}s')\n",
    "        print(f'Full House {value_dict[fh_top]}s over {value_dict[fh_bottom]}s')\n",
    "    elif pair == True:\n",
    "        full_house = True\n",
    "        fh_top = tk[0]\n",
    "        fh_bottom = pk[0]\n",
    "        fh.append(fh_bottom)\n",
    "        fh_string = (f'Full House {value_dict[fh_top]}s over {value_dict[fh_bottom]}s')\n",
    "        print(f'Full House {value_dict[fh_top]}s over {value_dict[fh_bottom]}s')        \n",
    "    else:\n",
    "        full_house = False\n",
    "        tk_top = tk[0]\n",
    "        print(f'Sorry, just trip {value_dict[trip_top]}s')\n",
    "\n",
    "# If pair is true, check for two pair, ignore when there is a Full House\n",
    "if pair == True and full_house != True and quads != True and straight_flush != True:\n",
    "    if len(pk) > 1:\n",
    "        two_pair = True\n",
    "        tp_top = pk[0]\n",
    "        tp_bottom = pk[1]\n",
    "        print(f'Two Pair {value_dict[tp_top]}s and {value_dict[tp_bottom]}s')\n",
    "    else:\n",
    "        two_pair = False\n",
    "        p_top = pk[0]\n",
    "        print(f'Pair of {value_dict[p_top]}s with a {hc1} kicker')\n",
    "    \n",
    "if two_pair != True and trips != True and full_house != True and quads != True and straight != True:\n",
    "    hc_two = hc[1]\n",
    "    hc2 = value_dict[hc_two]\n",
    "    hc_three = hc[2]\n",
    "    hc3 = value_dict[hc_three]\n",
    "    hc_four = hc[3]\n",
    "    hc4 = value_dict[hc_four]\n",
    "    hc_five = hc[4]\n",
    "    hc5 = value_dict[hc_five]\n",
    "    \n",
    "if pair != True and two_pair != True and trips != True and straight != True and flush != True and full_house != True and quads != True:\n",
    "    high_card = True\n",
    "    print(f'High Card {hc1}, {hc2}, {hc3}, {hc4}, {hc5}')"
   ]
  },
  {
   "cell_type": "markdown",
   "metadata": {},
   "source": [
    "# Identify Best Hand"
   ]
  },
  {
   "cell_type": "code",
   "execution_count": 121,
   "metadata": {},
   "outputs": [
    {
     "name": "stdout",
     "output_type": "stream",
     "text": [
      "Showdown: ['Ac', 'Kc', 'Qc', 'Jc', 'Tc']\n",
      "Showdown String: ROYAL FLUSH!!!\n",
      "Showdown Top (dict value): 1\n",
      "Showdown Kicker (dict value): 1\n",
      "Showdown Strength: 1\n",
      "Final Hand Bonus: Royal Flush!! Pays 500:1\n"
     ]
    }
   ],
   "source": [
    "# showdown_strength variable will be used to quickly compare player hand to dealer hand to evaluate winner\n",
    "\n",
    "if royal_flush == True:\n",
    "    showdown = sf_showdown\n",
    "    showdown_string = straight_flush_string\n",
    "    showdown_top = straight_flush_top_key\n",
    "    showdown_kicker = straight_flush_top_key\n",
    "    showdown_strength = 1\n",
    "    hand = \"Royal Flush\"\n",
    "    final_hand_bonus = 500\n",
    "elif straight_flush == True:\n",
    "    showdown = sf_showdown\n",
    "    showdown_string = straight_flush_string\n",
    "    showdown_top = straight_flush_top_key\n",
    "    showdown_kicker = straight_flush_top_key\n",
    "    showdown_strength = 2\n",
    "    hand = \"Straight Flush\"\n",
    "    final_hand_bonus = 100\n",
    "elif quads == True:\n",
    "    showdown = [value_dict[quad_top], value_dict[quad_top], value_dict[quad_top], value_dict[quad_top], hc1]\n",
    "    showdown_string = quad_string\n",
    "    showdown_top = quad_top\n",
    "    showdown_kicker = hc_top\n",
    "    showdown_strength = 3\n",
    "    hand = \"Quads\"\n",
    "    final_hand_bonus = 40\n",
    "elif full_house == True:\n",
    "    showdown = [value_dict[fh_top], value_dict[fh_top], value_dict[fh_top], value_dict[fh_bottom], value_dict[fh_bottom]]\n",
    "    showdown_string = fh_string\n",
    "    showdown_top = fh_top\n",
    "    showdown_kicker = fh_bottom\n",
    "    showdown_strength = 4\n",
    "    hand = \"Full House\"\n",
    "    final_hand_bonus = 8\n",
    "elif flush == True:\n",
    "    pass\n",
    "elif straight == True:\n",
    "    showdown = straight_showdown\n",
    "    showdown_string = straight_string\n",
    "    showdown_top = straight_top_key\n",
    "    showdown_kicker = straight_top_key \n",
    "    showdown_strength = 6\n",
    "    hand = \"Straight\"\n",
    "    final_hand_bonus = 4\n",
    "elif trips == True:\n",
    "    showdown = [value_dict[trip_top], value_dict[trip_top], value_dict[trip_top], hc1, hc2]\n",
    "    showdown_string = (f'Trip {value_dict[trip_top]} with {hc1} and {hc2} as kickers')\n",
    "    showdown_top = trip_top\n",
    "    showdown_kicker = hc_top\n",
    "    showdown_kicker_2 = hc_two\n",
    "    showdown_strength = 7\n",
    "    hand = \"Trips\"\n",
    "    final_hand_bonus = 2\n",
    "elif two_pair == True:\n",
    "    showdown = [value_dict[tp_top], value_dict[tp_top], value_dict[tp_bottom], value_dict[tp_bottom], hc1]\n",
    "    showdown_string = (f'Two Pair {value_dict[tp_top]}s and {value_dict[tp_bottom]}s with a(n) {hc1}')\n",
    "    showdown_top = tp_top\n",
    "    showdown_kicker = tp_bottom\n",
    "    showdown_kicker_2 = hc_top\n",
    "    showdown_strength = 8\n",
    "    hand = \"Two Pair\"\n",
    "    final_hand_bonus = 0\n",
    "elif pair == True:\n",
    "    showdown = [value_dict[p_top],value_dict[p_top], hc1, hc2, hc3]\n",
    "    showdown_string = (f'Pair of {value_dict[p_top]}s with a {hc1} kicker')\n",
    "    showdown_top = p_top\n",
    "    showdown_kicker = hc_top\n",
    "    showdown_kicker_2 = hc_two\n",
    "    showdown_kicker_3 = hc_three\n",
    "    showdown_strength = 9\n",
    "    hand = \"Pair\"\n",
    "    final_hand_bonus = 0\n",
    "elif high_card == True:\n",
    "    showdown = [hc1, hc2, hc3, hc4, hc5]\n",
    "    showdown_string = (f'{hc1} High, {hc2} kicker')\n",
    "    showdown_top = hc_top\n",
    "    showdown_kicker = hc_two   \n",
    "    showdown_kicker_2 = hc_three\n",
    "    showdown_kicker_3 = hc_four\n",
    "    showdown_kicker_4 = hc_five\n",
    "    hand = \"High Card\"\n",
    "    final_hand_bonus = 0\n",
    "    \n",
    "print(f'Showdown: {showdown}')\n",
    "print(f'Showdown String: {showdown_string}')\n",
    "print(f'Showdown Top (dict value): {showdown_top}')\n",
    "print(f'Showdown Kicker (dict value): {showdown_kicker}')\n",
    "print(f'Showdown Strength: {showdown_strength}')\n",
    "print(f'Final Hand Bonus: {hand}!! Pays {final_hand_bonus}:1')\n",
    "\n"
   ]
  },
  {
   "cell_type": "code",
   "execution_count": null,
   "metadata": {},
   "outputs": [],
   "source": []
  },
  {
   "cell_type": "code",
   "execution_count": null,
   "metadata": {},
   "outputs": [],
   "source": []
  },
  {
   "cell_type": "code",
   "execution_count": null,
   "metadata": {},
   "outputs": [],
   "source": [
    "\n"
   ]
  },
  {
   "cell_type": "code",
   "execution_count": null,
   "metadata": {},
   "outputs": [],
   "source": []
  },
  {
   "cell_type": "markdown",
   "metadata": {},
   "source": [
    "# Check for Flush"
   ]
  },
  {
   "cell_type": "code",
   "execution_count": 140,
   "metadata": {},
   "outputs": [
    {
     "name": "stdout",
     "output_type": "stream",
     "text": [
      "['Ac', 'Kc', 'Qc', 'Jc', 'Tc', '3c', '6c']\n"
     ]
    }
   ],
   "source": [
    "final_hand = ['Ac', 'Kc', 'Qc', 'Js', 'Jc', 'Tc', '3c', 'Kd', '6c']\n",
    "\n",
    "# Check for flush\n",
    "suits = []\n",
    "for x in final_hand:\n",
    "    suits.append(x[1])\n",
    "\n",
    "if (suits.count('s') >= 5) or (suits.count('c') >= 5) or (suits.count('d') >= 5) or (suits.count('h') >= 5):\n",
    "    flush = True\n",
    "else:\n",
    "    flush = False\n",
    "\n",
    "\n",
    "# If there is a flush, seperate those cards into their own list\n",
    "spades = []\n",
    "clubs = []\n",
    "hearts = []\n",
    "diamonds = []\n",
    "if flush == True:\n",
    "    for card in final_hand:\n",
    "        if card[1] == 'c':\n",
    "            clubs.append(card)\n",
    "        if card[1] == 's':\n",
    "            spades.append(card)\n",
    "        if card[1] == 'd':\n",
    "            diamonds.append(card)\n",
    "        if card[1] == 'h':\n",
    "            hearts.append(card)\n",
    "\n",
    "all_suits = [spades, diamonds, hearts, clubs]\n",
    "all_suits\n",
    "\n",
    "for x in all_suits:\n",
    "    if len(x) > 4:\n",
    "        print(x)\n",
    "\n"
   ]
  },
  {
   "cell_type": "code",
   "execution_count": 10,
   "metadata": {},
   "outputs": [
    {
     "data": {
      "text/plain": [
       "2"
      ]
     },
     "execution_count": 10,
     "metadata": {},
     "output_type": "execute_result"
    }
   ],
   "source": []
  },
  {
   "cell_type": "markdown",
   "metadata": {},
   "source": [
    "# Test Hand Cells"
   ]
  },
  {
   "cell_type": "code",
   "execution_count": 106,
   "metadata": {},
   "outputs": [
    {
     "name": "stdout",
     "output_type": "stream",
     "text": [
      "ROYAL FLUSH!!!\n"
     ]
    }
   ],
   "source": [
    "final_hand = ['5c', '6c', '4c', 'Qc', '2c', 'Ac', '3c', 'Kc', 'Jc', 'Tc']\n",
    "\n",
    "sf_keys = set()\n",
    "sf_value_keys = set()\n",
    "for card in final_hand:\n",
    "    sf_keys |= sf_dict[card]\n",
    "    sf_value_keys |= straight_to_ranks[card[0]]\n",
    "sf_value_keys = sorted(sf_value_keys)\n",
    "sf_keys = sorted(sf_keys)\n",
    "\n",
    "for idx, value in enumerate(sf_keys):\n",
    "    slice = sf_keys[idx:idx+5]\n",
    "    if len(slice) < 5:\n",
    "        straight_flush = False\n",
    "        break\n",
    "    if slice == list(range(value,value+5)):\n",
    "        straight_flush = True\n",
    "        break\n",
    "    else:\n",
    "        straight_flush = False\n",
    "        \n",
    "        \n",
    "if straight_flush == True:\n",
    "    for idx, value in enumerate(sf_value_keys):\n",
    "        slice = sf_value_keys[idx:idx+5]\n",
    "        if slice == list(range(value,value+5)):\n",
    "            straight_flush_top_key = value\n",
    "            if straight_flush_top_key == 1:\n",
    "                royal_flush = True\n",
    "                straight_flush_top = value_dict[value]\n",
    "                straight_flush_string = (f'ROYAL FLUSH!!!')\n",
    "                print(straight_flush_string)\n",
    "                straight_flush_showdown = [value_dict[value] for value in slice]\n",
    "                break\n",
    "            else:\n",
    "                royal_flush = False\n",
    "                straight_flush_top = value_dict[value]\n",
    "                straight_flush_string = (f'Straight Flush to the {straight_flush_top}')\n",
    "                print(straight_flush_string)\n",
    "                straight_flush_showdown = [value_dict[value] for value in slice]\n",
    "                break\n",
    "                \n"
   ]
  },
  {
   "cell_type": "code",
   "execution_count": null,
   "metadata": {
    "scrolled": true
   },
   "outputs": [],
   "source": []
  },
  {
   "cell_type": "code",
   "execution_count": 267,
   "metadata": {},
   "outputs": [],
   "source": [
    "def flush_check():\n",
    "    if (test_suits.count('s') >= 5) or (test_suits.count('c') >= 5) or (test_suits.count('d') >= 5) or (test_suits.count('h') >= 5):\n",
    "        return \"Flush\"\n",
    "    return False\n",
    "\n",
    "flush_check()\n",
    "\n",
    "# Create function for each hand type, create one last function to call them all in descending order, return boolean for each function\n",
    "# if/elif to catch first true result\n",
    "\n",
    "# if royal() == True:\n",
    "#     payout = 500\n",
    "#     print(\"ROYAL FLUSH!!!!\")\n",
    "# elif straighFlush == True:\n",
    "#     payout = 100\n",
    "#     print(\"Straight Flush!!!\")\n",
    "# elif .....\n",
    "\n",
    "\n",
    "# Add dummy values to deck dictionary to seperate suit breaks. Then write check to see if a list of 5 card value keys appear in order\n",
    "# using the same logic as the straight check (this will check for straight flushes. write a version for Royal Flushes which will hardcode keys)"
   ]
  },
  {
   "cell_type": "code",
   "execution_count": 100,
   "metadata": {},
   "outputs": [
    {
     "data": {
      "text/plain": [
       "False"
      ]
     },
     "execution_count": 100,
     "metadata": {},
     "output_type": "execute_result"
    }
   ],
   "source": [
    "def flush_check():\n",
    "    if (test_suits.count('s') >= 5) or (test_suits.count('c') >= 5) or (test_suits.count('d') >= 5) or (test_suits.count('h') >= 5):\n",
    "        return \"Flush\"\n",
    "    return False\n",
    "\n",
    "flush_check()\n",
    "\n",
    "# Create function for each hand type, create one last function to call them all in descending order, return boolean for each function\n",
    "# if/elif to catch first true result\n",
    "\n",
    "# if royal() == True:\n",
    "#     payout = 500\n",
    "#     print(\"ROYAL FLUSH!!!!\")\n",
    "# elif straighFlush == True:\n",
    "#     payout = 100\n",
    "#     print(\"Straight Flush!!!\")\n",
    "# elif ....."
   ]
  },
  {
   "cell_type": "code",
   "execution_count": 23,
   "metadata": {},
   "outputs": [],
   "source": [
    "# Move FLush Check into main code\n",
    "# Move Straight Check into main code\n"
   ]
  }
 ],
 "metadata": {
  "kernelspec": {
   "display_name": "Python [conda env:PythonData]",
   "language": "python",
   "name": "conda-env-PythonData-py"
  },
  "language_info": {
   "codemirror_mode": {
    "name": "ipython",
    "version": 3
   },
   "file_extension": ".py",
   "mimetype": "text/x-python",
   "name": "python",
   "nbconvert_exporter": "python",
   "pygments_lexer": "ipython3",
   "version": "3.7.1"
  }
 },
 "nbformat": 4,
 "nbformat_minor": 2
}
