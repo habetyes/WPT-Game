{
 "cells": [
  {
   "cell_type": "code",
   "execution_count": 1,
   "metadata": {},
   "outputs": [
    {
     "data": {
      "text/plain": [
       "'\\nCounter Function: https://pymotw.com/2/collections/counter.html\\n'"
      ]
     },
     "execution_count": 1,
     "metadata": {},
     "output_type": "execute_result"
    }
   ],
   "source": [
    "import random\n",
    "import operator\n",
    "import collections\n",
    "import time\n",
    "\n",
    "\"\"\"\n",
    "Counter Function: https://pymotw.com/2/collections/counter.html\n",
    "\"\"\""
   ]
  },
  {
   "cell_type": "markdown",
   "metadata": {},
   "source": [
    "# Initialize Deck and Value_Dicts"
   ]
  },
  {
   "cell_type": "code",
   "execution_count": 2,
   "metadata": {},
   "outputs": [],
   "source": [
    "# Initialize Deck\n",
    "deck = {1: 'Ah', 2: 'Kh', 3: 'Qh', 4: 'Jh', 5: 'Th', 6: '9h', 7: '8h', 8: '7h',\n",
    "       9: '6h', 10: '5h', 11: '4h', 12: '3h', 13: '2h', 14: 'Ad', 15: 'Kd', 16: 'Qd', 17: 'Jd', 18: 'Td',\n",
    "       19: '9d', 20: '8d', 21: '7d', 22: '6d', 23: '5d', 24: '4d', 25: '3d', 26: '2d', 27: 'Ac', 28: 'Kc', 29: 'Qc', \n",
    "       30: 'Jc', 31: 'Tc', 32: '9c', 33: '8c', 34: '7c', 35:'6c', 36:'5c', 37:'4c', 38:'3c', 39:'2c', 40:'As', 41:'Ks',\n",
    "       42: 'Qs', 43:'Js', 44:'Ts', 45:'9s', 46:'8s', 47:'7s', 48:'6s', 49:'5s', 50:'4s', 51:'3s',52:'2s'}\n",
    "\n",
    "# Hole Bonus check for pocket pairs\n",
    "pair_bonus = {'A': 20, 'K': 8, 'Q': 8, 'J':8, 'T':3, '9':3, '8':3, '7':3, '6':3, '5':2,'4':2,'3':2,'2':2}\n",
    "\n",
    "# Look up for String Representation of Value\n",
    "value_dict = {1:'A', 2:'K', 3:'Q', 4:'J', 5:'T', 6:'9', 7:'8', 8:'7', 9:'6', 10:'5', 11:'4', 12:'3', 13:'2', 14:'A'}\n",
    "\n",
    "# Key Value Pairs to determine which card is more \"valuable\" than another\n",
    "cards_to_rank = {'A': 1, 'K': 2, 'Q': 3, 'J': 4, 'T': 5, '9': 6, '8': 7, '7': 8, '6': 9, '5': 10, '4': 11, '3': 12, '2': 13}\n",
    "\n",
    "# Key Value Pairs for Straight Checks\n",
    "straight_to_ranks = {'A': {1, 14}, 'K': {2}, 'Q': {3}, 'J': {4}, 'T': {5}, '9': {6}, '8': {7}, '7': {8}, '6': {9}, '5': {10}, '4': {11}, '3': {12}, '2': {13}}\n",
    "\n",
    "# Straight Flush Dicts\n",
    "res = {1: 'Ah', 2: 'Kh', 3: 'Qh', 4: 'Jh', 5: 'Th', 6: '9h', 7: '8h', 8: '7h',\n",
    "       9: '6h', 10: '5h', 11: '4h', 12: '3h', 13: '2h', 14: 'Ah', 16: 'Ad', 17: 'Kd', 18: 'Qd', 19: 'Jd',\n",
    "       20: 'Td', 21: '9d', 22: '8d', 23: '7d', 24: '6d', 25: '5d', 26: '4d', 27: '3d', 28: '2d', 29: 'Ad', 31: 'Ac', 32: 'Kc', \n",
    "       33: 'Qc', 34: 'Jc', 35: 'Tc', 36: '9c', 37: '8c', 38:'7c', 39:'6c', 40:'5c', 41:'4c', 42: '3c', 43:'2c', 44:'Ac',\n",
    "       46: 'As', 47:'Ks', 48:'Qs', 49:'Js', 50:'Ts', 51:'9s', 52:'8s', 53:'7s', 54:'6s', 55:'5s',56:'4s', 57:'3s', 58:'2s', 59:'As'}\n",
    "\n",
    "sf_dict = {'Ah': {1,14}, 'Kh': {2}, 'Qh': {3}, 'Jh': {4}, 'Th': {5}, '9h': {6}, '8h': {7}, '7h': {8}, '6h': {9}, '5h': {10},\n",
    "           '4h': {11}, '3h': {12}, '2h': {13}, 'Ad': {16, 29}, 'Kd': {17}, 'Qd': {18}, 'Jd': {19}, 'Td': {20}, '9d': {21},\n",
    "           '8d': {22}, '7d': {23}, '6d': {24}, '5d': {25}, '4d': {26}, '3d': {27}, '2d': {28}, 'Ac': {31, 44}, 'Kc': {32},\n",
    "           'Qc': {33}, 'Jc': {34}, 'Tc': {35}, '9c': {36}, '8c': {37}, '7c': {38}, '6c': {39}, '5c': {40}, '4c': {41}, '3c': {42},\n",
    "           '2c': {43}, 'As': {46, 59}, 'Ks': {47}, 'Qs': {48}, 'Js': {49}, 'Ts': {50}, '9s': {51}, '8s': {52}, '7s': {53}, '6s': {54},\n",
    "           '5s': {55}, '4s': {56}, '3s': {57}, '2s': {58}}"
   ]
  },
  {
   "cell_type": "markdown",
   "metadata": {},
   "source": [
    "# Deal Player, Dealer and Board"
   ]
  },
  {
   "cell_type": "code",
   "execution_count": 3,
   "metadata": {},
   "outputs": [
    {
     "name": "stdout",
     "output_type": "stream",
     "text": [
      "['7c', '2c']\n",
      "['8s', '9c']\n"
     ]
    }
   ],
   "source": [
    "# Function to deal hand for any number of players\n",
    "def deal_player():\n",
    "    player_hand = []\n",
    "    for x in range(2):\n",
    "        player_hand.append(deck.pop(random.choice(list(deck.keys()))))    \n",
    "#     print(f'Player Has: {player_hand}')\n",
    "    return player_hand\n",
    "\n",
    "# assign hand to player and dealer (should be able to handle multiple players)\n",
    "player_hand = deal_player()\n",
    "dealer_hand = deal_player()\n",
    "\n",
    "print(player_hand)\n",
    "print(dealer_hand)"
   ]
  },
  {
   "cell_type": "code",
   "execution_count": 4,
   "metadata": {},
   "outputs": [],
   "source": [
    "# Deals just the flop\n",
    "def deal_flop():\n",
    "    for x in range(3):\n",
    "        board.append(deck.pop(random.choice(list(deck.keys())))) \n",
    "    return board"
   ]
  },
  {
   "cell_type": "code",
   "execution_count": 5,
   "metadata": {},
   "outputs": [],
   "source": [
    "# Appends the turn card to the board\n",
    "def deal_turn():\n",
    "    turn = deck.pop(random.choice(list(deck.keys())))\n",
    "    global board\n",
    "    board.append(turn)\n",
    "    return board"
   ]
  },
  {
   "cell_type": "code",
   "execution_count": 6,
   "metadata": {},
   "outputs": [],
   "source": [
    "# Appends the river card to the board\n",
    "def deal_river():\n",
    "    river = deck.pop(random.choice(list(deck.keys())))\n",
    "    global board\n",
    "    board.append(river)\n",
    "    return board\n",
    "\n",
    "# deal_river()\n",
    "# board"
   ]
  },
  {
   "cell_type": "code",
   "execution_count": 7,
   "metadata": {},
   "outputs": [
    {
     "name": "stdout",
     "output_type": "stream",
     "text": [
      "['Td', '7h', 'Jh']\n",
      "['Td', '7h', 'Jh', '9h']\n"
     ]
    },
    {
     "data": {
      "text/plain": [
       "['Td', '7h', 'Jh', '9h', '5d']"
      ]
     },
     "execution_count": 7,
     "metadata": {},
     "output_type": "execute_result"
    }
   ],
   "source": [
    "# Calls other functions to deal the full board while adding sleep times to build suspense\n",
    "def deal_game():\n",
    "    deal_flop()\n",
    "    print(board)\n",
    "    time.sleep(1)\n",
    "    deal_turn()\n",
    "    print(board)\n",
    "    time.sleep(1.2)\n",
    "    deal_river()\n",
    "    return board\n",
    "\n",
    "# Have to create empty board list before calling function\n",
    "board = []\n",
    "board = deal_game()\n",
    "board"
   ]
  },
  {
   "cell_type": "code",
   "execution_count": 10,
   "metadata": {},
   "outputs": [
    {
     "name": "stdout",
     "output_type": "stream",
     "text": [
      "Player: ['5d', 'Kd']\n",
      "Dealer: ['Tc', '3s']\n",
      "Board: ['4h', '7d', '2d', '8c', 'Jd']\n"
     ]
    }
   ],
   "source": [
    "print(f'Player: {player_hand}')\n",
    "print(f'Dealer: {dealer_hand}')\n",
    "print(f'Board: {board}')"
   ]
  },
  {
   "cell_type": "code",
   "execution_count": 156,
   "metadata": {},
   "outputs": [],
   "source": [
    "player_hand = ['Ad', 'Ad']\n",
    "dealer_hand = ['Tc', '3s']\n",
    "board = ['8h', '5d', '4s', '6c', '2d', 'Kd']\n"
   ]
  },
  {
   "cell_type": "markdown",
   "metadata": {},
   "source": [
    "# Evaluate Hole Card Bonus"
   ]
  },
  {
   "cell_type": "code",
   "execution_count": 114,
   "metadata": {},
   "outputs": [],
   "source": [
    "# Instantiate boolean values for each hand so they can be referenced in later functions\n",
    "royal_flush = False\n",
    "straight_flush = False\n",
    "quads = False\n",
    "full_house = False\n",
    "flush = False\n",
    "straight = False\n",
    "trips = False\n",
    "two_pair = False\n",
    "pair = False\n",
    "high_card = False"
   ]
  },
  {
   "cell_type": "code",
   "execution_count": 115,
   "metadata": {},
   "outputs": [
    {
     "name": "stdout",
     "output_type": "stream",
     "text": [
      " RED ACES!!! Pays 50:1\n"
     ]
    },
    {
     "data": {
      "text/plain": [
       "50"
      ]
     },
     "execution_count": 115,
     "metadata": {},
     "output_type": "execute_result"
    }
   ],
   "source": [
    "# Single function to evaluate and return hole bonus payout\n",
    "def hole_bonus(hand):\n",
    "    suited = hand[0][1] == hand[1][1]\n",
    "\n",
    "    if ((hand[0] == 'Ad') or (hand[0] == 'Ah')) and ((hand[1] == 'Ah') or (hand[1] == 'Ad')):\n",
    "        hole_bonus_payout = 50\n",
    "        print(f' RED ACES!!! Pays {hole_bonus_payout}:1')\n",
    "    elif ((hand[0][0] == 'A') and (hand[1][0] == 'K')) or ((hand[0][0] == 'K') and (hand[1][0] == 'A')):\n",
    "        if suited == True:\n",
    "            hole_bonus_payout = 25\n",
    "            print(f' Big Slick!! Pays {hole_bonus_payout}:1')\n",
    "        else:\n",
    "            hole_bonus_payout = 0\n",
    "            print(\"Sorry, Bonus Bet Lost\")\n",
    "    elif hand[0][0] == hand[1][0]:\n",
    "        pair = hand[0][0]\n",
    "        hole_bonus_payout = pair_bonus[hand[0][0]]\n",
    "        print(f'Pocket {pair}s! Pays {hole_bonus_payout}:1')\n",
    "    elif suited == True:\n",
    "        hole_bonus_payout = 1\n",
    "        print(f'Suited! Pays {hole_bonus_payout}:1')\n",
    "    else:\n",
    "        hole_bonus_payout = 0\n",
    "        print(\"Sorry, Bonus Bet Lost\")\n",
    "    return hole_bonus_payout\n",
    "\n",
    "hole_bonus(player_hand)\n",
    "# hole_bonus_payout = hole_bonus(player_hand)\n",
    "# hole_bonus_payout"
   ]
  },
  {
   "cell_type": "code",
   "execution_count": 157,
   "metadata": {},
   "outputs": [
    {
     "name": "stdout",
     "output_type": "stream",
     "text": [
      "Player: ['Ad', 'Ad', '8h', '5d', '4s', '6c', '2d', 'Kd']\n",
      "Dealer: ['Tc', '3s', '8h', '5d', '4s', '6c', '2d', 'Kd']\n"
     ]
    }
   ],
   "source": [
    "# Identify final 7 card hand for each player/dealer\n",
    "def showdown_hand(player, board):\n",
    "    final_hand = player + board\n",
    "    return final_hand\n",
    "\n",
    "# call function for various players and assign them to variables to be used in later functions\n",
    "final_hand = showdown_hand(player_hand, board)\n",
    "d_final_hand = showdown_hand(dealer_hand, board)\n",
    "\n",
    "print(f'Player: {final_hand}')\n",
    "print(f'Dealer: {d_final_hand}')"
   ]
  },
  {
   "cell_type": "code",
   "execution_count": 184,
   "metadata": {
    "scrolled": true
   },
   "outputs": [
    {
     "name": "stdout",
     "output_type": "stream",
     "text": [
      "Player Keys: [1, 1, 2, 7, 9, 10, 11, 13]\n",
      "Dealer Keys: [2, 5, 7, 9, 10, 11, 12, 13]\n"
     ]
    }
   ],
   "source": [
    "def get_hand_keys(final_hand):\n",
    "    # Key Value of final hand cards appended to list in order of frequency then value\n",
    "    final_hand_keys = [cards_to_rank[x[0]] for x in final_hand]\n",
    "    counts = collections.Counter(final_hand_keys)\n",
    "    final_hand_keys = sorted(final_hand_keys, key=lambda x: (counts[x], -x), reverse=True)\n",
    "    return final_hand_keys\n",
    "\n",
    "# assign keys to dealer and players in order to compare hand rankings\n",
    "final_hand_keys = get_hand_keys(final_hand)\n",
    "d_final_hand_keys = get_hand_keys(d_final_hand)\n",
    "\n",
    "print(f'Player Keys: {final_hand_keys}')\n",
    "print(f'Dealer Keys: {d_final_hand_keys}')"
   ]
  },
  {
   "cell_type": "code",
   "execution_count": 118,
   "metadata": {
    "scrolled": true
   },
   "outputs": [
    {
     "name": "stdout",
     "output_type": "stream",
     "text": [
      "[1, 10, 14, 16, 17, 26, 28, 29, 32, 42, 43, 56]\n",
      "[1, 2, 10, 11, 12, 13, 14]\n"
     ]
    }
   ],
   "source": [
    "def straight_flush_keys(final_hand):\n",
    "    \"\"\"\n",
    "    Takes in a final hand and outputs key values used to determine whether they have a straight flush\n",
    "    \"\"\"\n",
    "    sf_keys = set()\n",
    "    sf_value_keys = set()\n",
    "    for card in final_hand:\n",
    "        sf_keys |= sf_dict[card]\n",
    "        sf_value_keys |= straight_to_ranks[card[0]]\n",
    "    sf_value_keys = sorted(sf_value_keys)\n",
    "    sf_keys = sorted(sf_keys)\n",
    "    return [sf_keys, sf_value_keys]\n",
    " \n",
    "sf_keys = straight_flush_keys(final_hand)[0]\n",
    "sf_value_keys = straight_flush_keys(final_hand)[1]\n",
    "\n",
    "print(sf_keys)\n",
    "print(sf_value_keys)"
   ]
  },
  {
   "cell_type": "code",
   "execution_count": null,
   "metadata": {},
   "outputs": [],
   "source": [
    "def is_straight_flush(sf_keys):\n",
    "    for idx, value in enumerate(sf_keys):\n",
    "        slice = sf_keys[idx:idx+5]\n",
    "        if len(slice) < 5:\n",
    "            straight_flush = False\n",
    "            break\n",
    "        if slice == list(range(value, value+5)):\n",
    "            straight_flush = True\n",
    "        else:\n",
    "            straight_flush = False\n",
    "    return straight_flush\n",
    "\n"
   ]
  },
  {
   "cell_type": "code",
   "execution_count": 119,
   "metadata": {},
   "outputs": [],
   "source": [
    "def straight_flush_check(sf_keys):\n",
    "    \"\"\"\n",
    "    Takes in keys gathered from straight_flush_keys() and returns boolean eval of straight flush as well as the \n",
    "    straight flush values\n",
    "    \"\"\"\n",
    "    for idx, value in enumerate(sf_keys):\n",
    "        slice = sf_keys[idx:idx+5]\n",
    "        if len(slice) < 5:\n",
    "            straight_flush = False\n",
    "            break\n",
    "        if slice == list(range(value,value+5)):\n",
    "            straight_flush = True\n",
    "            sf_showdown = [res[value] for value in slice]\n",
    "            sf_values = [cards_to_rank[x[0]] for x in sf_showdown]\n",
    "            break\n",
    "        else:\n",
    "            straight_flush = False\n",
    "            sf_values = []\n",
    "    return straight_flush, sf_values\n",
    "\n",
    "# Assign boolean return value to straight_flush variable\n",
    "straight_flush = straight_flush_check(sf_keys)[0]\n",
    "\n",
    "# IF straight_flush is True assign straight_flush keys to list to avoid false positives in royal check\n",
    "if straight_flush == True:\n",
    "    straight_flush_keys = straight_flush_check(sf_keys)[1]"
   ]
  },
  {
   "cell_type": "code",
   "execution_count": 120,
   "metadata": {},
   "outputs": [
    {
     "data": {
      "text/plain": [
       "False"
      ]
     },
     "execution_count": 120,
     "metadata": {},
     "output_type": "execute_result"
    }
   ],
   "source": [
    "straight_flush"
   ]
  },
  {
   "cell_type": "code",
   "execution_count": 165,
   "metadata": {},
   "outputs": [
    {
     "data": {
      "text/plain": [
       "False"
      ]
     },
     "execution_count": 165,
     "metadata": {},
     "output_type": "execute_result"
    }
   ],
   "source": [
    "def is_royal(sf_showdown):\n",
    "    \"\"\"\n",
    "    Takes in straight flush keys and checks against Royal Flush\n",
    "    \"\"\"\n",
    "#     global royal_flush\n",
    "    royal_flush = False\n",
    "    if straight_flush == True:\n",
    "        for idx, value in enumerate(sf_showdown):\n",
    "            slice = sf_value_keys[idx:idx+5]\n",
    "            if slice == list(range(value,value+5)):\n",
    "                straight_flush_top_key = value\n",
    "                if straight_flush_top_key == 1:\n",
    "                    royal_flush = True\n",
    "                    straight_flush_top = value_dict[value]\n",
    "                    straight_flush_string = (f'ROYAL FLUSH!!!')\n",
    "                    print(straight_flush_string)\n",
    "                    straight_flush_showdown = [value_dict[value] for value in slice]\n",
    "                    break\n",
    "                else:\n",
    "                    royal_flush = False\n",
    "                    straight_flush_top = value_dict[value]\n",
    "                    straight_flush_string = (f'Straight Flush to the {straight_flush_top}')\n",
    "                    print(straight_flush_string)\n",
    "                    straight_flush_showdown = [value_dict[value] for value in slice]\n",
    "                    break\n",
    "    return royal_flush\n",
    "\n",
    "is_royal(straight_flush_keys)\n",
    " \n"
   ]
  },
  {
   "cell_type": "code",
   "execution_count": 122,
   "metadata": {
    "scrolled": true
   },
   "outputs": [
    {
     "name": "stdout",
     "output_type": "stream",
     "text": [
      "Player Flush = True\n",
      "Dealer Flush = False\n"
     ]
    }
   ],
   "source": [
    "def is_flush(hand):\n",
    "    c = collections.Counter(x[1] for x in hand)\n",
    "    top_suit = c.most_common(1)[0][1]\n",
    "    if top_suit > 4:\n",
    "        flush = True\n",
    "    else:\n",
    "        flush = False\n",
    "    return flush\n",
    "\n",
    "player_flush = is_flush(final_hand)\n",
    "dealer_flush = is_flush(d_final_hand)\n",
    "print(f'Player Flush = {player_flush}')\n",
    "print(f'Dealer Flush = {dealer_flush}')"
   ]
  },
  {
   "cell_type": "code",
   "execution_count": 123,
   "metadata": {},
   "outputs": [],
   "source": [
    "# Use CLosure to first check for flush, then if flush is true, append keys for just flush cards to new list\n",
    "def flush_check(hand):\n",
    "    \"\"\"\n",
    "    First class function flush_check takes a final hand and uses Counter to check for flushes\n",
    "    \"\"\"\n",
    "    c = collections.Counter(x[1] for x in hand)\n",
    "    suit_count = c.most_common(1)[0][1]\n",
    "    top_suit = c.most_common(1)[0][0]\n",
    "    if suit_count > 4:\n",
    "        flush = True\n",
    "    else:\n",
    "        flush = False\n",
    "    \n",
    "    def flush_keys():\n",
    "        \"\"\"\n",
    "        Closure will append keys from the flush cards when flush is true \n",
    "        \"\"\"\n",
    "        keys = []\n",
    "        if flush == True:\n",
    "            for x in final_hand:\n",
    "                if x[1] == top_suit:\n",
    "                    keys.append(cards_to_rank[x[0]])\n",
    "        keys = sorted(keys)\n",
    "        # Return Keys that can be used later \n",
    "        return keys\n",
    "    \n",
    "    return flush_keys\n",
    "\n",
    "# check for flush and return function that can call flush keys\n",
    "checker = flush_check(final_hand)\n",
    "# applies flush keys return to a variable\n",
    "flush_keys = checker()"
   ]
  },
  {
   "cell_type": "code",
   "execution_count": 124,
   "metadata": {},
   "outputs": [
    {
     "name": "stdout",
     "output_type": "stream",
     "text": [
      "[1, 1, 2, 11, 13]\n"
     ]
    }
   ],
   "source": [
    "if is_flush(final_hand):\n",
    "    flushes = flush_check(final_hand)\n",
    "    flush_keys = flushes()\n",
    "    showdown_strength = 5\n",
    "    print(f'{flush_keys}')"
   ]
  },
  {
   "cell_type": "code",
   "execution_count": 125,
   "metadata": {},
   "outputs": [],
   "source": [
    "def is_straight(hand):\n",
    "    keys = set()\n",
    "    for card in hand:\n",
    "        keys |= straight_to_ranks[card[0]]\n",
    "    keys = sorted(keys)\n",
    "\n",
    "    for idx, value in enumerate(keys):\n",
    "        slice = keys[idx:idx+5]\n",
    "        if len(slice) < 5:\n",
    "            straight = False\n",
    "            break\n",
    "        if slice == list(range(value,value+5)):\n",
    "            straight = True\n",
    "            straight_top_key = value\n",
    "            straight_top = value_dict[value]\n",
    "            break\n",
    "        else:\n",
    "            straight = False\n",
    "            \n",
    "    return straight"
   ]
  },
  {
   "cell_type": "code",
   "execution_count": 126,
   "metadata": {
    "scrolled": true
   },
   "outputs": [],
   "source": [
    "def straight_check(hand):\n",
    "    keys = set()\n",
    "    for card in hand:\n",
    "        keys |= straight_to_ranks[card[0]]\n",
    "    keys = sorted(keys)\n",
    "\n",
    "    for idx, value in enumerate(keys):\n",
    "        slice = keys[idx:idx+5]\n",
    "        if len(slice) < 5:\n",
    "            straight = False\n",
    "            break\n",
    "        if slice == list(range(value,value+5)):\n",
    "            straight = True\n",
    "            straight_top_key = value\n",
    "            straight_top = value_dict[value]\n",
    "            break\n",
    "        else:\n",
    "            straight = False\n",
    "            \n",
    "    def straight_keys():\n",
    "        if straight == True:\n",
    "            return slice\n",
    "            \n",
    "    return straight_keys"
   ]
  },
  {
   "cell_type": "code",
   "execution_count": 127,
   "metadata": {},
   "outputs": [
    {
     "name": "stdout",
     "output_type": "stream",
     "text": [
      "[10, 11, 12, 13, 14]\n"
     ]
    }
   ],
   "source": [
    "if is_straight(final_hand):\n",
    "    straights = straight_check(final_hand)\n",
    "    straight_keys = straights()\n",
    "    showdown_strength = 6\n",
    "    print(f'{straight_keys}')"
   ]
  },
  {
   "cell_type": "code",
   "execution_count": 158,
   "metadata": {},
   "outputs": [
    {
     "data": {
      "text/plain": [
       "[(1, 2), (2, 1), (7, 1), (9, 1), (10, 1), (11, 1), (13, 1)]"
      ]
     },
     "execution_count": 158,
     "metadata": {},
     "output_type": "execute_result"
    }
   ],
   "source": [
    "def common_cards(hand):\n",
    "    \"\"\"Check for common cards to be used in quads, full house, trips and pairs\"\"\"\n",
    "    card_sort = sorted(cards_to_rank[x[0]] for x in hand)\n",
    "    c = collections.Counter([x for x in card_sort])   \n",
    "    common = c.most_common(7)\n",
    "    return common\n",
    "\n",
    "player_pairs = common_cards(final_hand)\n",
    "player_pairs"
   ]
  },
  {
   "cell_type": "code",
   "execution_count": 159,
   "metadata": {},
   "outputs": [
    {
     "data": {
      "text/plain": [
       "False"
      ]
     },
     "execution_count": 159,
     "metadata": {},
     "output_type": "execute_result"
    }
   ],
   "source": [
    "def is_quads(common_card_list):\n",
    "    \"\"\"Receives the result from common_cards function to check for quads\"\"\"\n",
    "    if common_card_list[0][1] > 3:\n",
    "        quads = True\n",
    "    else:\n",
    "        quads = False\n",
    "    return quads\n",
    "\n",
    "is_quads(player_pairs)"
   ]
  },
  {
   "cell_type": "code",
   "execution_count": 179,
   "metadata": {},
   "outputs": [
    {
     "name": "stdout",
     "output_type": "stream",
     "text": [
      " Straight is False\n",
      " Common Cards are [(1, 2), (2, 1), (7, 1), (9, 1), (10, 1), (11, 1), (13, 1)]\n",
      "Full House is True\n",
      "Quads is False\n"
     ]
    }
   ],
   "source": []
  },
  {
   "cell_type": "code",
   "execution_count": 176,
   "metadata": {},
   "outputs": [
    {
     "data": {
      "text/plain": [
       "False"
      ]
     },
     "execution_count": 176,
     "metadata": {},
     "output_type": "execute_result"
    }
   ],
   "source": [
    "def is_full_house(common_card_list):\n",
    "    \"\"\"Receives the result from common_cards function to check for Full House\"\"\"\n",
    "    if common_card_list[0][1] == 3 and common_card_list[1][1] >= 2:\n",
    "        full_house = True\n",
    "    else:\n",
    "        full_house = False\n",
    "    return full_house\n",
    "\n",
    "\n",
    "is_full_house(player_pairs)"
   ]
  },
  {
   "cell_type": "code",
   "execution_count": 161,
   "metadata": {},
   "outputs": [
    {
     "data": {
      "text/plain": [
       "False"
      ]
     },
     "execution_count": 161,
     "metadata": {},
     "output_type": "execute_result"
    }
   ],
   "source": [
    "def is_trips(common_card_list):\n",
    "    \"\"\"Receives the result from common_cards function to check for Trips\"\"\"\n",
    "    if common_card_list[0][1] == 3 and common_card_list[1][1] < 2:\n",
    "        trips = True\n",
    "    else:\n",
    "        trips = False\n",
    "    return trips\n",
    "\n",
    "is_trips(player_pairs)"
   ]
  },
  {
   "cell_type": "code",
   "execution_count": 162,
   "metadata": {},
   "outputs": [
    {
     "data": {
      "text/plain": [
       "False"
      ]
     },
     "execution_count": 162,
     "metadata": {},
     "output_type": "execute_result"
    }
   ],
   "source": [
    "def is_two_pair(common_card_list):\n",
    "    \"\"\"Receives the result from common_cards function to check for Trips\"\"\"\n",
    "    if common_card_list[0][1] == 2 and common_card_list[1][1] == 2:\n",
    "        two_pair = True\n",
    "    else:\n",
    "        two_pair = False\n",
    "    return two_pair\n",
    "\n",
    "is_two_pair(player_pairs)"
   ]
  },
  {
   "cell_type": "code",
   "execution_count": 163,
   "metadata": {},
   "outputs": [
    {
     "data": {
      "text/plain": [
       "True"
      ]
     },
     "execution_count": 163,
     "metadata": {},
     "output_type": "execute_result"
    }
   ],
   "source": [
    "def is_pair(common_card_list):\n",
    "    \"\"\"Receives the result from common_cards function to check for Trips\"\"\"\n",
    "    if common_card_list[0][1] == 2 and common_card_list[1][1] < 2:\n",
    "        pair = True\n",
    "    else:\n",
    "        pair = False\n",
    "    return pair\n",
    "\n",
    "is_pair(player_pairs)"
   ]
  },
  {
   "cell_type": "code",
   "execution_count": 183,
   "metadata": {},
   "outputs": [
    {
     "data": {
      "text/plain": [
       "False"
      ]
     },
     "execution_count": 183,
     "metadata": {},
     "output_type": "execute_result"
    }
   ],
   "source": [
    "def is_high_card(common_card_list):\n",
    "    if common_card_list[0][1] == 1 and common_card_list[1][1] == 1:\n",
    "        high_card = True\n",
    "    else:\n",
    "        high_card = False\n",
    "    return high_card\n",
    "\n",
    "is_high_card(player_pairs)\n"
   ]
  },
  {
   "cell_type": "code",
   "execution_count": null,
   "metadata": {},
   "outputs": [],
   "source": [
    "def test_func(hand):\n",
    "    print(f' Straight is {is_straight(hand)}')\n",
    "    print(f' Common Cards are {common_cards(hand)}')\n",
    "    print(f'Full House is {is_full_house(common)}')\n",
    "    print(f'Quads is {is_quads(common)}')\n",
    "    return\n",
    "\n",
    "test_func(final_hand)"
   ]
  },
  {
   "cell_type": "code",
   "execution_count": null,
   "metadata": {},
   "outputs": [],
   "source": []
  },
  {
   "cell_type": "code",
   "execution_count": null,
   "metadata": {},
   "outputs": [],
   "source": []
  },
  {
   "cell_type": "markdown",
   "metadata": {},
   "source": [
    "# Identify Best Player Hand"
   ]
  },
  {
   "cell_type": "code",
   "execution_count": 62,
   "metadata": {},
   "outputs": [
    {
     "name": "stdout",
     "output_type": "stream",
     "text": [
      "Showdown: ['J', 'J', 'J', '4', '4']\n",
      "Showdown String: Full House Js over 4s\n",
      "Showdown Top (dict value): 4\n",
      "Showdown Kicker (dict value): 11\n",
      "Showdown Strength: 4\n",
      "Final Hand Bonus: Full House!! Pays 8:1\n"
     ]
    }
   ],
   "source": [
    "# To check for best possible hand use while loop with breaks\n",
    "showdown_strength = 0\n",
    "while showdown_strength == 0:\n",
    "    if is_royal(final_hand):\n",
    "        showdown_strength = 1\n",
    "        final_hand_bonus = 500\n",
    "        break\n",
    "    elif is_straight_flush(final_hand):\n",
    "        showdown_strength = 2\n",
    "        final_hand_bonus = 100\n",
    "        break\n",
    "    elif is_quads(final_hand)\n",
    "\n",
    "\n",
    "# showdown_strength variable will be used to quickly compare player hand to dealer hand to evaluate winner\n",
    "showdown_kicker = 99\n",
    "showdown_kicker_2 = 99\n",
    "showdown_kicker_3 = 99\n",
    "showdown_kicker_4 = 99\n",
    "\n",
    "\n",
    "if royal_flush == True:\n",
    "    showdown = sf_showdown\n",
    "    showdown_string = straight_flush_string\n",
    "    showdown_top = straight_flush_top_key\n",
    "    showdown_kicker = straight_flush_top_key\n",
    "    showdown_strength = 1\n",
    "    hand = \"Royal Flush\"\n",
    "    final_hand_bonus = 500\n",
    "elif straight_flush == True:\n",
    "    showdown = sf_showdown\n",
    "    showdown_string = straight_flush_string\n",
    "    showdown_top = straight_flush_top_key\n",
    "    showdown_kicker = straight_flush_top_key\n",
    "    showdown_strength = 2\n",
    "    hand = \"Straight Flush\"\n",
    "    final_hand_bonus = 100\n",
    "elif quads == True:\n",
    "    showdown_top = quad_top\n",
    "    showdown_string = (f'Quad {showdown_top}s with a {value_dict[final_hand_keys[4]]} Kicker')\n",
    "    showdown_kicker = final_hand_keys[4]\n",
    "    showdown = [value_dict[quad_top], value_dict[quad_top], value_dict[quad_top], value_dict[quad_top], value_dict[showdown_kicker]]\n",
    "    showdown_strength = 3\n",
    "    hand = \"Quads\"\n",
    "    final_hand_bonus = 40\n",
    "elif full_house == True:\n",
    "    showdown = [value_dict[fh_top], value_dict[fh_top], value_dict[fh_top], value_dict[fh_bottom], value_dict[fh_bottom]]\n",
    "    showdown_string = fh_string\n",
    "    showdown_top = fh_top\n",
    "    showdown_kicker = fh_bottom\n",
    "    showdown_strength = 4\n",
    "    hand = \"Full House\"\n",
    "    final_hand_bonus = 8\n",
    "elif flush == True:\n",
    "    showdown = flush_showdown\n",
    "    showdown_string = (f'{flush_showdown[0]} high flush!')\n",
    "    showdown_top = flush_hand[0]\n",
    "    showdown_kicker = flush_hand[1]\n",
    "    showdown_kicker_2 = flush_hand[2]\n",
    "    showdown_kicker_3 = flush_hand[3]\n",
    "    showdown_kicker_4 = flush_hand[4]\n",
    "    showdown_strength = 5\n",
    "    hand = \"Flush\"\n",
    "    final_hand_bonus = 6\n",
    "elif straight == True:\n",
    "    showdown = straight_showdown\n",
    "    showdown_string = straight_string\n",
    "    showdown_top = straight_top_key\n",
    "    showdown_kicker = straight_top_key \n",
    "    showdown_strength = 6\n",
    "    hand = \"Straight\"\n",
    "    final_hand_bonus = 4\n",
    "elif trips == True:\n",
    "    showdown_top = trip_top\n",
    "    showdown_kicker = final_hand_keys[3]\n",
    "    showdown_kicker_2 = final_hand_keys[4]\n",
    "    showdown = [value_dict[trip_top], value_dict[trip_top], value_dict[trip_top], value_dict[showdown_kicker], value_dict[showdown_kicker_2]]\n",
    "    showdown_string = (f'Trip {value_dict[trip_top]} with {value_dict[showdown_kicker]} and {value_dict[showdown_kicker_2]} as kickers')\n",
    "    showdown_strength = 7\n",
    "    hand = \"Trips\"\n",
    "    final_hand_bonus = 2\n",
    "elif two_pair == True:\n",
    "    showdown_top = tp_top\n",
    "    showdown_kicker = tp_bottom\n",
    "    showdown_kicker_2 = final_hand_keys[4]\n",
    "    showdown = [value_dict[tp_top], value_dict[tp_top], value_dict[tp_bottom], value_dict[tp_bottom], value_dict[showdown_kicker_2]]\n",
    "    showdown_string = (f'Two Pair {value_dict[tp_top]}s and {value_dict[tp_bottom]}s with a(n) {value_dict[showdown_kicker_2]}')\n",
    "    showdown_strength = 8\n",
    "    hand = \"Two Pair\"\n",
    "    final_hand_bonus = 0\n",
    "elif pair == True:\n",
    "    showdown = [value_dict[p_top],value_dict[p_top], hc1, hc2, hc3]\n",
    "    showdown_string = (f'Pair of {value_dict[p_top]}s with a {hc1} kicker')\n",
    "    showdown_top = p_top\n",
    "    showdown_kicker = hc_top\n",
    "    showdown_kicker_2 = hc_two\n",
    "    showdown_kicker_3 = hc_three\n",
    "    showdown_strength = 9\n",
    "    hand = \"Pair\"\n",
    "    final_hand_bonus = 0\n",
    "elif high_card == True:\n",
    "    showdown = [hc1, hc2, hc3, hc4, hc5]\n",
    "    showdown_string = (f'{hc1} High, {hc2} kicker')\n",
    "    showdown_top = hc_top\n",
    "    showdown_kicker = hc_two   \n",
    "    showdown_kicker_2 = hc_three\n",
    "    showdown_kicker_3 = hc_four\n",
    "    showdown_kicker_4 = hc_five\n",
    "    showdown_strength = 10\n",
    "    hand = \"High Card\"\n",
    "    final_hand_bonus = 0\n",
    "    \n",
    "print(f'Showdown: {showdown}')\n",
    "print(f'Showdown String: {showdown_string}')\n",
    "print(f'Showdown Top (dict value): {showdown_top}')\n",
    "print(f'Showdown Kicker (dict value): {showdown_kicker}')\n",
    "print(f'Showdown Strength: {showdown_strength}')\n",
    "print(f'Final Hand Bonus: {hand}!! Pays {final_hand_bonus}:1')\n",
    "\n"
   ]
  },
  {
   "cell_type": "markdown",
   "metadata": {},
   "source": [
    "# Evaluate Dealer Hand"
   ]
  },
  {
   "cell_type": "code",
   "execution_count": 66,
   "metadata": {
    "scrolled": true
   },
   "outputs": [
    {
     "name": "stdout",
     "output_type": "stream",
     "text": [
      "Full House Js over Ts\n"
     ]
    },
    {
     "data": {
      "text/plain": [
       "2"
      ]
     },
     "execution_count": 66,
     "metadata": {},
     "output_type": "execute_result"
    }
   ],
   "source": [
    "# Key Value of final hand cards appended to list in order of frequency then value\n",
    "d_final_hand_keys = [cards_to_rank[x[0]] for x in d_final_hand]\n",
    "counts = collections.Counter(d_final_hand_keys)\n",
    "d_final_hand_keys = sorted(d_final_hand_keys, key=lambda x: (counts[x], -x), reverse=True)\n",
    "\n",
    "# Strip suits from cards and set values to a list\n",
    "d_pairs = []\n",
    "for card in d_final_hand:\n",
    "    d_pairs.append(card[0])\n",
    "\n",
    "# Capture the numeric value associated with each key\n",
    "d_pair_keys = list()\n",
    "for card in d_pairs:\n",
    "    d_pair_keys.append(cards_to_rank[card])\n",
    "\n",
    "# Create lists for each hand rank, populated with appropriate keys which will assist in evaluating final hand\n",
    "d_qk = []\n",
    "d_fh = []\n",
    "d_tk = []\n",
    "d_pk = []\n",
    "d_hc = []\n",
    "\n",
    "# Set Booleans for hand value to False before flipping to True when appropriate in upcoming loops\n",
    "d_royal_flush = False\n",
    "d_straight_flush = False\n",
    "d_quads = False\n",
    "d_full_house = False\n",
    "d_flush = False\n",
    "d_straight = False\n",
    "d_trips = False\n",
    "d_two_pair = False\n",
    "d_pair = False\n",
    "d_high_card = False\n",
    "\n",
    "# Royal Flush and Straight Flush Check\n",
    "d_sf_keys = set()\n",
    "d_sf_value_keys = set()\n",
    "for card in d_final_hand:\n",
    "    d_sf_keys |= sf_dict[card]\n",
    "    d_sf_value_keys |= straight_to_ranks[card[0]]\n",
    "d_sf_value_keys = sorted(d_sf_value_keys)\n",
    "d_sf_keys = sorted(d_sf_keys)\n",
    "\n",
    "for idx, value in enumerate(d_sf_keys):\n",
    "    slice = d_sf_keys[idx:idx+5]\n",
    "    if len(slice) < 5:\n",
    "        d_straight_flush = False\n",
    "        break\n",
    "    if slice == list(range(value,value+5)):\n",
    "        d_straight_flush = True\n",
    "        d_sf_showdown = [res[value] for value in slice]\n",
    "        break\n",
    "    else:\n",
    "        d_straight_flush = False\n",
    "        \n",
    "        \n",
    "if d_straight_flush == True:\n",
    "    for idx, value in enumerate(d_sf_value_keys):\n",
    "        slice = d_sf_value_keys[idx:idx+5]\n",
    "        if slice == list(range(value,value+5)):\n",
    "            d_straight_flush_top_key = value\n",
    "            if d_straight_flush_top_key == 1:\n",
    "                d_royal_flush = True\n",
    "                d_straight_flush_top = value_dict[value]\n",
    "                d_straight_flush_string = (f'ROYAL FLUSH!!!')\n",
    "                print(d_straight_flush_string)\n",
    "                d_straight_flush_showdown = [value_dict[value] for value in slice]\n",
    "                break\n",
    "            else:\n",
    "                d_royal_flush = False\n",
    "                d_straight_flush_top = value_dict[value]\n",
    "                d_straight_flush_string = (f'Straight Flush to the {d_straight_flush_top}')\n",
    "                print(d_straight_flush_string)\n",
    "                d_straight_flush_showdown = [value_dict[value] for value in slice]\n",
    "                break\n",
    "\n",
    "# FLUSH CHECK\n",
    "# Check for flush\n",
    "d_suits = []\n",
    "for x in d_final_hand:\n",
    "    d_suits.append(x[1])\n",
    "\n",
    "if (d_suits.count('s') >= 5) or (d_suits.count('c') >= 5) or (d_suits.count('d') >= 5) or (d_suits.count('h') >= 5):\n",
    "    d_flush = True\n",
    "else:\n",
    "    d_flush = False\n",
    "\n",
    "# If there is a flush, seperate those cards into their own list\n",
    "if d_flush == True:\n",
    "    d_spades = []\n",
    "    d_clubs = []\n",
    "    d_hearts = []\n",
    "    d_diamonds = []\n",
    "    d_flush_hand = []\n",
    "    d_flush_string = []\n",
    "    for card in d_final_hand:\n",
    "        if card[1] == 'c':\n",
    "            d_clubs.append(card)\n",
    "        if card[1] == 's':\n",
    "            d_spades.append(card)\n",
    "        if card[1] == 'd':\n",
    "            d_diamonds.append(card)\n",
    "        if card[1] == 'h':\n",
    "            d_hearts.append(card)\n",
    "    d_all_suits = [d_spades, d_diamonds, d_hearts, d_clubs]\n",
    "    for x in d_all_suits:\n",
    "        if len(x) > 4:\n",
    "            for idx, value in x:\n",
    "                d_flush_hand.append(cards_to_rank[idx])        \n",
    "    d_flush_hand = sorted(d_flush_hand)\n",
    "    d_flush_hand = d_flush_hand[0:5]\n",
    "    d_flush_showdown = [value_dict[x] for x in d_flush_hand]\n",
    "\n",
    "# Straight Check\n",
    "d_keys = set()\n",
    "for card in d_final_hand:\n",
    "    d_keys |= straight_to_ranks[card[0]]\n",
    "d_keys = sorted(d_keys)\n",
    "\n",
    "for idx, value in enumerate(d_keys):\n",
    "    slice = d_keys[idx:idx+5]\n",
    "    if len(slice) < 5:\n",
    "        d_straight = False\n",
    "        break\n",
    "    if slice == list(range(value,value+5)):\n",
    "        d_straight = True\n",
    "        d_straight_top_key = value\n",
    "        d_straight_top = value_dict[value]\n",
    "        d_straight_string = (f'Straight to the {d_straight_top}')\n",
    "        d_straight_showdown = [value_dict[value] for value in slice]\n",
    "        break\n",
    "    else:\n",
    "        d_straight = False\n",
    "        \n",
    "\n",
    "# Capture frequency counts of each key and append those values to their appropriate lists. Run first level hand assignment\n",
    "for idx, value in enumerate(d_pair_keys):\n",
    "    if d_pair_keys.count(value) > 3:\n",
    "        d_quads = True\n",
    "        d_qk.append(value)\n",
    "        d_qk = list(dict.fromkeys(d_qk))\n",
    "        d_qk = sorted(d_qk) \n",
    "        d_quad_top = d_qk[0]\n",
    "    elif d_pair_keys.count(value) == 3:\n",
    "        d_trips = True\n",
    "        d_tk.append(value)\n",
    "        d_tk = list(dict.fromkeys(d_tk))\n",
    "        d_tk = sorted(d_tk)\n",
    "        d_trip_top = d_tk[0]\n",
    "    elif d_pair_keys.count(value) == 2:\n",
    "        d_pair = True\n",
    "        d_pk.append(value)\n",
    "        d_pk = list(dict.fromkeys(d_pk))\n",
    "        d_pk = sorted(d_pk)\n",
    "    elif d_pair_keys.count(value) == 1:\n",
    "        d_hc.append(value)\n",
    "        d_hc = list(dict.fromkeys(d_hc))\n",
    "        d_hc = sorted(d_hc)\n",
    "\n",
    "\n",
    "# If trips is true, check for full house\n",
    "if d_trips == True:\n",
    "    if len(d_tk) > 1:\n",
    "        d_full_house = True\n",
    "        d_fh_top = d_tk[0]\n",
    "        d_fh_bottom = d_tk[1]\n",
    "        d_fh.append(d_fh_bottom)\n",
    "        d_fh_string = (f'Full House {value_dict[d_fh_top]}s over {value_dict[d_fh_bottom]}s')\n",
    "        print(f'Full House {value_dict[d_fh_top]}s over {value_dict[d_fh_bottom]}s')\n",
    "    elif d_pair == True:\n",
    "        d_full_house = True\n",
    "        d_fh_top = d_tk[0]\n",
    "        d_fh_bottom = d_pk[0]\n",
    "        d_fh.append(d_fh_bottom)\n",
    "        d_fh_string = (f'Full House {value_dict[d_fh_top]}s over {value_dict[d_fh_bottom]}s')\n",
    "        print(f'Full House {value_dict[d_fh_top]}s over {value_dict[d_fh_bottom]}s')        \n",
    "    else:\n",
    "        d_full_house = False\n",
    "        d_tk_top = d_tk[0]\n",
    "        print(f'Sorry, just trip {value_dict[d_trip_top]}s')\n",
    "\n",
    "# If pair is true, check for two pair, ignore when there is a Full House\n",
    "# if d_pair == True and d_straight != True and d_flush != True and d_full_house != True and d_quads != True and d_straight_flush != True:\n",
    "    if len(d_pk) > 1:\n",
    "        d_two_pair = True\n",
    "        d_tp_top = d_pk[0]\n",
    "        d_tp_bottom = d_pk[1]\n",
    "        print(f'Two Pair {value_dict[d_tp_top]}s and {value_dict[d_tp_bottom]}s')\n",
    "    else:\n",
    "        d_two_paid_r = False\n",
    "        d_p_top = d_pk[0]\n",
    "        print(f'Pair of {value_dict[d_p_top]}s with a {d_hc1} kicker')\n",
    "    \n",
    "if d_two_pair != True and d_trips != True and d_full_house != True and d_quads != True and d_straight != True and d_flush != True:\n",
    "    d_hc_top = d_hc[0]\n",
    "    d_hc1 = value_dict[d_hc_top]\n",
    "    d_hc_two = d_hc[1]\n",
    "    d_hc2 = value_dict[d_hc_two]\n",
    "    d_hc_three = d_hc[2]\n",
    "    d_hc3 = value_dict[d_hc_three]\n",
    "    d_hc_four = d_hc[3]\n",
    "    d_hc4 = value_dict[d_hc_four]\n",
    "    d_hc_five = d_hc[4]\n",
    "    d_hc5 = value_dict[d_hc_five]\n",
    "    \n",
    "if d_pair != True and d_two_pair != True and d_trips != True and d_straight != True and d_flush != True and d_full_house != True and d_quads != True:\n",
    "    d_high_card = True\n",
    "    print(f'High Card {d_hc1}, {d_hc2}, {d_hc3}, {d_hc4}, {d_hc5}')\n",
    "    \n",
    "    \n",
    "print(d_pair_keys)\n",
    "print(d_final_hand_keys)\n"
   ]
  },
  {
   "cell_type": "code",
   "execution_count": null,
   "metadata": {},
   "outputs": [],
   "source": [
    "# showdown_strength variable will be used to quickly compare player hand to dealer hand to evaluate winner\n",
    "d_showdown_kicker = 99\n",
    "d_showdown_kicker_2 = 99\n",
    "d_showdown_kicker_3 = 99\n",
    "d_showdown_kicker_4 = 99\n",
    "\n",
    "\n",
    "if d_royal_flush == True:\n",
    "    d_showdown = d_sf_showdown\n",
    "    d_showdown_string = d_straight_flush_string\n",
    "    d_showdown_top = d_straight_flush_top_key\n",
    "    d_showdown_kicker = d_straight_flush_top_key\n",
    "    d_showdown_strength = 1\n",
    "    d_hand = \"Royal Flush\"\n",
    "    d_final_hand_bonus = 500\n",
    "elif d_straight_flush == True:\n",
    "    d_showdown = d_sf_showdown\n",
    "    d_showdown_string = d_straight_flush_string\n",
    "    d_showdown_top = d_straight_flush_top_key\n",
    "    d_showdown_kicker = d_straight_flush_top_key\n",
    "    d_showdown_strength = 2\n",
    "    d_hand = \"Straight Flush\"\n",
    "    d_final_hand_bonus = 100\n",
    "elif d_quads == True:\n",
    "    d_showdown_top = d_quad_top\n",
    "    d_showdown_string = (f'Quad {d_showdown_top}s with a {value_dict[d_final_hand_keys[4]]} Kicker')\n",
    "    d_showdown_kicker = d_final_hand_keys[4]\n",
    "    d_showdown = [value_dict[d_quad_top], value_dict[d_quad_top], value_dict[d_quad_top], value_dict[d_quad_top], value_dict[d_showdown_kicker]]\n",
    "    d_showdown_strength = 3\n",
    "    d_hand = \"Quads\"\n",
    "    d_final_hand_bonus = 40\n",
    "elif d_full_house == True:\n",
    "    d_showdown = [value_dict[d_fh_top], value_dict[d_fh_top], value_dict[d_fh_top], value_dict[d_fh_bottom], value_dict[d_fh_bottom]]\n",
    "    d_showdown_string = d_fh_string\n",
    "    d_showdown_top = d_fh_top\n",
    "    d_showdown_kicker = d_fh_bottom\n",
    "    d_showdown_strength = 4\n",
    "    d_hand = \"Full House\"\n",
    "    d_final_hand_bonus = 8\n",
    "elif d_flush == True:\n",
    "    d_showdown = d_flush_showdown\n",
    "    d_showdown_string = (f'{d_flush_showdown[0]} high flush!')\n",
    "    d_showdown_top = d_flush_hand[0]\n",
    "    d_showdown_kicker = d_flush_hand[1]\n",
    "    d_showdown_kicker_2 = d_flush_hand[2]\n",
    "    d_showdown_kicker_3 = d_flush_hand[3]\n",
    "    d_showdown_kicker_4 = d_flush_hand[4]\n",
    "    d_showdown_strength = 5\n",
    "    d_hand = \"Flush\"\n",
    "    d_final_hand_bonus = 6\n",
    "elif d_straight == True:\n",
    "    d_showdown = d_straight_showdown\n",
    "    d_showdown_string = d_straight_string\n",
    "    d_showdown_top = d_straight_top_key\n",
    "    d_showdown_kicker = d_straight_top_key \n",
    "    d_showdown_strength = 6\n",
    "    d_hand = \"Straight\"\n",
    "    d_final_hand_bonus = 4\n",
    "elif d_trips == True:\n",
    "    d_showdown_top = d_trip_top\n",
    "    d_showdown_kicker = d_final_hand_keys[3]\n",
    "    d_showdown_kicker_2 = d_final_hand_keys[4]\n",
    "    d_showdown = [value_dict[d_trip_top], value_dict[d_trip_top], value_dict[d_trip_top], value_dict[d_showdown_kicker], value_dict[d_showdown_kicker_2]]\n",
    "    d_showdown_string = (f'Trip {value_dict[d_trip_top]} with {value_dict[d_showdown_kicker]} and {value_dict[d_showdown_kicker_2]} as kickers')\n",
    "    d_showdown_strength = 7\n",
    "    d_hand = \"Trips\"\n",
    "    d_final_hand_bonus = 2\n",
    "elif d_two_pair == True:\n",
    "    d_showdown_top = d_tp_top\n",
    "    d_showdown_kicker = d_tp_bottom\n",
    "    d_showdown_kicker_2 = d_final_hand_keys[4]\n",
    "    d_showdown = [value_dict[d_tp_top], value_dict[d_tp_top], value_dict[d_tp_bottom], value_dict[d_tp_bottom], value_dict[d_showdown_kicker_2]]\n",
    "    d_showdown_string = (f'Two Pair {value_dict[d_tp_top]}s and {value_dict[d_tp_bottom]}s with a(n) {value_dict[d_showdown_kicker_2]}')\n",
    "    d_showdown_strength = 8\n",
    "    d_hand = \"Two Pair\"\n",
    "    d_final_hand_bonus = 0\n",
    "elif d_pair == True:\n",
    "    d_showdown = [value_dict[d_p_top],value_dict[d_p_top], d_hc1, d_hc2, d_hc3]\n",
    "    d_showdown_string = (f'Pair of {value_dict[d_p_top]}s with a {d_hc1} kicker')\n",
    "    d_showdown_top = d_p_top\n",
    "    d_showdown_kicker = d_hc_top\n",
    "    d_showdown_kicker_2 = d_hc_two\n",
    "    d_showdown_kicker_3 = d_hc_three\n",
    "    d_showdown_strength = 9\n",
    "    d_hand = \"Pair\"\n",
    "    d_final_hand_bonus = 0\n",
    "elif d_high_card == True:\n",
    "    d_showdown = [d_hc1, d_hc2, d_hc3, d_hc4, d_hc5]\n",
    "    d_showdown_string = (f'{d_hc1} High, {d_hc2} kicker')\n",
    "    d_showdown_top = d_hc_top\n",
    "    d_showdown_kicker = d_hc_two   \n",
    "    d_showdown_kicker_2 = d_hc_three\n",
    "    d_showdown_kicker_3 = d_hc_four\n",
    "    d_showdown_kicker_4 = d_hc_five\n",
    "    d_showdown_strength = 10\n",
    "    d_hand = \"High Card\"\n",
    "    d_final_hand_bonus = 0\n",
    "    \n",
    "print(f'Dealer Showdown: {d_showdown}')\n",
    "print(f'Dealer Showdown String: {d_showdown_string}')\n",
    "print(f'Dealer Showdown Top (dict value): {d_showdown_top}')\n",
    "print(f'Dealer Showdown Kicker (dict value): {d_showdown_kicker}')\n",
    "print(f'Dealer Showdown Strength: {d_showdown_strength}')\n",
    "print(f'Dealer Final Hand Bonus: {d_hand}!! Pays {d_final_hand_bonus}:1')\n",
    "\n"
   ]
  },
  {
   "cell_type": "markdown",
   "metadata": {},
   "source": [
    "# Evaluate Winner between Dealer and Player"
   ]
  },
  {
   "cell_type": "code",
   "execution_count": null,
   "metadata": {},
   "outputs": [],
   "source": [
    "print(final_hand)\n",
    "print(d_final_hand)\n",
    "push = False\n",
    "\n",
    "def player_win_string():\n",
    "    print(f'Player Wins with {showdown_string}')\n",
    "    print(f'Dealer had {d_showdown_string}')\n",
    "    pass\n",
    "\n",
    "def dealer_win_string():\n",
    "    print(f'Dealer Wins with {d_showdown_string}')\n",
    "    print(f'Player had {showdown_string}')\n",
    "    pass\n",
    "\n",
    "if showdown_strength < d_showdown_strength:\n",
    "    winner = True\n",
    "elif showdown_strength > d_showdown_strength:\n",
    "    winner = False\n",
    "elif showdown_strength == d_showdown_strength:\n",
    "    if showdown_top < d_showdown_top:\n",
    "        winner = True\n",
    "    elif showdown_top > d_showdown_top:\n",
    "        winner = False\n",
    "    elif showdown_top == d_showdown_top:    \n",
    "        if showdown_kicker < d_showdown_kicker:\n",
    "            winner = True\n",
    "        elif showdown_kicker > d_showdown_kicker:\n",
    "            winner = False\n",
    "        elif showdown_kicker == d_showdown_kicker:\n",
    "                if showdown_kicker_2 < d_showdown_kicker_2:\n",
    "                    winner = True\n",
    "                elif showdown_kicker_2 > d_showdown_kicker_2:\n",
    "                    winner = False\n",
    "                elif showdown_kicker_2 == d_showdown_kicker_2:\n",
    "                                if showdown_kicker_3 < d_showdown_kicker_3:\n",
    "                                    winner = True\n",
    "                                elif showdown_kicker_3 > d_showdown_kicker_3:\n",
    "                                    winner = False\n",
    "                                elif showdown_kicker_3 == d_showdown_kicker_3:\n",
    "                                    if showdown_kicker_4 < d_showdown_kicker_4:\n",
    "                                        winner = True\n",
    "                                    elif showdown_kicker_4 > d_showdown_kicker_4:\n",
    "                                        winner = False\n",
    "                                    else:\n",
    "                                        push = True\n",
    "\n",
    "if push == True:\n",
    "    print(\"Push\")\n",
    "elif winner == True:\n",
    "    player_win_string()\n",
    "elif winner == False:\n",
    "    dealer_win_string()\n",
    "else:\n",
    "    print(\"Something broke, call the floor\")\n",
    "\n",
    "    \n",
    "print(f'Board was: {board}')"
   ]
  },
  {
   "cell_type": "code",
   "execution_count": null,
   "metadata": {},
   "outputs": [],
   "source": [
    "print(showdown_kicker)\n",
    "print(d_showdown_kicker)"
   ]
  },
  {
   "cell_type": "code",
   "execution_count": null,
   "metadata": {},
   "outputs": [],
   "source": []
  },
  {
   "cell_type": "code",
   "execution_count": null,
   "metadata": {},
   "outputs": [],
   "source": []
  },
  {
   "cell_type": "code",
   "execution_count": null,
   "metadata": {},
   "outputs": [],
   "source": []
  },
  {
   "cell_type": "code",
   "execution_count": null,
   "metadata": {},
   "outputs": [],
   "source": []
  },
  {
   "cell_type": "code",
   "execution_count": null,
   "metadata": {},
   "outputs": [],
   "source": []
  }
 ],
 "metadata": {
  "kernelspec": {
   "display_name": "Python [conda env:PythonData]",
   "language": "python",
   "name": "conda-env-PythonData-py"
  },
  "language_info": {
   "codemirror_mode": {
    "name": "ipython",
    "version": 3
   },
   "file_extension": ".py",
   "mimetype": "text/x-python",
   "name": "python",
   "nbconvert_exporter": "python",
   "pygments_lexer": "ipython3",
   "version": "3.7.1"
  }
 },
 "nbformat": 4,
 "nbformat_minor": 2
}
