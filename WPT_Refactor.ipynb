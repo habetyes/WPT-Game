{
 "cells": [
  {
   "cell_type": "code",
   "execution_count": 80,
   "metadata": {},
   "outputs": [
    {
     "data": {
      "text/plain": [
       "'\\nCounter Function: https://pymotw.com/2/collections/counter.html\\n'"
      ]
     },
     "execution_count": 80,
     "metadata": {},
     "output_type": "execute_result"
    }
   ],
   "source": [
    "import random\n",
    "import operator\n",
    "import collections\n",
    "import time\n",
    "\n",
    "\"\"\"\n",
    "Counter Function: https://pymotw.com/2/collections/counter.html\n",
    "\"\"\""
   ]
  },
  {
   "cell_type": "markdown",
   "metadata": {},
   "source": [
    "# Initialize Deck and Value_Dicts"
   ]
  },
  {
   "cell_type": "code",
   "execution_count": 81,
   "metadata": {},
   "outputs": [],
   "source": [
    "# Initialize Deck\n",
    "deck = {1: 'Ah', 2: 'Kh', 3: 'Qh', 4: 'Jh', 5: 'Th', 6: '9h', 7: '8h', 8: '7h',\n",
    "       9: '6h', 10: '5h', 11: '4h', 12: '3h', 13: '2h', 14: 'Ad', 15: 'Kd', 16: 'Qd', 17: 'Jd', 18: 'Td',\n",
    "       19: '9d', 20: '8d', 21: '7d', 22: '6d', 23: '5d', 24: '4d', 25: '3d', 26: '2d', 27: 'Ac', 28: 'Kc', 29: 'Qc', \n",
    "       30: 'Jc', 31: 'Tc', 32: '9c', 33: '8c', 34: '7c', 35:'6c', 36:'5c', 37:'4c', 38:'3c', 39:'2c', 40:'As', 41:'Ks',\n",
    "       42: 'Qs', 43:'Js', 44:'Ts', 45:'9s', 46:'8s', 47:'7s', 48:'6s', 49:'5s', 50:'4s', 51:'3s',52:'2s'}\n",
    "\n",
    "# Hole Bonus check for pocket pairs\n",
    "pair_bonus = {'A': 20, 'K': 8, 'Q': 8, 'J':8, 'T':3, '9':3, '8':3, '7':3, '6':3, '5':2,'4':2,'3':2,'2':2}\n",
    "\n",
    "# Look up for String Representation of Value\n",
    "value_dict = {1:'A', 2:'K', 3:'Q', 4:'J', 5:'T', 6:'9', 7:'8', 8:'7', 9:'6', 10:'5', 11:'4', 12:'3', 13:'2', 14:'A'}\n",
    "\n",
    "# Key Value Pairs to determine which card is more \"valuable\" than another\n",
    "cards_to_rank = {'A': 1, 'K': 2, 'Q': 3, 'J': 4, 'T': 5, '9': 6, '8': 7, '7': 8, '6': 9, '5': 10, '4': 11, '3': 12, '2': 13}\n",
    "\n",
    "# Key Value Pairs for Straight Checks\n",
    "straight_to_ranks = {'A': {1, 14}, 'K': {2}, 'Q': {3}, 'J': {4}, 'T': {5}, '9': {6}, '8': {7}, '7': {8}, '6': {9}, '5': {10}, '4': {11}, '3': {12}, '2': {13}}\n",
    "\n",
    "# Straight Flush Dicts\n",
    "res = {1: 'Ah', 2: 'Kh', 3: 'Qh', 4: 'Jh', 5: 'Th', 6: '9h', 7: '8h', 8: '7h',\n",
    "       9: '6h', 10: '5h', 11: '4h', 12: '3h', 13: '2h', 14: 'Ah', 16: 'Ad', 17: 'Kd', 18: 'Qd', 19: 'Jd',\n",
    "       20: 'Td', 21: '9d', 22: '8d', 23: '7d', 24: '6d', 25: '5d', 26: '4d', 27: '3d', 28: '2d', 29: 'Ad', 31: 'Ac', 32: 'Kc', \n",
    "       33: 'Qc', 34: 'Jc', 35: 'Tc', 36: '9c', 37: '8c', 38:'7c', 39:'6c', 40:'5c', 41:'4c', 42: '3c', 43:'2c', 44:'Ac',\n",
    "       46: 'As', 47:'Ks', 48:'Qs', 49:'Js', 50:'Ts', 51:'9s', 52:'8s', 53:'7s', 54:'6s', 55:'5s',56:'4s', 57:'3s', 58:'2s', 59:'As'}\n",
    "\n",
    "sf_dict = {'Ah': {1,14}, 'Kh': {2}, 'Qh': {3}, 'Jh': {4}, 'Th': {5}, '9h': {6}, '8h': {7}, '7h': {8}, '6h': {9}, '5h': {10},\n",
    "           '4h': {11}, '3h': {12}, '2h': {13}, 'Ad': {16, 29}, 'Kd': {17}, 'Qd': {18}, 'Jd': {19}, 'Td': {20}, '9d': {21},\n",
    "           '8d': {22}, '7d': {23}, '6d': {24}, '5d': {25}, '4d': {26}, '3d': {27}, '2d': {28}, 'Ac': {31, 44}, 'Kc': {32},\n",
    "           'Qc': {33}, 'Jc': {34}, 'Tc': {35}, '9c': {36}, '8c': {37}, '7c': {38}, '6c': {39}, '5c': {40}, '4c': {41}, '3c': {42},\n",
    "           '2c': {43}, 'As': {46, 59}, 'Ks': {47}, 'Qs': {48}, 'Js': {49}, 'Ts': {50}, '9s': {51}, '8s': {52}, '7s': {53}, '6s': {54},\n",
    "           '5s': {55}, '4s': {56}, '3s': {57}, '2s': {58}}\n",
    "\n",
    "hand_strength = {\"Royal Flush\": 1, \"Straight Flush\": 2, \"Quads\": 3, \"Full House\": 4, \"Flush\": 5, \"Straight\": 6, \"Trips\": 7\n",
    "                , \"Two Pair\": 8, \"Pair\": 9, \"High Card\": 10}"
   ]
  },
  {
   "cell_type": "markdown",
   "metadata": {},
   "source": [
    "# Deal Player, Dealer and Board"
   ]
  },
  {
   "cell_type": "code",
   "execution_count": 82,
   "metadata": {},
   "outputs": [
    {
     "name": "stdout",
     "output_type": "stream",
     "text": [
      "['5d', 'Ah']\n",
      "['3h', 'Td']\n"
     ]
    }
   ],
   "source": [
    "# Function to deal hand for any number of players\n",
    "def deal_player():\n",
    "    player_hand = []\n",
    "    for x in range(2):\n",
    "        player_hand.append(deck.pop(random.choice(list(deck.keys()))))    \n",
    "#     print(f'Player Has: {player_hand}')\n",
    "    return player_hand\n",
    "\n",
    "# assign hand to player and dealer (should be able to handle multiple players)\n",
    "player_hand = deal_player()\n",
    "dealer_hand = deal_player()\n",
    "\n",
    "print(player_hand)\n",
    "print(dealer_hand)"
   ]
  },
  {
   "cell_type": "code",
   "execution_count": 83,
   "metadata": {},
   "outputs": [],
   "source": [
    "# Deals just the flop\n",
    "def deal_flop():\n",
    "    for x in range(3):\n",
    "        board.append(deck.pop(random.choice(list(deck.keys())))) \n",
    "    return board"
   ]
  },
  {
   "cell_type": "code",
   "execution_count": 84,
   "metadata": {},
   "outputs": [],
   "source": [
    "# Appends the turn card to the board\n",
    "def deal_turn():\n",
    "    turn = deck.pop(random.choice(list(deck.keys())))\n",
    "    global board\n",
    "    board.append(turn)\n",
    "    return board"
   ]
  },
  {
   "cell_type": "code",
   "execution_count": 85,
   "metadata": {},
   "outputs": [],
   "source": [
    "# Appends the river card to the board\n",
    "def deal_river():\n",
    "    river = deck.pop(random.choice(list(deck.keys())))\n",
    "    global board\n",
    "    board.append(river)\n",
    "    return board\n",
    "\n",
    "# deal_river()\n",
    "# board"
   ]
  },
  {
   "cell_type": "code",
   "execution_count": 86,
   "metadata": {},
   "outputs": [
    {
     "name": "stdout",
     "output_type": "stream",
     "text": [
      "['Js', '4h', '9s']\n",
      "['Js', '4h', '9s', 'Jc']\n"
     ]
    },
    {
     "data": {
      "text/plain": [
       "['Js', '4h', '9s', 'Jc', '6c']"
      ]
     },
     "execution_count": 86,
     "metadata": {},
     "output_type": "execute_result"
    }
   ],
   "source": [
    "# Calls other functions to deal the full board while adding sleep times to build suspense\n",
    "def deal_game():\n",
    "    deal_flop()\n",
    "    print(board)\n",
    "    time.sleep(1)\n",
    "    deal_turn()\n",
    "    print(board)\n",
    "    time.sleep(1.2)\n",
    "    deal_river()\n",
    "    return board\n",
    "\n",
    "# Have to create empty board list before calling function\n",
    "board = []\n",
    "board = deal_game()\n",
    "board"
   ]
  },
  {
   "cell_type": "code",
   "execution_count": 87,
   "metadata": {},
   "outputs": [
    {
     "name": "stdout",
     "output_type": "stream",
     "text": [
      "Player: ['5d', 'Ah']\n",
      "Dealer: ['3h', 'Td']\n",
      "Board: ['Js', '4h', '9s', 'Jc', '6c']\n"
     ]
    }
   ],
   "source": [
    "print(f'Player: {player_hand}')\n",
    "print(f'Dealer: {dealer_hand}')\n",
    "print(f'Board: {board}')"
   ]
  },
  {
   "cell_type": "code",
   "execution_count": 211,
   "metadata": {},
   "outputs": [],
   "source": [
    "player_hand = ['Ad', 'Kd']\n",
    "dealer_hand = ['Tc', '3s']\n",
    "board = ['Qd', 'Jh', 'Td', '6c', '9d', '6h']\n"
   ]
  },
  {
   "cell_type": "markdown",
   "metadata": {},
   "source": [
    "# Evaluate Hole Card Bonus"
   ]
  },
  {
   "cell_type": "code",
   "execution_count": 212,
   "metadata": {},
   "outputs": [],
   "source": [
    "# Instantiate boolean values for each hand so they can be referenced in later functions\n",
    "royal_flush = False\n",
    "straight_flush = False\n",
    "quads = False\n",
    "full_house = False\n",
    "flush = False\n",
    "straight = False\n",
    "trips = False\n",
    "two_pair = False\n",
    "pair = False\n",
    "high_card = False"
   ]
  },
  {
   "cell_type": "code",
   "execution_count": 94,
   "metadata": {},
   "outputs": [
    {
     "name": "stdout",
     "output_type": "stream",
     "text": [
      "Suited! Pays 1:1\n"
     ]
    },
    {
     "data": {
      "text/plain": [
       "1"
      ]
     },
     "execution_count": 94,
     "metadata": {},
     "output_type": "execute_result"
    }
   ],
   "source": [
    "# Single function to evaluate and return hole bonus payout\n",
    "def hole_bonus(hand):\n",
    "    suited = hand[0][1] == hand[1][1]\n",
    "\n",
    "    if ((hand[0] == 'Ad') or (hand[0] == 'Ah')) and ((hand[1] == 'Ah') or (hand[1] == 'Ad')):\n",
    "        hole_bonus_payout = 50\n",
    "        print(f' RED ACES!!! Pays {hole_bonus_payout}:1')\n",
    "    elif ((hand[0][0] == 'A') and (hand[1][0] == 'K')) or ((hand[0][0] == 'K') and (hand[1][0] == 'A')):\n",
    "        if suited == True:\n",
    "            hole_bonus_payout = 25\n",
    "            print(f' Big Slick!! Pays {hole_bonus_payout}:1')\n",
    "        else:\n",
    "            hole_bonus_payout = 0\n",
    "            print(\"Sorry, Bonus Bet Lost\")\n",
    "    elif hand[0][0] == hand[1][0]:\n",
    "        pair = hand[0][0]\n",
    "        hole_bonus_payout = pair_bonus[hand[0][0]]\n",
    "        print(f'Pocket {pair}s! Pays {hole_bonus_payout}:1')\n",
    "    elif suited == True:\n",
    "        hole_bonus_payout = 1\n",
    "        print(f'Suited! Pays {hole_bonus_payout}:1')\n",
    "    else:\n",
    "        hole_bonus_payout = 0\n",
    "        print(\"Sorry, Bonus Bet Lost\")\n",
    "    return hole_bonus_payout\n",
    "\n",
    "hole_bonus(player_hand)\n",
    "# hole_bonus_payout = hole_bonus(player_hand)\n",
    "# hole_bonus_payout"
   ]
  },
  {
   "cell_type": "code",
   "execution_count": 213,
   "metadata": {},
   "outputs": [
    {
     "name": "stdout",
     "output_type": "stream",
     "text": [
      "Player: ['Ad', 'Kd', 'Qd', 'Jh', 'Td', '6c', '9d', '6h']\n",
      "Dealer: ['Tc', '3s', 'Qd', 'Jh', 'Td', '6c', '9d', '6h']\n"
     ]
    }
   ],
   "source": [
    "# Identify final 7 card hand for each player/dealer\n",
    "def showdown_hand(player, board):\n",
    "    final_hand = player + board\n",
    "    return final_hand\n",
    "\n",
    "# call function for various players and assign them to variables to be used in later functions\n",
    "final_hand = showdown_hand(player_hand, board)\n",
    "d_final_hand = showdown_hand(dealer_hand, board)\n",
    "\n",
    "print(f'Player: {final_hand}')\n",
    "print(f'Dealer: {d_final_hand}')"
   ]
  },
  {
   "cell_type": "code",
   "execution_count": 96,
   "metadata": {
    "scrolled": true
   },
   "outputs": [
    {
     "name": "stdout",
     "output_type": "stream",
     "text": [
      "Player Keys: [1, 1, 1, 9, 9, 9, 10, 13]\n",
      "Dealer Keys: [1, 1, 9, 9, 5, 10, 12, 13]\n"
     ]
    }
   ],
   "source": [
    "def get_hand_keys(final_hand):\n",
    "    # Key Value of final hand cards appended to list in order of frequency then value\n",
    "    final_hand_keys = [cards_to_rank[x[0]] for x in final_hand]\n",
    "    counts = collections.Counter(final_hand_keys)\n",
    "    final_hand_keys = sorted(final_hand_keys, key=lambda x: (counts[x], -x), reverse=True)\n",
    "    return final_hand_keys\n",
    "\n",
    "# assign keys to dealer and players in order to compare hand rankings\n",
    "final_hand_keys = get_hand_keys(final_hand)\n",
    "d_final_hand_keys = get_hand_keys(d_final_hand)\n",
    "\n",
    "print(f'Player Keys: {final_hand_keys}')\n",
    "print(f'Dealer Keys: {d_final_hand_keys}')"
   ]
  },
  {
   "cell_type": "code",
   "execution_count": 180,
   "metadata": {
    "scrolled": true
   },
   "outputs": [
    {
     "name": "stdout",
     "output_type": "stream",
     "text": [
      "[9, 16, 25, 26, 27, 28, 29, 39]\n",
      "[1, 9, 10, 11, 12, 13, 14]\n"
     ]
    }
   ],
   "source": [
    "# PROBABLY DONT NEED THIS FUNCTION ANYMORE\n",
    "\n",
    "def straight_flush_keys(final_hand):\n",
    "    \"\"\"\n",
    "    Takes in a final hand and outputs key values used to determine whether they have a straight flush\n",
    "    \"\"\"\n",
    "    sf_keys = set()\n",
    "    sf_value_keys = set()\n",
    "    for card in final_hand:\n",
    "        sf_keys |= sf_dict[card]\n",
    "        sf_value_keys |= straight_to_ranks[card[0]]\n",
    "    sf_value_keys = sorted(sf_value_keys)\n",
    "    sf_keys = sorted(sf_keys)\n",
    "    return [sf_keys, sf_value_keys]\n",
    " \n",
    "sf_keys = straight_flush_keys(final_hand)[0]\n",
    "sf_value_keys = straight_flush_keys(final_hand)[1]\n",
    "\n",
    "print(sf_keys)\n",
    "print(sf_value_keys)"
   ]
  },
  {
   "cell_type": "code",
   "execution_count": null,
   "metadata": {},
   "outputs": [],
   "source": []
  },
  {
   "cell_type": "code",
   "execution_count": 178,
   "metadata": {},
   "outputs": [
    {
     "data": {
      "text/plain": [
       "True"
      ]
     },
     "execution_count": 178,
     "metadata": {},
     "output_type": "execute_result"
    }
   ],
   "source": [
    "def is_straight_flush(final_hand):    \n",
    "    sf_keys = set()\n",
    "    sf_value_keys = set()\n",
    "    for card in final_hand:\n",
    "        sf_keys |= sf_dict[card]\n",
    "        sf_value_keys |= straight_to_ranks[card[0]]\n",
    "    sf_value_keys = sorted(sf_value_keys)\n",
    "    sf_keys = sorted(sf_keys)\n",
    "    \n",
    "    for idx, value in enumerate(sf_keys):\n",
    "        slice = sf_keys[idx:idx+5]\n",
    "        if len(slice) < 5:\n",
    "            straight_flush = False\n",
    "            break\n",
    "        if slice == list(range(value, value+5)):\n",
    "            straight_flush = True\n",
    "            sf_showdown = [res[value] for value in slice]\n",
    "            sf_values = [cards_to_rank[x[0]] for x in sf_showdown]\n",
    "            break\n",
    "        else:\n",
    "            straight_flush = False                    \n",
    "    \n",
    "    return straight_flush\n",
    "\n",
    "is_straight_flush(final_hand)"
   ]
  },
  {
   "cell_type": "code",
   "execution_count": 191,
   "metadata": {},
   "outputs": [
    {
     "data": {
      "text/plain": [
       "[1, 2, 3, 4, 5]"
      ]
     },
     "execution_count": 191,
     "metadata": {},
     "output_type": "execute_result"
    }
   ],
   "source": [
    "def straight_flush_values(final_hand):\n",
    "    \"\"\"Identifies the card rank values in the straight flush\"\"\"\n",
    "    sf_keys = set()\n",
    "    sf_value_keys = set()\n",
    "    for card in final_hand:\n",
    "        sf_keys |= sf_dict[card]\n",
    "        sf_value_keys |= straight_to_ranks[card[0]]\n",
    "    sf_value_keys = sorted(sf_value_keys)\n",
    "    sf_keys = sorted(sf_keys)\n",
    "    values = []\n",
    "    for idx, value in enumerate(sf_keys):\n",
    "        slice = sf_keys[idx:idx+5]\n",
    "        if len(slice) < 5:\n",
    "            straight_flush = False\n",
    "            break\n",
    "        if slice == list(range(value,value+5)):\n",
    "            straight_flush = True\n",
    "            sf_showdown = [res[value] for value in slice]\n",
    "            break\n",
    "        else:\n",
    "            straight_flush = False\n",
    "\n",
    "\n",
    "    if straight_flush == True:\n",
    "        for idx, value in enumerate(sf_value_keys):\n",
    "            slice = sf_value_keys[idx:idx+5]\n",
    "            if slice == list(range(value,value+5)):\n",
    "                values = [value for value in slice]\n",
    "                break\n",
    "    return values\n",
    "\n",
    "straight_flush_values(final_hand)"
   ]
  },
  {
   "cell_type": "code",
   "execution_count": 17,
   "metadata": {},
   "outputs": [],
   "source": []
  },
  {
   "cell_type": "code",
   "execution_count": null,
   "metadata": {},
   "outputs": [],
   "source": []
  },
  {
   "cell_type": "code",
   "execution_count": 204,
   "metadata": {},
   "outputs": [
    {
     "data": {
      "text/plain": [
       "True"
      ]
     },
     "execution_count": 204,
     "metadata": {},
     "output_type": "execute_result"
    }
   ],
   "source": [
    "def is_royal(final_hand):\n",
    "    \"\"\"\n",
    "    Takes in straight flush keys and checks against Royal Flush\n",
    "    \"\"\"\n",
    "    royal_flush = False\n",
    "    straight_flush = is_straight_flush(final_hand)\n",
    "    if straight_flush == True:\n",
    "        sf_showdown = straight_flush_values(final_hand)\n",
    "        if sf_showdown[0] == 1:\n",
    "            royal_flush = True\n",
    "        else:\n",
    "            royal_flush = False\n",
    "    return royal_flush\n",
    "\n",
    "is_royal(final_hand)\n",
    " \n"
   ]
  },
  {
   "cell_type": "code",
   "execution_count": 103,
   "metadata": {
    "scrolled": true
   },
   "outputs": [
    {
     "name": "stdout",
     "output_type": "stream",
     "text": [
      "Player Flush = True\n",
      "Dealer Flush = False\n"
     ]
    }
   ],
   "source": [
    "def is_flush(hand):\n",
    "    c = collections.Counter(x[1] for x in hand)\n",
    "    top_suit = c.most_common(1)[0][1]\n",
    "    if top_suit > 4:\n",
    "        flush = True\n",
    "    else:\n",
    "        flush = False\n",
    "    return flush\n",
    "\n",
    "player_flush = is_flush(final_hand)\n",
    "dealer_flush = is_flush(d_final_hand)\n",
    "print(f'Player Flush = {player_flush}')\n",
    "print(f'Dealer Flush = {dealer_flush}')"
   ]
  },
  {
   "cell_type": "code",
   "execution_count": 104,
   "metadata": {},
   "outputs": [],
   "source": [
    "# Use CLosure to first check for flush, then if flush is true, append keys for just flush cards to new list\n",
    "def flush_check(hand):\n",
    "    \"\"\"\n",
    "    First class function flush_check takes a final hand and uses Counter to check for flushes\n",
    "    \"\"\"\n",
    "    c = collections.Counter(x[1] for x in hand)\n",
    "    suit_count = c.most_common(1)[0][1]\n",
    "    top_suit = c.most_common(1)[0][0]\n",
    "    if suit_count > 4:\n",
    "        flush = True\n",
    "    else:\n",
    "        flush = False\n",
    "    \n",
    "    def flush_keys():\n",
    "        \"\"\"\n",
    "        Closure will append keys from the flush cards when flush is true \n",
    "        \"\"\"\n",
    "        keys = []\n",
    "        if flush == True:\n",
    "            for x in final_hand:\n",
    "                if x[1] == top_suit:\n",
    "                    keys.append(cards_to_rank[x[0]])\n",
    "        keys = sorted(keys)\n",
    "        # Return Keys that can be used later \n",
    "        return keys\n",
    "    \n",
    "    return flush_keys\n",
    "\n",
    "# check for flush and return function that can call flush keys\n",
    "checker = flush_check(final_hand)\n",
    "# applies flush keys return to a variable\n",
    "flush_keys = checker()"
   ]
  },
  {
   "cell_type": "code",
   "execution_count": 105,
   "metadata": {},
   "outputs": [
    {
     "name": "stdout",
     "output_type": "stream",
     "text": [
      "[1, 1, 9, 10, 13]\n"
     ]
    }
   ],
   "source": [
    "if is_flush(final_hand):\n",
    "    flushes = flush_check(final_hand)\n",
    "    flush_keys = flushes()\n",
    "    showdown_strength = 5\n",
    "    print(f'{flush_keys}')"
   ]
  },
  {
   "cell_type": "code",
   "execution_count": 170,
   "metadata": {},
   "outputs": [],
   "source": [
    "def is_straight(hand):\n",
    "    keys = set()\n",
    "    for card in hand:\n",
    "        keys |= straight_to_ranks[card[0]]\n",
    "    keys = sorted(keys)\n",
    "\n",
    "    for idx, value in enumerate(keys):\n",
    "        slice = keys[idx:idx+5]\n",
    "        if len(slice) < 5:\n",
    "            straight = False\n",
    "            break\n",
    "        if slice == list(range(value,value+5)):\n",
    "            straight = True\n",
    "            straight_top_key = value\n",
    "            straight_top = value_dict[value]\n",
    "            break\n",
    "        else:\n",
    "            straight = False\n",
    "            \n",
    "    return straight"
   ]
  },
  {
   "cell_type": "code",
   "execution_count": 171,
   "metadata": {
    "scrolled": true
   },
   "outputs": [],
   "source": [
    "def straight_check(hand):\n",
    "    keys = set()\n",
    "    for card in hand:\n",
    "        keys |= straight_to_ranks[card[0]]\n",
    "    keys = sorted(keys)\n",
    "\n",
    "    for idx, value in enumerate(keys):\n",
    "        slice = keys[idx:idx+5]\n",
    "        if len(slice) < 5:\n",
    "            straight = False\n",
    "            break\n",
    "        if slice == list(range(value,value+5)):\n",
    "            straight = True\n",
    "            straight_top_key = value\n",
    "            straight_top = value_dict[value]\n",
    "            break\n",
    "        else:\n",
    "            straight = False\n",
    "            \n",
    "    def straight_keys():\n",
    "        if straight == True:\n",
    "            return slice\n",
    "            \n",
    "    return straight_keys"
   ]
  },
  {
   "cell_type": "code",
   "execution_count": 173,
   "metadata": {},
   "outputs": [
    {
     "name": "stdout",
     "output_type": "stream",
     "text": [
      "[9, 10, 11, 12, 13]\n"
     ]
    },
    {
     "data": {
      "text/plain": [
       "11"
      ]
     },
     "execution_count": 173,
     "metadata": {},
     "output_type": "execute_result"
    }
   ],
   "source": [
    "if is_straight(final_hand):\n",
    "    straights = straight_check(final_hand)\n",
    "    straight_keys = straights()\n",
    "    showdown_strength = 6\n",
    "    print(f'{straight_keys}')\n",
    "    "
   ]
  },
  {
   "cell_type": "code",
   "execution_count": 109,
   "metadata": {},
   "outputs": [
    {
     "data": {
      "text/plain": [
       "[(1, 3), (9, 3), (10, 1), (13, 1)]"
      ]
     },
     "execution_count": 109,
     "metadata": {},
     "output_type": "execute_result"
    }
   ],
   "source": [
    "def common_cards(hand):\n",
    "    \"\"\"Check for common cards to be used in quads, full house, trips and pairs\"\"\"\n",
    "    card_sort = sorted(cards_to_rank[x[0]] for x in hand)\n",
    "    c = collections.Counter([x for x in card_sort])   \n",
    "    common = c.most_common(7)\n",
    "    return common\n",
    "\n",
    "player_pairs = common_cards(final_hand)\n",
    "player_pairs"
   ]
  },
  {
   "cell_type": "code",
   "execution_count": 110,
   "metadata": {},
   "outputs": [
    {
     "data": {
      "text/plain": [
       "False"
      ]
     },
     "execution_count": 110,
     "metadata": {},
     "output_type": "execute_result"
    }
   ],
   "source": [
    "def is_quads(final_hand):\n",
    "    \"\"\"Receives the result from common_cards function to check for quads\"\"\"\n",
    "    common_card_list = common_cards(final_hand)\n",
    "    if common_card_list[0][1] > 3:\n",
    "        quads = True\n",
    "    else:\n",
    "        quads = False\n",
    "    return quads\n",
    "\n",
    "is_quads(final_hand)"
   ]
  },
  {
   "cell_type": "code",
   "execution_count": null,
   "metadata": {},
   "outputs": [],
   "source": []
  },
  {
   "cell_type": "code",
   "execution_count": 111,
   "metadata": {},
   "outputs": [
    {
     "data": {
      "text/plain": [
       "True"
      ]
     },
     "execution_count": 111,
     "metadata": {},
     "output_type": "execute_result"
    }
   ],
   "source": [
    "def is_full_house(final_hand):\n",
    "    \"\"\"Receives the result from common_cards function to check for Full House\"\"\"\n",
    "    common_card_list = common_cards(final_hand)    \n",
    "    if common_card_list[0][1] == 3 and common_card_list[1][1] >= 2:\n",
    "        full_house = True\n",
    "    else:\n",
    "        full_house = False\n",
    "    return full_house\n",
    "\n",
    "\n",
    "is_full_house(final_hand)"
   ]
  },
  {
   "cell_type": "code",
   "execution_count": 112,
   "metadata": {},
   "outputs": [
    {
     "data": {
      "text/plain": [
       "False"
      ]
     },
     "execution_count": 112,
     "metadata": {},
     "output_type": "execute_result"
    }
   ],
   "source": [
    "def is_trips(final_hand):\n",
    "    \"\"\"Receives the result from common_cards function to check for Trips\"\"\"\n",
    "    common_card_list = common_cards(final_hand)  \n",
    "    if common_card_list[0][1] == 3 and common_card_list[1][1] < 2:\n",
    "        trips = True\n",
    "    else:\n",
    "        trips = False\n",
    "    return trips\n",
    "\n",
    "is_trips(final_hand)"
   ]
  },
  {
   "cell_type": "code",
   "execution_count": 113,
   "metadata": {},
   "outputs": [
    {
     "data": {
      "text/plain": [
       "False"
      ]
     },
     "execution_count": 113,
     "metadata": {},
     "output_type": "execute_result"
    }
   ],
   "source": [
    "def is_two_pair(final_hand):\n",
    "    \"\"\"Receives the result from common_cards function to check for Trips\"\"\"\n",
    "    common_card_list = common_cards(final_hand)    \n",
    "    if common_card_list[0][1] == 2 and common_card_list[1][1] == 2:\n",
    "        two_pair = True\n",
    "    else:\n",
    "        two_pair = False\n",
    "    return two_pair\n",
    "\n",
    "is_two_pair(final_hand)"
   ]
  },
  {
   "cell_type": "code",
   "execution_count": 114,
   "metadata": {},
   "outputs": [
    {
     "data": {
      "text/plain": [
       "False"
      ]
     },
     "execution_count": 114,
     "metadata": {},
     "output_type": "execute_result"
    }
   ],
   "source": [
    "def is_pair(final_hand):\n",
    "    \"\"\"Receives the result from common_cards function to check for Trips\"\"\"\n",
    "    common_card_list = common_cards(final_hand)  \n",
    "    if common_card_list[0][1] == 2 and common_card_list[1][1] < 2:\n",
    "        pair = True\n",
    "    else:\n",
    "        pair = False\n",
    "    return pair\n",
    "\n",
    "is_pair(final_hand)"
   ]
  },
  {
   "cell_type": "code",
   "execution_count": 115,
   "metadata": {},
   "outputs": [
    {
     "data": {
      "text/plain": [
       "False"
      ]
     },
     "execution_count": 115,
     "metadata": {},
     "output_type": "execute_result"
    }
   ],
   "source": [
    "def is_high_card(final_hand):\n",
    "    common_card_list = common_cards(final_hand)  \n",
    "    if common_card_list[0][1] == 1 and common_card_list[1][1] == 1:\n",
    "        high_card = True\n",
    "    else:\n",
    "        high_card = False\n",
    "    return high_card\n",
    "\n",
    "is_high_card(final_hand)\n"
   ]
  },
  {
   "cell_type": "markdown",
   "metadata": {},
   "source": [
    "# Final Hand Evaluation"
   ]
  },
  {
   "cell_type": "code",
   "execution_count": 216,
   "metadata": {},
   "outputs": [
    {
     "data": {
      "text/plain": [
       "6"
      ]
     },
     "execution_count": 216,
     "metadata": {},
     "output_type": "execute_result"
    }
   ],
   "source": [
    "def best_hand(hand):\n",
    "    \"\"\"Hand: A players final hand (hole cards plus board). Returns a dictionary with all aspects needed to evaluate hand winner\"\"\"\n",
    "    if is_royal(hand):\n",
    "        hand_name = \"Royal Flush\"\n",
    "        showdown_strength = 1\n",
    "        final_hand_bonus = 500\n",
    "        final_hand_keys = straight_flush_values(hand)\n",
    "        showdown_top = final_hand_keys[0]\n",
    "        showdown_kicker = final_hand_keys[1] \n",
    "        showdown_kicker2 = final_hand_keys[2]\n",
    "        showdown_kicker3 = final_hand_keys[3]\n",
    "        showdown_kicker4 = final_hand_keys[4]\n",
    "        showdown = [value_dict[showdown_top], value_dict[showdown_kicker], value_dict[showdown_kicker2], value_dict[showdown_kicker3], value_dict[showdown_kicker4]]\n",
    "        return {\"hand\": hand_name, \"strength\": showdown_strength,\"bonus\": final_hand_bonus, \"top\": showdown_top, \"kicker\":showdown_kicker, \"kicker2\":showdown_kicker2, \"kicker3\":showdown_kicker3, \"kicker4\":showdown_kicker4, \"showdown\": showdown}\n",
    "    elif is_straight_flush(hand):\n",
    "        hand_name = \"Straight Flush\"\n",
    "        showdown_strength = 2\n",
    "        final_hand_bonus = 100\n",
    "        final_hand_keys = straight_flush_values(hand)\n",
    "        showdown_top = final_hand_keys[0]\n",
    "        showdown_kicker = final_hand_keys[1] \n",
    "        showdown_kicker2 = final_hand_keys[2]\n",
    "        showdown_kicker3 = final_hand_keys[3]\n",
    "        showdown_kicker4 = final_hand_keys[4]\n",
    "        showdown = [value_dict[showdown_top], value_dict[showdown_kicker], value_dict[showdown_kicker2], value_dict[showdown_kicker3], value_dict[showdown_kicker4]]\n",
    "        return {\"hand\": hand_name, \"strength\": showdown_strength,\"bonus\": final_hand_bonus, \"top\": showdown_top, \"kicker\":showdown_kicker, \"kicker2\":showdown_kicker2, \"kicker3\":showdown_kicker3, \"kicker4\":showdown_kicker4, \"showdown\": showdown}\n",
    "    elif is_quads(hand):\n",
    "        hand_name = \"Quads\"\n",
    "        showdown_strength = 3\n",
    "        final_hand_bonus = 40\n",
    "        final_hand_keys =[common_cards(hand)[0][0], common_cards(hand)[0][0], common_cards(hand)[0][0], common_cards(hand)[0][0], common_cards(hand)[1][0]]\n",
    "        showdown_top = final_hand_keys[0]\n",
    "        showdown_kicker = final_hand_keys[1] \n",
    "        showdown_kicker2 = final_hand_keys[2]\n",
    "        showdown_kicker3 = final_hand_keys[3]\n",
    "        showdown_kicker4 = final_hand_keys[4]\n",
    "        showdown = [value_dict[showdown_top], value_dict[showdown_kicker], value_dict[showdown_kicker2], value_dict[showdown_kicker3], value_dict[showdown_kicker4]]\n",
    "        return {\"hand\": hand_name, \"strength\": showdown_strength,\"bonus\": final_hand_bonus, \"top\": showdown_top, \"kicker\":showdown_kicker, \"kicker2\":showdown_kicker2, \"kicker3\":showdown_kicker3, \"kicker4\":showdown_kicker4, \"showdown\": showdown}\n",
    "    elif is_full_house(hand):\n",
    "        hand_name= \"Full House\"\n",
    "        showdown_strength = 4\n",
    "        final_hand_bonus = 8\n",
    "        final_hand_keys = [common_cards(hand)[0][0], common_cards(hand)[0][0], common_cards(hand)[0][0], common_cards(hand)[1][0], common_cards(hand)[1][0]]\n",
    "        showdown_top = final_hand_keys[0]\n",
    "        showdown_kicker = final_hand_keys[1] \n",
    "        showdown_kicker2 = final_hand_keys[2]\n",
    "        showdown_kicker3 = final_hand_keys[3]\n",
    "        showdown_kicker4 = final_hand_keys[4]\n",
    "        showdown = [value_dict[showdown_top], value_dict[showdown_kicker], value_dict[showdown_kicker2], value_dict[showdown_kicker3], value_dict[showdown_kicker4]]\n",
    "        return {\"hand\": hand_name, \"strength\": showdown_strength,\"bonus\": final_hand_bonus, \"top\": showdown_top, \"kicker\":showdown_kicker, \"kicker2\":showdown_kicker2, \"kicker3\":showdown_kicker3, \"kicker4\":showdown_kicker4, \"showdown\": showdown}\n",
    "    elif is_flush(hand):\n",
    "        hand_name = \"Flush\"\n",
    "        showdown_strength = 5\n",
    "        final_hand_bonus = 6\n",
    "        flushes = flush_check(hand)\n",
    "        final_hand_keys = flushes()\n",
    "        showdown_top = final_hand_keys[0]\n",
    "        showdown_kicker = final_hand_keys[1] \n",
    "        showdown_kicker2 = final_hand_keys[2]\n",
    "        showdown_kicker3 = final_hand_keys[3]\n",
    "        showdown_kicker4 = final_hand_keys[4]\n",
    "        showdown = [value_dict[showdown_top], value_dict[showdown_kicker], value_dict[showdown_kicker2], value_dict[showdown_kicker3], value_dict[showdown_kicker4]]\n",
    "        return {\"hand\": hand_name, \"strength\": showdown_strength,\"bonus\": final_hand_bonus, \"top\": showdown_top, \"kicker\":showdown_kicker, \"kicker2\":showdown_kicker2, \"kicker3\":showdown_kicker3, \"kicker4\":showdown_kicker4, \"showdown\": showdown}\n",
    "    elif is_straight(hand):\n",
    "        hand_name = \"Straight\"\n",
    "        showdown_strength = 6\n",
    "        final_hand_bonus = 4\n",
    "        straights = straight_check(hand)\n",
    "        final_hand_keys = straights()\n",
    "        showdown_top = final_hand_keys[0]\n",
    "        showdown_kicker = final_hand_keys[1] \n",
    "        showdown_kicker2 = final_hand_keys[2]\n",
    "        showdown_kicker3 = final_hand_keys[3]\n",
    "        showdown_kicker4 = final_hand_keys[4]\n",
    "        showdown = [value_dict[showdown_top], value_dict[showdown_kicker], value_dict[showdown_kicker2], value_dict[showdown_kicker3], value_dict[showdown_kicker4]]\n",
    "        return {\"hand\": hand_name, \"strength\": showdown_strength,\"bonus\": final_hand_bonus, \"top\": showdown_top, \"kicker\":showdown_kicker, \"kicker2\":showdown_kicker2, \"kicker3\":showdown_kicker3, \"kicker4\":showdown_kicker4, \"showdown\": showdown}\n",
    "    elif is_trips(hand):\n",
    "        hand_name = \"Trips\"\n",
    "        showdown_strength = 7\n",
    "        final_hand_bonus = 2\n",
    "        final_hand_keys = [common_cards(hand)[0][0], common_cards(hand)[0][0], common_cards(hand)[0][0], common_cards(hand)[1][0], common_cards(hand)[2][0]]\n",
    "        showdown_top = final_hand_keys[0]\n",
    "        showdown_kicker = final_hand_keys[1] \n",
    "        showdown_kicker2 = final_hand_keys[2]\n",
    "        showdown_kicker3 = final_hand_keys[3]\n",
    "        showdown_kicker4 = final_hand_keys[4]\n",
    "        showdown = [value_dict[showdown_top], value_dict[showdown_kicker], value_dict[showdown_kicker2], value_dict[showdown_kicker3], value_dict[showdown_kicker4]]\n",
    "        return {\"hand\": hand_name, \"strength\": showdown_strength,\"bonus\": final_hand_bonus, \"top\": showdown_top, \"kicker\":showdown_kicker, \"kicker2\":showdown_kicker2, \"kicker3\":showdown_kicker3, \"kicker4\":showdown_kicker4, \"showdown\": showdown}\n",
    "    elif is_two_pair(hand):\n",
    "        hand_name = \"Two Pair\"\n",
    "        showdown_strength = 8\n",
    "        final_hand_bonus = 0\n",
    "        final_hand_keys =[common_cards(hand)[0][0], common_cards(hand)[0][0], common_cards(hand)[1][0], common_cards(hand)[1][0], common_cards(hand)[2][0]]\n",
    "        showdown_top = final_hand_keys[0]\n",
    "        showdown_kicker = final_hand_keys[1] \n",
    "        showdown_kicker2 = final_hand_keys[2]\n",
    "        showdown_kicker3 = final_hand_keys[3]\n",
    "        showdown_kicker4 = final_hand_keys[4]\n",
    "        showdown = [value_dict[showdown_top], value_dict[showdown_kicker], value_dict[showdown_kicker2], value_dict[showdown_kicker3], value_dict[showdown_kicker4]]\n",
    "        return {\"hand\": hand_name, \"strength\": showdown_strength,\"bonus\": final_hand_bonus, \"top\": showdown_top, \"kicker\":showdown_kicker, \"kicker2\":showdown_kicker2, \"kicker3\":showdown_kicker3, \"kicker4\":showdown_kicker4, \"showdown\": showdown}\n",
    "    elif is_pair(hand):\n",
    "        hand_name = \"Pair\"\n",
    "        showdown_strength = 9\n",
    "        final_hand_bonus = 0\n",
    "        final_hand_keys =[common_cards(hand)[0][0], common_cards(hand)[0][0], common_cards(hand)[1][0], common_cards(hand)[2][0], common_cards(hand)[3][0]]\n",
    "        showdown_top = final_hand_keys[0]\n",
    "        showdown_kicker = final_hand_keys[1] \n",
    "        showdown_kicker2 = final_hand_keys[2]\n",
    "        showdown_kicker3 = final_hand_keys[3]\n",
    "        showdown_kicker4 = final_hand_keys[4]\n",
    "        showdown = [value_dict[showdown_top], value_dict[showdown_kicker], value_dict[showdown_kicker2], value_dict[showdown_kicker3], value_dict[showdown_kicker4]]\n",
    "        return {\"hand\": hand_name, \"strength\": showdown_strength,\"bonus\": final_hand_bonus, \"top\": showdown_top, \"kicker\":showdown_kicker, \"kicker2\":showdown_kicker2, \"kicker3\":showdown_kicker3, \"kicker4\":showdown_kicker4, \"showdown\": showdown}\n",
    "    else:\n",
    "        hand_name = \"High Card\"\n",
    "        showdown_strength = 10\n",
    "        final_hand_bonus = 0\n",
    "        final_hand_keys =[common_cards(hand)[0][0], common_cards(hand)[1][0], common_cards(hand)[2][0], common_cards(hand)[3][0], common_cards(hand)[4][0]]\n",
    "        showdown_top = final_hand_keys[0]\n",
    "        showdown_kicker = final_hand_keys[1] \n",
    "        showdown_kicker2 = final_hand_keys[2]\n",
    "        showdown_kicker3 = final_hand_keys[3]\n",
    "        showdown_kicker4 = final_hand_keys[4]\n",
    "        showdown = [value_dict[showdown_top], value_dict[showdown_kicker], value_dict[showdown_kicker2], value_dict[showdown_kicker3], value_dict[showdown_kicker4]]\n",
    "        return {\"hand\": hand_name, \"strength\": showdown_strength,\"bonus\": final_hand_bonus, \"top\": showdown_top, \"kicker\":showdown_kicker, \"kicker2\":showdown_kicker2, \"kicker3\":showdown_kicker3, \"kicker4\":showdown_kicker4, \"showdown\": showdown}\n",
    "\n",
    "player_eval = best_hand(final_hand)\n",
    "player_eval[\"bonus\"]"
   ]
  },
  {
   "cell_type": "code",
   "execution_count": 217,
   "metadata": {},
   "outputs": [
    {
     "name": "stdout",
     "output_type": "stream",
     "text": [
      "Hand: Flush\n",
      "Strength: 5\n",
      "Bonus: 6\n",
      "Top: 1\n",
      "Kicker: 2\n",
      "Kicker 2: 3\n",
      "Kicker 3: 5\n",
      "Kicker 4: 6\n",
      "Showdown: ['A', 'K', 'Q', 'T', '9']\n"
     ]
    }
   ],
   "source": [
    "print(f'Hand: {player_eval[\"hand\"]}')\n",
    "print(f'Strength: {player_eval[\"strength\"]}')\n",
    "print(f'Bonus: {player_eval[\"bonus\"]}')\n",
    "print(f'Top: {player_eval[\"top\"]}')\n",
    "print(f'Kicker: {player_eval[\"kicker\"]}')\n",
    "print(f'Kicker 2: {player_eval[\"kicker2\"]}')\n",
    "print(f'Kicker 3: {player_eval[\"kicker3\"]}')\n",
    "print(f'Kicker 4: {player_eval[\"kicker4\"]}')\n",
    "print(f'Showdown: {player_eval[\"showdown\"]}')"
   ]
  },
  {
   "cell_type": "code",
   "execution_count": null,
   "metadata": {},
   "outputs": [],
   "source": []
  },
  {
   "cell_type": "code",
   "execution_count": null,
   "metadata": {},
   "outputs": [],
   "source": []
  },
  {
   "cell_type": "code",
   "execution_count": null,
   "metadata": {},
   "outputs": [],
   "source": [
    "def winning_player(hand1, hand2):\n",
    "    \"\"\"Takes two hands and identifies winner\"\"\"\n",
    "    player = best_hand(hand1)\n",
    "    dealer = best_hand(hand2)\n",
    "    "
   ]
  },
  {
   "cell_type": "code",
   "execution_count": null,
   "metadata": {
    "scrolled": true
   },
   "outputs": [],
   "source": []
  },
  {
   "cell_type": "code",
   "execution_count": null,
   "metadata": {},
   "outputs": [],
   "source": []
  },
  {
   "cell_type": "markdown",
   "metadata": {},
   "source": [
    "# Evaluate Winner between Dealer and Player"
   ]
  },
  {
   "cell_type": "code",
   "execution_count": null,
   "metadata": {},
   "outputs": [],
   "source": [
    "print(final_hand)\n",
    "print(d_final_hand)\n",
    "push = False\n",
    "\n",
    "def player_win_string():\n",
    "    print(f'Player Wins with {showdown_string}')\n",
    "    print(f'Dealer had {d_showdown_string}')\n",
    "    pass\n",
    "\n",
    "def dealer_win_string():\n",
    "    print(f'Dealer Wins with {d_showdown_string}')\n",
    "    print(f'Player had {showdown_string}')\n",
    "    pass\n",
    "\n",
    "if showdown_strength < d_showdown_strength:\n",
    "    winner = True\n",
    "elif showdown_strength > d_showdown_strength:\n",
    "    winner = False\n",
    "elif showdown_strength == d_showdown_strength:\n",
    "    if showdown_top < d_showdown_top:\n",
    "        winner = True\n",
    "    elif showdown_top > d_showdown_top:\n",
    "        winner = False\n",
    "    elif showdown_top == d_showdown_top:    \n",
    "        if showdown_kicker < d_showdown_kicker:\n",
    "            winner = True\n",
    "        elif showdown_kicker > d_showdown_kicker:\n",
    "            winner = False\n",
    "        elif showdown_kicker == d_showdown_kicker:\n",
    "                if showdown_kicker_2 < d_showdown_kicker_2:\n",
    "                    winner = True\n",
    "                elif showdown_kicker_2 > d_showdown_kicker_2:\n",
    "                    winner = False\n",
    "                elif showdown_kicker_2 == d_showdown_kicker_2:\n",
    "                                if showdown_kicker_3 < d_showdown_kicker_3:\n",
    "                                    winner = True\n",
    "                                elif showdown_kicker_3 > d_showdown_kicker_3:\n",
    "                                    winner = False\n",
    "                                elif showdown_kicker_3 == d_showdown_kicker_3:\n",
    "                                    if showdown_kicker_4 < d_showdown_kicker_4:\n",
    "                                        winner = True\n",
    "                                    elif showdown_kicker_4 > d_showdown_kicker_4:\n",
    "                                        winner = False\n",
    "                                    else:\n",
    "                                        push = True\n",
    "\n",
    "if push == True:\n",
    "    print(\"Push\")\n",
    "elif winner == True:\n",
    "    player_win_string()\n",
    "elif winner == False:\n",
    "    dealer_win_string()\n",
    "else:\n",
    "    print(\"Something broke, call the floor\")\n",
    "\n",
    "    \n",
    "print(f'Board was: {board}')"
   ]
  },
  {
   "cell_type": "code",
   "execution_count": null,
   "metadata": {},
   "outputs": [],
   "source": [
    "print(showdown_kicker)\n",
    "print(d_showdown_kicker)"
   ]
  },
  {
   "cell_type": "code",
   "execution_count": null,
   "metadata": {},
   "outputs": [],
   "source": []
  },
  {
   "cell_type": "code",
   "execution_count": null,
   "metadata": {},
   "outputs": [],
   "source": []
  },
  {
   "cell_type": "code",
   "execution_count": null,
   "metadata": {},
   "outputs": [],
   "source": []
  },
  {
   "cell_type": "code",
   "execution_count": null,
   "metadata": {},
   "outputs": [],
   "source": []
  },
  {
   "cell_type": "code",
   "execution_count": null,
   "metadata": {},
   "outputs": [],
   "source": []
  }
 ],
 "metadata": {
  "kernelspec": {
   "display_name": "Python [conda env:PythonData]",
   "language": "python",
   "name": "conda-env-PythonData-py"
  },
  "language_info": {
   "codemirror_mode": {
    "name": "ipython",
    "version": 3
   },
   "file_extension": ".py",
   "mimetype": "text/x-python",
   "name": "python",
   "nbconvert_exporter": "python",
   "pygments_lexer": "ipython3",
   "version": "3.7.1"
  }
 },
 "nbformat": 4,
 "nbformat_minor": 2
}
