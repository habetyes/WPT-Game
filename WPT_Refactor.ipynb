{
 "cells": [
  {
   "cell_type": "code",
   "execution_count": 22,
   "metadata": {},
   "outputs": [
    {
     "data": {
      "text/plain": [
       "'\\nCounter Function: https://pymotw.com/2/collections/counter.html\\n'"
      ]
     },
     "execution_count": 22,
     "metadata": {},
     "output_type": "execute_result"
    }
   ],
   "source": [
    "import random\n",
    "import operator\n",
    "import collections\n",
    "import time\n",
    "\n",
    "\"\"\"\n",
    "Counter Function: https://pymotw.com/2/collections/counter.html\n",
    "\"\"\""
   ]
  },
  {
   "cell_type": "markdown",
   "metadata": {},
   "source": [
    "# Initialize Deck and Value_Dicts"
   ]
  },
  {
   "cell_type": "code",
   "execution_count": 23,
   "metadata": {},
   "outputs": [],
   "source": [
    "# Initialize Deck\n",
    "deck = {1: 'Ah', 2: 'Kh', 3: 'Qh', 4: 'Jh', 5: 'Th', 6: '9h', 7: '8h', 8: '7h',\n",
    "       9: '6h', 10: '5h', 11: '4h', 12: '3h', 13: '2h', 14: 'Ad', 15: 'Kd', 16: 'Qd', 17: 'Jd', 18: 'Td',\n",
    "       19: '9d', 20: '8d', 21: '7d', 22: '6d', 23: '5d', 24: '4d', 25: '3d', 26: '2d', 27: 'Ac', 28: 'Kc', 29: 'Qc', \n",
    "       30: 'Jc', 31: 'Tc', 32: '9c', 33: '8c', 34: '7c', 35:'6c', 36:'5c', 37:'4c', 38:'3c', 39:'2c', 40:'As', 41:'Ks',\n",
    "       42: 'Qs', 43:'Js', 44:'Ts', 45:'9s', 46:'8s', 47:'7s', 48:'6s', 49:'5s', 50:'4s', 51:'3s',52:'2s'}\n",
    "\n",
    "# Hole Bonus check for pocket pairs\n",
    "pair_bonus = {'A': 20, 'K': 8, 'Q': 8, 'J':8, 'T':3, '9':3, '8':3, '7':3, '6':3, '5':2,'4':2,'3':2,'2':2}\n",
    "\n",
    "# Look up for String Representation of Value\n",
    "value_dict = {1:'A', 2:'K', 3:'Q', 4:'J', 5:'T', 6:'9', 7:'8', 8:'7', 9:'6', 10:'5', 11:'4', 12:'3', 13:'2', 14:'A'}\n",
    "\n",
    "# Key Value Pairs to determine which card is more \"valuable\" than another\n",
    "cards_to_rank = {'A': 1, 'K': 2, 'Q': 3, 'J': 4, 'T': 5, '9': 6, '8': 7, '7': 8, '6': 9, '5': 10, '4': 11, '3': 12, '2': 13}\n",
    "\n",
    "# Key Value Pairs for Straight Checks\n",
    "straight_to_ranks = {'A': {1, 14}, 'K': {2}, 'Q': {3}, 'J': {4}, 'T': {5}, '9': {6}, '8': {7}, '7': {8}, '6': {9}, '5': {10}, '4': {11}, '3': {12}, '2': {13}}\n",
    "\n",
    "# Straight Flush Dicts\n",
    "res = {1: 'Ah', 2: 'Kh', 3: 'Qh', 4: 'Jh', 5: 'Th', 6: '9h', 7: '8h', 8: '7h',\n",
    "       9: '6h', 10: '5h', 11: '4h', 12: '3h', 13: '2h', 14: 'Ah', 16: 'Ad', 17: 'Kd', 18: 'Qd', 19: 'Jd',\n",
    "       20: 'Td', 21: '9d', 22: '8d', 23: '7d', 24: '6d', 25: '5d', 26: '4d', 27: '3d', 28: '2d', 29: 'Ad', 31: 'Ac', 32: 'Kc', \n",
    "       33: 'Qc', 34: 'Jc', 35: 'Tc', 36: '9c', 37: '8c', 38:'7c', 39:'6c', 40:'5c', 41:'4c', 42: '3c', 43:'2c', 44:'Ac',\n",
    "       46: 'As', 47:'Ks', 48:'Qs', 49:'Js', 50:'Ts', 51:'9s', 52:'8s', 53:'7s', 54:'6s', 55:'5s',56:'4s', 57:'3s', 58:'2s', 59:'As'}\n",
    "\n",
    "sf_dict = {'Ah': {1,14}, 'Kh': {2}, 'Qh': {3}, 'Jh': {4}, 'Th': {5}, '9h': {6}, '8h': {7}, '7h': {8}, '6h': {9}, '5h': {10},\n",
    "           '4h': {11}, '3h': {12}, '2h': {13}, 'Ad': {16, 29}, 'Kd': {17}, 'Qd': {18}, 'Jd': {19}, 'Td': {20}, '9d': {21},\n",
    "           '8d': {22}, '7d': {23}, '6d': {24}, '5d': {25}, '4d': {26}, '3d': {27}, '2d': {28}, 'Ac': {31, 44}, 'Kc': {32},\n",
    "           'Qc': {33}, 'Jc': {34}, 'Tc': {35}, '9c': {36}, '8c': {37}, '7c': {38}, '6c': {39}, '5c': {40}, '4c': {41}, '3c': {42},\n",
    "           '2c': {43}, 'As': {46, 59}, 'Ks': {47}, 'Qs': {48}, 'Js': {49}, 'Ts': {50}, '9s': {51}, '8s': {52}, '7s': {53}, '6s': {54},\n",
    "           '5s': {55}, '4s': {56}, '3s': {57}, '2s': {58}}\n",
    "\n",
    "hand_strength = {\"Royal Flush\": 1, \"Straight Flush\": 2, \"Quads\": 3, \"Full House\": 4, \"Flush\": 5, \"Straight\": 6, \"Trips\": 7\n",
    "                , \"Two Pair\": 8, \"Pair\": 9, \"High Card\": 10}"
   ]
  },
  {
   "cell_type": "markdown",
   "metadata": {},
   "source": [
    "# Deal Player, Dealer and Board"
   ]
  },
  {
   "cell_type": "code",
   "execution_count": 24,
   "metadata": {},
   "outputs": [
    {
     "name": "stdout",
     "output_type": "stream",
     "text": [
      "['5h', '3d']\n",
      "['9c', 'Td']\n"
     ]
    }
   ],
   "source": [
    "# Function to deal hand for any number of players\n",
    "def deal_player():\n",
    "    player_hand = []\n",
    "    for x in range(2):\n",
    "        player_hand.append(deck.pop(random.choice(list(deck.keys()))))    \n",
    "    return player_hand\n",
    "\n",
    "# assign hand to player and dealer (should be able to handle multiple players)\n",
    "player_hand = deal_player()\n",
    "dealer_hand = deal_player()\n",
    "\n",
    "print(player_hand)\n",
    "print(dealer_hand)"
   ]
  },
  {
   "cell_type": "code",
   "execution_count": 25,
   "metadata": {},
   "outputs": [],
   "source": [
    "# Deals just the flop\n",
    "def deal_flop():\n",
    "    for x in range(3):\n",
    "        board.append(deck.pop(random.choice(list(deck.keys())))) \n",
    "    return board"
   ]
  },
  {
   "cell_type": "code",
   "execution_count": 26,
   "metadata": {},
   "outputs": [],
   "source": [
    "# Appends the turn card to the board\n",
    "def deal_turn():\n",
    "    turn = deck.pop(random.choice(list(deck.keys())))\n",
    "    global board\n",
    "    board.append(turn)\n",
    "    return board"
   ]
  },
  {
   "cell_type": "code",
   "execution_count": 27,
   "metadata": {},
   "outputs": [],
   "source": [
    "# Appends the river card to the board\n",
    "def deal_river():\n",
    "    river = deck.pop(random.choice(list(deck.keys())))\n",
    "    global board\n",
    "    board.append(river)\n",
    "    return board\n",
    "\n",
    "# deal_river()\n",
    "# board"
   ]
  },
  {
   "cell_type": "code",
   "execution_count": 28,
   "metadata": {},
   "outputs": [
    {
     "name": "stdout",
     "output_type": "stream",
     "text": [
      "['Ah', '4s', 'Kc']\n",
      "['Ah', '4s', 'Kc', '6d']\n"
     ]
    },
    {
     "data": {
      "text/plain": [
       "['Ah', '4s', 'Kc', '6d', 'Qh']"
      ]
     },
     "execution_count": 28,
     "metadata": {},
     "output_type": "execute_result"
    }
   ],
   "source": [
    "# Calls other functions to deal the full board while adding sleep times to build suspense\n",
    "def deal_game():\n",
    "    deal_flop()\n",
    "    print(board)\n",
    "    time.sleep(1)\n",
    "    deal_turn()\n",
    "    print(board)\n",
    "    time.sleep(1.2)\n",
    "    deal_river()\n",
    "    return board\n",
    "\n",
    "# Have to create empty board list before calling function\n",
    "board = []\n",
    "board = deal_game()\n",
    "board"
   ]
  },
  {
   "cell_type": "code",
   "execution_count": 29,
   "metadata": {},
   "outputs": [
    {
     "name": "stdout",
     "output_type": "stream",
     "text": [
      "Player: ['5h', '3d']\n",
      "Dealer: ['9c', 'Td']\n",
      "Board: ['Ah', '4s', 'Kc', '6d', 'Qh']\n"
     ]
    }
   ],
   "source": [
    "print(f'Player: {player_hand}')\n",
    "print(f'Dealer: {dealer_hand}')\n",
    "print(f'Board: {board}')"
   ]
  },
  {
   "cell_type": "code",
   "execution_count": 30,
   "metadata": {},
   "outputs": [],
   "source": [
    "player_hand = ['Ad', 'Kd']\n",
    "dealer_hand = ['Tc', '3s']\n",
    "board = ['Qd', 'Jh', 'Td', '6c', '9d', '6h']\n"
   ]
  },
  {
   "cell_type": "markdown",
   "metadata": {},
   "source": [
    "# Evaluate Hole Card Bonus"
   ]
  },
  {
   "cell_type": "code",
   "execution_count": 31,
   "metadata": {},
   "outputs": [],
   "source": [
    "# Instantiate boolean values for each hand so they can be referenced in later functions\n",
    "royal_flush = False\n",
    "straight_flush = False\n",
    "quads = False\n",
    "full_house = False\n",
    "flush = False\n",
    "straight = False\n",
    "trips = False\n",
    "two_pair = False\n",
    "pair = False\n",
    "high_card = False"
   ]
  },
  {
   "cell_type": "code",
   "execution_count": 32,
   "metadata": {},
   "outputs": [
    {
     "name": "stdout",
     "output_type": "stream",
     "text": [
      " Big Slick!! Pays 25:1\n"
     ]
    },
    {
     "data": {
      "text/plain": [
       "25"
      ]
     },
     "execution_count": 32,
     "metadata": {},
     "output_type": "execute_result"
    }
   ],
   "source": [
    "# Single function to evaluate and return hole bonus payout\n",
    "def hole_bonus(hand):\n",
    "    suited = hand[0][1] == hand[1][1]\n",
    "\n",
    "    if ((hand[0] == 'Ad') or (hand[0] == 'Ah')) and ((hand[1] == 'Ah') or (hand[1] == 'Ad')):\n",
    "        hole_bonus_payout = 50\n",
    "        print(f' RED ACES!!! Pays {hole_bonus_payout}:1')\n",
    "    elif ((hand[0][0] == 'A') and (hand[1][0] == 'K')) or ((hand[0][0] == 'K') and (hand[1][0] == 'A')):\n",
    "        if suited == True:\n",
    "            hole_bonus_payout = 25\n",
    "            print(f' Big Slick!! Pays {hole_bonus_payout}:1')\n",
    "        else:\n",
    "            hole_bonus_payout = 0\n",
    "            print(\"Sorry, Bonus Bet Lost\")\n",
    "    elif hand[0][0] == hand[1][0]:\n",
    "        pair = hand[0][0]\n",
    "        hole_bonus_payout = pair_bonus[hand[0][0]]\n",
    "        print(f'Pocket {pair}s! Pays {hole_bonus_payout}:1')\n",
    "    elif suited == True:\n",
    "        hole_bonus_payout = 1\n",
    "        print(f'Suited! Pays {hole_bonus_payout}:1')\n",
    "    else:\n",
    "        hole_bonus_payout = 0\n",
    "        print(\"Sorry, Bonus Bet Lost\")\n",
    "    return hole_bonus_payout\n",
    "\n",
    "hole_bonus(player_hand)\n",
    "# hole_bonus_payout = hole_bonus(player_hand)\n",
    "# hole_bonus_payout"
   ]
  },
  {
   "cell_type": "code",
   "execution_count": 33,
   "metadata": {},
   "outputs": [
    {
     "name": "stdout",
     "output_type": "stream",
     "text": [
      "Player: ['Ad', 'Kd', 'Qd', 'Jh', 'Td', '6c', '9d', '6h']\n",
      "Dealer: ['Tc', '3s', 'Qd', 'Jh', 'Td', '6c', '9d', '6h']\n"
     ]
    }
   ],
   "source": [
    "# Identify final 7 card hand for each player/dealer\n",
    "def showdown_hand(player, board):\n",
    "    final_hand = player + board\n",
    "    return final_hand\n",
    "\n",
    "# call function for various players and assign them to variables to be used in later functions\n",
    "final_hand = showdown_hand(player_hand, board)\n",
    "d_final_hand = showdown_hand(dealer_hand, board)\n",
    "\n",
    "print(f'Player: {final_hand}')\n",
    "print(f'Dealer: {d_final_hand}')"
   ]
  },
  {
   "cell_type": "code",
   "execution_count": 34,
   "metadata": {
    "scrolled": true
   },
   "outputs": [
    {
     "name": "stdout",
     "output_type": "stream",
     "text": [
      "Player Keys: [9, 9, 1, 2, 3, 4, 5, 6]\n",
      "Dealer Keys: [5, 5, 9, 9, 3, 4, 6, 12]\n"
     ]
    }
   ],
   "source": [
    "def get_hand_keys(final_hand):\n",
    "    # Key Value of final hand cards appended to list in order of frequency then value\n",
    "    final_hand_keys = [cards_to_rank[x[0]] for x in final_hand]\n",
    "    counts = collections.Counter(final_hand_keys)\n",
    "    final_hand_keys = sorted(final_hand_keys, key=lambda x: (counts[x], -x), reverse=True)\n",
    "    return final_hand_keys\n",
    "\n",
    "# assign keys to dealer and players in order to compare hand rankings\n",
    "final_hand_keys = get_hand_keys(final_hand)\n",
    "d_final_hand_keys = get_hand_keys(d_final_hand)\n",
    "\n",
    "print(f'Player Keys: {final_hand_keys}')\n",
    "print(f'Dealer Keys: {d_final_hand_keys}')"
   ]
  },
  {
   "cell_type": "code",
   "execution_count": null,
   "metadata": {
    "scrolled": true
   },
   "outputs": [],
   "source": []
  },
  {
   "cell_type": "code",
   "execution_count": null,
   "metadata": {},
   "outputs": [],
   "source": []
  },
  {
   "cell_type": "code",
   "execution_count": 35,
   "metadata": {},
   "outputs": [
    {
     "data": {
      "text/plain": [
       "False"
      ]
     },
     "execution_count": 35,
     "metadata": {},
     "output_type": "execute_result"
    }
   ],
   "source": [
    "def is_straight_flush(final_hand):    \n",
    "    sf_keys = set()\n",
    "    sf_value_keys = set()\n",
    "    for card in final_hand:\n",
    "        sf_keys |= sf_dict[card]\n",
    "        sf_value_keys |= straight_to_ranks[card[0]]\n",
    "    sf_value_keys = sorted(sf_value_keys)\n",
    "    sf_keys = sorted(sf_keys)\n",
    "    \n",
    "    for idx, value in enumerate(sf_keys):\n",
    "        slice = sf_keys[idx:idx+5]\n",
    "        if len(slice) < 5:\n",
    "            straight_flush = False\n",
    "            break\n",
    "        if slice == list(range(value, value+5)):\n",
    "            straight_flush = True\n",
    "            sf_showdown = [res[value] for value in slice]\n",
    "            sf_values = [cards_to_rank[x[0]] for x in sf_showdown]\n",
    "            break\n",
    "        else:\n",
    "            straight_flush = False                    \n",
    "    \n",
    "    return straight_flush\n",
    "\n",
    "is_straight_flush(final_hand)"
   ]
  },
  {
   "cell_type": "code",
   "execution_count": 36,
   "metadata": {},
   "outputs": [
    {
     "data": {
      "text/plain": [
       "[]"
      ]
     },
     "execution_count": 36,
     "metadata": {},
     "output_type": "execute_result"
    }
   ],
   "source": [
    "def straight_flush_values(final_hand):\n",
    "    \"\"\"Identifies the card rank values in the straight flush\"\"\"\n",
    "    sf_keys = set()\n",
    "    sf_value_keys = set()\n",
    "    for card in final_hand:\n",
    "        sf_keys |= sf_dict[card]\n",
    "        sf_value_keys |= straight_to_ranks[card[0]]\n",
    "    sf_value_keys = sorted(sf_value_keys)\n",
    "    sf_keys = sorted(sf_keys)\n",
    "    values = []\n",
    "    for idx, value in enumerate(sf_keys):\n",
    "        slice = sf_keys[idx:idx+5]\n",
    "        if len(slice) < 5:\n",
    "            straight_flush = False\n",
    "            break\n",
    "        if slice == list(range(value,value+5)):\n",
    "            straight_flush = True\n",
    "            sf_showdown = [res[value] for value in slice]\n",
    "            break\n",
    "        else:\n",
    "            straight_flush = False\n",
    "\n",
    "\n",
    "    if straight_flush == True:\n",
    "        for idx, value in enumerate(sf_value_keys):\n",
    "            slice = sf_value_keys[idx:idx+5]\n",
    "            if slice == list(range(value,value+5)):\n",
    "                values = [value for value in slice]\n",
    "                break\n",
    "    return values\n",
    "\n",
    "straight_flush_values(final_hand)"
   ]
  },
  {
   "cell_type": "code",
   "execution_count": null,
   "metadata": {},
   "outputs": [],
   "source": []
  },
  {
   "cell_type": "code",
   "execution_count": null,
   "metadata": {},
   "outputs": [],
   "source": []
  },
  {
   "cell_type": "code",
   "execution_count": 37,
   "metadata": {},
   "outputs": [
    {
     "data": {
      "text/plain": [
       "False"
      ]
     },
     "execution_count": 37,
     "metadata": {},
     "output_type": "execute_result"
    }
   ],
   "source": [
    "def is_royal(final_hand):\n",
    "    \"\"\"\n",
    "    Takes in straight flush keys and checks against Royal Flush\n",
    "    \"\"\"\n",
    "    royal_flush = False\n",
    "    straight_flush = is_straight_flush(final_hand)\n",
    "    if straight_flush == True:\n",
    "        sf_showdown = straight_flush_values(final_hand)\n",
    "        if sf_showdown[0] == 1:\n",
    "            royal_flush = True\n",
    "        else:\n",
    "            royal_flush = False\n",
    "    return royal_flush\n",
    "\n",
    "is_royal(final_hand)\n",
    " \n"
   ]
  },
  {
   "cell_type": "code",
   "execution_count": 38,
   "metadata": {
    "scrolled": true
   },
   "outputs": [
    {
     "name": "stdout",
     "output_type": "stream",
     "text": [
      "Player Flush = True\n",
      "Dealer Flush = False\n"
     ]
    }
   ],
   "source": [
    "def is_flush(hand):\n",
    "    c = collections.Counter(x[1] for x in hand)\n",
    "    top_suit = c.most_common(1)[0][1]\n",
    "    if top_suit > 4:\n",
    "        flush = True\n",
    "    else:\n",
    "        flush = False\n",
    "    return flush\n",
    "\n",
    "player_flush = is_flush(final_hand)\n",
    "dealer_flush = is_flush(d_final_hand)\n",
    "print(f'Player Flush = {player_flush}')\n",
    "print(f'Dealer Flush = {dealer_flush}')"
   ]
  },
  {
   "cell_type": "code",
   "execution_count": 39,
   "metadata": {},
   "outputs": [],
   "source": [
    "# Use CLosure to first check for flush, then if flush is true, append keys for just flush cards to new list\n",
    "def flush_check(hand):\n",
    "    \"\"\"\n",
    "    First class function flush_check takes a final hand and uses Counter to check for flushes\n",
    "    \"\"\"\n",
    "    c = collections.Counter(x[1] for x in hand)\n",
    "    suit_count = c.most_common(1)[0][1]\n",
    "    top_suit = c.most_common(1)[0][0]\n",
    "    if suit_count > 4:\n",
    "        flush = True\n",
    "    else:\n",
    "        flush = False\n",
    "    \n",
    "    def flush_keys():\n",
    "        \"\"\"\n",
    "        Closure will append keys from the flush cards when flush is true \n",
    "        \"\"\"\n",
    "        keys = []\n",
    "        if flush == True:\n",
    "            for x in hand:\n",
    "                if x[1] == top_suit:\n",
    "                    keys.append(cards_to_rank[x[0]])\n",
    "        keys = sorted(keys)\n",
    "        # Return Keys that can be used later \n",
    "        return keys\n",
    "    \n",
    "    return flush_keys\n",
    "\n",
    "# check for flush and return function that can call flush keys\n",
    "checker = flush_check(final_hand)\n",
    "# applies flush keys return to a variable\n",
    "flush_keys = checker()"
   ]
  },
  {
   "cell_type": "code",
   "execution_count": null,
   "metadata": {},
   "outputs": [],
   "source": []
  },
  {
   "cell_type": "code",
   "execution_count": 40,
   "metadata": {},
   "outputs": [],
   "source": [
    "def is_straight(hand):\n",
    "    keys = set()\n",
    "    for card in hand:\n",
    "        keys |= straight_to_ranks[card[0]]\n",
    "    keys = sorted(keys)\n",
    "\n",
    "    for idx, value in enumerate(keys):\n",
    "        slice = keys[idx:idx+5]\n",
    "        if len(slice) < 5:\n",
    "            straight = False\n",
    "            break\n",
    "        if slice == list(range(value,value+5)):\n",
    "            straight = True\n",
    "            straight_top_key = value\n",
    "            straight_top = value_dict[value]\n",
    "            break\n",
    "        else:\n",
    "            straight = False\n",
    "            \n",
    "    return straight"
   ]
  },
  {
   "cell_type": "code",
   "execution_count": 41,
   "metadata": {
    "scrolled": true
   },
   "outputs": [],
   "source": [
    "def straight_check(hand):\n",
    "    \"\"\"First class function takes final hand and checks for straight\"\"\"\n",
    "    keys = set()\n",
    "    for card in hand:\n",
    "        keys |= straight_to_ranks[card[0]]\n",
    "    keys = sorted(keys)\n",
    "\n",
    "    for idx, value in enumerate(keys):\n",
    "        slice = keys[idx:idx+5]\n",
    "        if len(slice) < 5:\n",
    "            straight = False\n",
    "            break\n",
    "        if slice == list(range(value,value+5)):\n",
    "            straight = True\n",
    "            straight_top_key = value\n",
    "            straight_top = value_dict[value]\n",
    "            break\n",
    "        else:\n",
    "            straight = False\n",
    "            \n",
    "    def straight_keys():\n",
    "        \"\"\"Closure will identify the 5 card straight hand and return the keys\"\"\"\n",
    "        if straight == True:\n",
    "            return slice\n",
    "            \n",
    "    return straight_keys"
   ]
  },
  {
   "cell_type": "code",
   "execution_count": null,
   "metadata": {},
   "outputs": [],
   "source": []
  },
  {
   "cell_type": "code",
   "execution_count": 42,
   "metadata": {},
   "outputs": [],
   "source": [
    "# kickers(dealer_final_hand)"
   ]
  },
  {
   "cell_type": "code",
   "execution_count": 43,
   "metadata": {},
   "outputs": [
    {
     "data": {
      "text/plain": [
       "[(9, 2), (1, 1), (2, 1), (3, 1), (4, 1), (5, 1), (6, 1)]"
      ]
     },
     "execution_count": 43,
     "metadata": {},
     "output_type": "execute_result"
    }
   ],
   "source": [
    "def common_cards(hand):\n",
    "    \"\"\"Check for common cards to be used in quads, full house, trips and pairs\"\"\"\n",
    "    card_sort = sorted(cards_to_rank[x[0]] for x in hand)\n",
    "    c = collections.Counter([x for x in card_sort])   \n",
    "    common = c.most_common(7)\n",
    "    return common\n",
    "\n",
    "player_pairs = common_cards(final_hand)\n",
    "player_pairs"
   ]
  },
  {
   "cell_type": "code",
   "execution_count": 44,
   "metadata": {},
   "outputs": [],
   "source": [
    "def kickers(hand, n=2, wild_type=None):\n",
    "    \"\"\"\n",
    "    n: For two-pair enter 2, for quads enter 1\n",
    "    \"\"\"\n",
    "    card_sort = sorted(cards_to_rank[x[0]] for x in hand)\n",
    "    c = collections.Counter([x for x in card_sort])\n",
    "    common = c.most_common(7)\n",
    "    kicker_values = [x[0] for x in common[n:]]\n",
    "    kicker_keys = sorted(cards_to_rank[x[0]] for x in hand if cards_to_rank[x[0]] in kicker_values)\n",
    "    return sorted(kicker_keys)"
   ]
  },
  {
   "cell_type": "code",
   "execution_count": 45,
   "metadata": {},
   "outputs": [
    {
     "data": {
      "text/plain": [
       "False"
      ]
     },
     "execution_count": 45,
     "metadata": {},
     "output_type": "execute_result"
    }
   ],
   "source": [
    "def is_quads(final_hand):\n",
    "    \"\"\"Receives the result from common_cards function to check for quads\"\"\"\n",
    "    common_card_list = common_cards(final_hand)\n",
    "    if common_card_list[0][1] > 3:\n",
    "        quads = True\n",
    "    else:\n",
    "        quads = False\n",
    "    return quads\n",
    "\n",
    "is_quads(final_hand)"
   ]
  },
  {
   "cell_type": "code",
   "execution_count": null,
   "metadata": {},
   "outputs": [],
   "source": []
  },
  {
   "cell_type": "code",
   "execution_count": 46,
   "metadata": {},
   "outputs": [
    {
     "data": {
      "text/plain": [
       "False"
      ]
     },
     "execution_count": 46,
     "metadata": {},
     "output_type": "execute_result"
    }
   ],
   "source": [
    "def is_full_house(final_hand):\n",
    "    \"\"\"Receives the result from common_cards function to check for Full House\"\"\"\n",
    "    common_card_list = common_cards(final_hand)    \n",
    "    if common_card_list[0][1] == 3 and common_card_list[1][1] >= 2:\n",
    "        full_house = True\n",
    "    else:\n",
    "        full_house = False\n",
    "    return full_house\n",
    "\n",
    "\n",
    "is_full_house(final_hand)"
   ]
  },
  {
   "cell_type": "code",
   "execution_count": 47,
   "metadata": {},
   "outputs": [
    {
     "data": {
      "text/plain": [
       "False"
      ]
     },
     "execution_count": 47,
     "metadata": {},
     "output_type": "execute_result"
    }
   ],
   "source": [
    "def is_trips(final_hand):\n",
    "    \"\"\"Receives the result from common_cards function to check for Trips\"\"\"\n",
    "    common_card_list = common_cards(final_hand)  \n",
    "    if common_card_list[0][1] == 3 and common_card_list[1][1] < 2:\n",
    "        trips = True\n",
    "    else:\n",
    "        trips = False\n",
    "    return trips\n",
    "\n",
    "is_trips(final_hand)"
   ]
  },
  {
   "cell_type": "code",
   "execution_count": 48,
   "metadata": {},
   "outputs": [
    {
     "data": {
      "text/plain": [
       "False"
      ]
     },
     "execution_count": 48,
     "metadata": {},
     "output_type": "execute_result"
    }
   ],
   "source": [
    "def is_two_pair(final_hand):\n",
    "    \"\"\"Receives the result from common_cards function to check for Trips\"\"\"\n",
    "    common_card_list = common_cards(final_hand)    \n",
    "    if common_card_list[0][1] == 2 and common_card_list[1][1] == 2:\n",
    "        two_pair = True\n",
    "    else:\n",
    "        two_pair = False\n",
    "    return two_pair\n",
    "\n",
    "is_two_pair(final_hand)"
   ]
  },
  {
   "cell_type": "code",
   "execution_count": 49,
   "metadata": {},
   "outputs": [
    {
     "data": {
      "text/plain": [
       "True"
      ]
     },
     "execution_count": 49,
     "metadata": {},
     "output_type": "execute_result"
    }
   ],
   "source": [
    "def is_pair(final_hand):\n",
    "    \"\"\"Receives the result from common_cards function to check for Trips\"\"\"\n",
    "    common_card_list = common_cards(final_hand)  \n",
    "    if common_card_list[0][1] == 2 and common_card_list[1][1] < 2:\n",
    "        pair = True\n",
    "    else:\n",
    "        pair = False\n",
    "    return pair\n",
    "\n",
    "is_pair(final_hand)"
   ]
  },
  {
   "cell_type": "code",
   "execution_count": 50,
   "metadata": {},
   "outputs": [
    {
     "data": {
      "text/plain": [
       "False"
      ]
     },
     "execution_count": 50,
     "metadata": {},
     "output_type": "execute_result"
    }
   ],
   "source": [
    "def is_high_card(final_hand):\n",
    "    common_card_list = common_cards(final_hand)  \n",
    "    if common_card_list[0][1] == 1 and common_card_list[1][1] == 1:\n",
    "        high_card = True\n",
    "    else:\n",
    "        high_card = False\n",
    "    return high_card\n",
    "\n",
    "is_high_card(final_hand)\n"
   ]
  },
  {
   "cell_type": "markdown",
   "metadata": {},
   "source": [
    "# Final Hand Evaluation"
   ]
  },
  {
   "cell_type": "code",
   "execution_count": 93,
   "metadata": {},
   "outputs": [
    {
     "data": {
      "text/plain": [
       "8"
      ]
     },
     "execution_count": 93,
     "metadata": {},
     "output_type": "execute_result"
    }
   ],
   "source": [
    "def best_hand(hand):\n",
    "    \"\"\"Hand: A players final hand (hole cards plus board). Returns a dictionary with all aspects needed to evaluate hand winner\"\"\"\n",
    "    if is_royal(hand):\n",
    "        hand_name = \"Royal Flush\"\n",
    "        showdown_strength = 1\n",
    "        final_hand_bonus = 500\n",
    "        final_hand_keys = straight_flush_values(hand)\n",
    "        showdown_top = final_hand_keys[0]\n",
    "        showdown_kicker = final_hand_keys[1] \n",
    "        showdown_kicker2 = final_hand_keys[2]\n",
    "        showdown_kicker3 = final_hand_keys[3]\n",
    "        showdown_kicker4 = final_hand_keys[4]\n",
    "        showdown = [value_dict[showdown_top], value_dict[showdown_kicker], value_dict[showdown_kicker2], value_dict[showdown_kicker3], value_dict[showdown_kicker4]]\n",
    "        return {\"hand\": hand_name, \"strength\": showdown_strength,\"bonus\": final_hand_bonus, \"top\": showdown_top, \"kicker\":showdown_kicker, \"kicker2\":showdown_kicker2, \"kicker3\":showdown_kicker3, \"kicker4\":showdown_kicker4, \"showdown\": showdown}\n",
    "    elif is_straight_flush(hand):\n",
    "        hand_name = \"Straight Flush\"\n",
    "        showdown_strength = 2\n",
    "        final_hand_bonus = 100\n",
    "        final_hand_keys = straight_flush_values(hand)\n",
    "        showdown_top = final_hand_keys[0]\n",
    "        showdown_kicker = final_hand_keys[1] \n",
    "        showdown_kicker2 = final_hand_keys[2]\n",
    "        showdown_kicker3 = final_hand_keys[3]\n",
    "        showdown_kicker4 = final_hand_keys[4]\n",
    "        showdown = [value_dict[showdown_top], value_dict[showdown_kicker], value_dict[showdown_kicker2], value_dict[showdown_kicker3], value_dict[showdown_kicker4]]\n",
    "        return {\"hand\": hand_name, \"strength\": showdown_strength,\"bonus\": final_hand_bonus, \"top\": showdown_top, \"kicker\":showdown_kicker, \"kicker2\":showdown_kicker2, \"kicker3\":showdown_kicker3, \"kicker4\":showdown_kicker4, \"showdown\": showdown}\n",
    "    elif is_quads(hand):\n",
    "        hand_name = \"Quads\"\n",
    "        showdown_strength = 3\n",
    "        final_hand_bonus = 40\n",
    "        final_hand_keys =[common_cards(hand)[0][0], common_cards(hand)[0][0], common_cards(hand)[0][0], common_cards(hand)[0][0], kickers(hand, 1, wild_type)[0]]\n",
    "        showdown_top = final_hand_keys[0]\n",
    "        showdown_kicker = final_hand_keys[1] \n",
    "        showdown_kicker2 = final_hand_keys[2]\n",
    "        showdown_kicker3 = final_hand_keys[3]\n",
    "        showdown_kicker4 = final_hand_keys[4]\n",
    "        showdown = [value_dict[showdown_top], value_dict[showdown_kicker], value_dict[showdown_kicker2], value_dict[showdown_kicker3], value_dict[showdown_kicker4]]\n",
    "        return {\"hand\": hand_name, \"strength\": showdown_strength,\"bonus\": final_hand_bonus, \"top\": showdown_top, \"kicker\":showdown_kicker, \"kicker2\":showdown_kicker2, \"kicker3\":showdown_kicker3, \"kicker4\":showdown_kicker4, \"showdown\": showdown}\n",
    "    elif is_full_house(hand):\n",
    "        hand_name= \"Full House\"\n",
    "        showdown_strength = 4\n",
    "        final_hand_bonus = 8\n",
    "        final_hand_keys = [common_cards(hand)[0][0], common_cards(hand)[0][0], common_cards(hand)[0][0], min(common_cards(dealer_final_hand), key = lambda t: t[1])[0], min(common_cards(dealer_final_hand), key = lambda t: t[1])[0]]\n",
    "        showdown_top = final_hand_keys[0]\n",
    "        showdown_kicker = final_hand_keys[1] \n",
    "        showdown_kicker2 = final_hand_keys[2]\n",
    "        showdown_kicker3 = final_hand_keys[3]\n",
    "        showdown_kicker4 = final_hand_keys[4]\n",
    "        showdown = [value_dict[showdown_top], value_dict[showdown_kicker], value_dict[showdown_kicker2], value_dict[showdown_kicker3], value_dict[showdown_kicker4]]\n",
    "        return {\"hand\": hand_name, \"strength\": showdown_strength,\"bonus\": final_hand_bonus, \"top\": showdown_top, \"kicker\":showdown_kicker, \"kicker2\":showdown_kicker2, \"kicker3\":showdown_kicker3, \"kicker4\":showdown_kicker4, \"showdown\": showdown}\n",
    "    elif is_flush(hand):\n",
    "        hand_name = \"Flush\"\n",
    "        showdown_strength = 5\n",
    "        final_hand_bonus = 6\n",
    "        flushes = flush_check(hand)\n",
    "        final_hand_keys = flushes()\n",
    "        showdown_top = final_hand_keys[0]\n",
    "        showdown_kicker = final_hand_keys[1] \n",
    "        showdown_kicker2 = final_hand_keys[2]\n",
    "        showdown_kicker3 = final_hand_keys[3]\n",
    "        showdown_kicker4 = final_hand_keys[4]\n",
    "        showdown = [value_dict[showdown_top], value_dict[showdown_kicker], value_dict[showdown_kicker2], value_dict[showdown_kicker3], value_dict[showdown_kicker4]]\n",
    "        return {\"hand\": hand_name, \"strength\": showdown_strength,\"bonus\": final_hand_bonus, \"top\": showdown_top, \"kicker\":showdown_kicker, \"kicker2\":showdown_kicker2, \"kicker3\":showdown_kicker3, \"kicker4\":showdown_kicker4, \"showdown\": showdown}\n",
    "    elif is_straight(hand):\n",
    "        hand_name = \"Straight\"\n",
    "        showdown_strength = 6\n",
    "        final_hand_bonus = 4\n",
    "        straights = straight_check(hand)\n",
    "        final_hand_keys = straights()\n",
    "        showdown_top = final_hand_keys[0]\n",
    "        showdown_kicker = final_hand_keys[1] \n",
    "        showdown_kicker2 = final_hand_keys[2]\n",
    "        showdown_kicker3 = final_hand_keys[3]\n",
    "        showdown_kicker4 = final_hand_keys[4]\n",
    "        showdown = [value_dict[showdown_top], value_dict[showdown_kicker], value_dict[showdown_kicker2], value_dict[showdown_kicker3], value_dict[showdown_kicker4]]\n",
    "        return {\"hand\": hand_name, \"strength\": showdown_strength,\"bonus\": final_hand_bonus, \"top\": showdown_top, \"kicker\":showdown_kicker, \"kicker2\":showdown_kicker2, \"kicker3\":showdown_kicker3, \"kicker4\":showdown_kicker4, \"showdown\": showdown}\n",
    "    elif is_trips(hand):\n",
    "        hand_name = \"Trips\"\n",
    "        showdown_strength = 7\n",
    "        final_hand_bonus = 2\n",
    "        final_hand_keys = [common_cards(hand)[0][0], common_cards(hand)[0][0], common_cards(hand)[0][0], common_cards(hand)[1][0], common_cards(hand)[2][0]]\n",
    "        showdown_top = final_hand_keys[0]\n",
    "        showdown_kicker = final_hand_keys[1] \n",
    "        showdown_kicker2 = final_hand_keys[2]\n",
    "        showdown_kicker3 = final_hand_keys[3]\n",
    "        showdown_kicker4 = final_hand_keys[4]\n",
    "        showdown = [value_dict[showdown_top], value_dict[showdown_kicker], value_dict[showdown_kicker2], value_dict[showdown_kicker3], value_dict[showdown_kicker4]]\n",
    "        return {\"hand\": hand_name, \"strength\": showdown_strength,\"bonus\": final_hand_bonus, \"top\": showdown_top, \"kicker\":showdown_kicker, \"kicker2\":showdown_kicker2, \"kicker3\":showdown_kicker3, \"kicker4\":showdown_kicker4, \"showdown\": showdown}\n",
    "    elif is_two_pair(hand):\n",
    "        hand_name = \"Two Pair\"\n",
    "        showdown_strength = 8\n",
    "        final_hand_bonus = 0\n",
    "        final_hand_keys =[common_cards(hand)[0][0], common_cards(hand)[0][0], common_cards(hand)[1][0], common_cards(hand)[1][0], kickers(hand, 2)[0]]\n",
    "        showdown_top = final_hand_keys[0]\n",
    "        showdown_kicker = final_hand_keys[1] \n",
    "        showdown_kicker2 = final_hand_keys[2]\n",
    "        showdown_kicker3 = final_hand_keys[3]\n",
    "        showdown_kicker4 = final_hand_keys[4]\n",
    "        showdown = [value_dict[showdown_top], value_dict[showdown_kicker], value_dict[showdown_kicker2], value_dict[showdown_kicker3], value_dict[showdown_kicker4]]\n",
    "        return {\"hand\": hand_name, \"strength\": showdown_strength,\"bonus\": final_hand_bonus, \"top\": showdown_top, \"kicker\":showdown_kicker, \"kicker2\":showdown_kicker2, \"kicker3\":showdown_kicker3, \"kicker4\":showdown_kicker4, \"showdown\": showdown}\n",
    "    elif is_pair(hand):\n",
    "        hand_name = \"Pair\"\n",
    "        showdown_strength = 9\n",
    "        final_hand_bonus = 0\n",
    "        final_hand_keys =[common_cards(hand)[0][0], common_cards(hand)[0][0], common_cards(hand)[1][0], common_cards(hand)[2][0], common_cards(hand)[3][0]]\n",
    "        showdown_top = final_hand_keys[0]\n",
    "        showdown_kicker = final_hand_keys[1] \n",
    "        showdown_kicker2 = final_hand_keys[2]\n",
    "        showdown_kicker3 = final_hand_keys[3]\n",
    "        showdown_kicker4 = final_hand_keys[4]\n",
    "        showdown = [value_dict[showdown_top], value_dict[showdown_kicker], value_dict[showdown_kicker2], value_dict[showdown_kicker3], value_dict[showdown_kicker4]]\n",
    "        return {\"hand\": hand_name, \"strength\": showdown_strength,\"bonus\": final_hand_bonus, \"top\": showdown_top, \"kicker\":showdown_kicker, \"kicker2\":showdown_kicker2, \"kicker3\":showdown_kicker3, \"kicker4\":showdown_kicker4, \"showdown\": showdown}\n",
    "    else:\n",
    "        hand_name = \"High Card\"\n",
    "        showdown_strength = 10\n",
    "        final_hand_bonus = 0\n",
    "        final_hand_keys =[common_cards(hand)[0][0], common_cards(hand)[1][0], common_cards(hand)[2][0], common_cards(hand)[3][0], common_cards(hand)[4][0]]\n",
    "        showdown_top = final_hand_keys[0]\n",
    "        showdown_kicker = final_hand_keys[1] \n",
    "        showdown_kicker2 = final_hand_keys[2]\n",
    "        showdown_kicker3 = final_hand_keys[3]\n",
    "        showdown_kicker4 = final_hand_keys[4]\n",
    "        showdown = [value_dict[showdown_top], value_dict[showdown_kicker], value_dict[showdown_kicker2], value_dict[showdown_kicker3], value_dict[showdown_kicker4]]\n",
    "        return {\"hand\": hand_name, \"strength\": showdown_strength,\"bonus\": final_hand_bonus, \"top\": showdown_top, \"kicker\":showdown_kicker, \"kicker2\":showdown_kicker2, \"kicker3\":showdown_kicker3, \"kicker4\":showdown_kicker4, \"showdown\": showdown}\n",
    "\n",
    "player_eval = best_hand(final_hand)\n",
    "player_eval[\"bonus\"]"
   ]
  },
  {
   "cell_type": "code",
   "execution_count": null,
   "metadata": {},
   "outputs": [],
   "source": []
  },
  {
   "cell_type": "code",
   "execution_count": 52,
   "metadata": {},
   "outputs": [
    {
     "name": "stdout",
     "output_type": "stream",
     "text": [
      "Hand: Flush\n",
      "Strength: 5\n",
      "Bonus: 6\n",
      "Top: 1\n",
      "Kicker: 2\n",
      "Kicker 2: 3\n",
      "Kicker 3: 5\n",
      "Kicker 4: 6\n",
      "Showdown: ['A', 'K', 'Q', 'T', '9']\n"
     ]
    }
   ],
   "source": [
    "print(f'Hand: {player_eval[\"hand\"]}')\n",
    "print(f'Strength: {player_eval[\"strength\"]}')\n",
    "print(f'Bonus: {player_eval[\"bonus\"]}')\n",
    "print(f'Top: {player_eval[\"top\"]}')\n",
    "print(f'Kicker: {player_eval[\"kicker\"]}')\n",
    "print(f'Kicker 2: {player_eval[\"kicker2\"]}')\n",
    "print(f'Kicker 3: {player_eval[\"kicker3\"]}')\n",
    "print(f'Kicker 4: {player_eval[\"kicker4\"]}')\n",
    "print(f'Showdown: {player_eval[\"showdown\"]}')"
   ]
  },
  {
   "cell_type": "code",
   "execution_count": 53,
   "metadata": {},
   "outputs": [
    {
     "data": {
      "text/plain": [
       "6"
      ]
     },
     "execution_count": 53,
     "metadata": {},
     "output_type": "execute_result"
    }
   ],
   "source": [
    "test = best_hand(final_hand)[\"bonus\"]\n",
    "test"
   ]
  },
  {
   "cell_type": "code",
   "execution_count": 54,
   "metadata": {},
   "outputs": [],
   "source": [
    "def winning_player(player_hand, dealer_hand):\n",
    "    \"\"\"Takes two hands and identifies winner\"\"\"\n",
    "    player = best_hand(player_hand)\n",
    "    dealer = best_hand(dealer_hand)\n",
    "    \n",
    "    if player[\"strength\"] < dealer[\"strength\"]:\n",
    "        winner = \"player\"\n",
    "    elif player[\"strength\"] > dealer[\"strength\"]:\n",
    "        winner = \"dealer\"\n",
    "    elif player[\"strength\"] == dealer[\"strength\"]:\n",
    "        if player[\"top\"] < dealer[\"top\"]:\n",
    "            winner = \"player\"\n",
    "        elif player[\"top\"] > dealer[\"top\"]:\n",
    "            winner = \"dealer\"\n",
    "        elif player[\"top\"] == dealer[\"top\"]:\n",
    "            if player[\"kicker\"] < dealer[\"kicker\"]:\n",
    "                winner = \"player\"\n",
    "            elif player[\"kicker\"] > dealer[\"kicker\"]:\n",
    "                winner = \"dealer\"\n",
    "            elif player[\"kicker\"] == dealer[\"kicker\"]:\n",
    "                if player[\"kicker2\"] < dealer[\"kicker2\"]:\n",
    "                    winner = \"player\"\n",
    "                elif player[\"kicker2\"] > dealer[\"kicker2\"]:\n",
    "                    winner = \"dealer\"\n",
    "                elif player[\"kicker2\"] == dealer[\"kicker2\"]:\n",
    "                    if player[\"kicker3\"] < dealer[\"kicker3\"]:\n",
    "                        winner = \"player\"\n",
    "                    elif player[\"kicker3\"] > dealer[\"kicker3\"]:\n",
    "                        winner = \"dealer\"\n",
    "                    elif player[\"kicker3\"] == dealer[\"kicker3\"]:\n",
    "                        if player[\"kicker4\"] < dealer[\"kicker4\"]:\n",
    "                            winner = \"player\"\n",
    "                        elif player[\"kicker4\"] > dealer[\"kicker4\"]:\n",
    "                            winner = \"dealer\"\n",
    "                        elif player[\"kicker4\"] == dealer[\"kicker4\"]:\n",
    "                            winner = \"push\"\n",
    "    return winner"
   ]
  },
  {
   "cell_type": "code",
   "execution_count": 55,
   "metadata": {},
   "outputs": [],
   "source": [
    "bankroll = 300\n",
    "ante = 10\n",
    "raised = 30\n",
    "        \n",
    "    "
   ]
  },
  {
   "cell_type": "code",
   "execution_count": 56,
   "metadata": {
    "scrolled": true
   },
   "outputs": [],
   "source": [
    "winner = winning_player(final_hand, d_final_hand)\n",
    "if winner == \"player\":\n",
    "    payout = (ante * 2) + (raised * 2)\n",
    "elif winner == \"dealer\":\n",
    "    payout = 0\n",
    "else:\n",
    "    payout = ante + raised\n",
    "\n",
    "    "
   ]
  },
  {
   "cell_type": "code",
   "execution_count": 57,
   "metadata": {},
   "outputs": [
    {
     "name": "stdout",
     "output_type": "stream",
     "text": [
      "Bankroll:380\n"
     ]
    }
   ],
   "source": [
    "bankroll += payout\n",
    "\n",
    "print(f'Bankroll:{bankroll}')"
   ]
  },
  {
   "cell_type": "markdown",
   "metadata": {},
   "source": [
    "# Evaluate Winner between Dealer and Player"
   ]
  },
  {
   "cell_type": "code",
   "execution_count": 75,
   "metadata": {},
   "outputs": [],
   "source": [
    "player_hand = ['8d', '9s']\n",
    "dealer_hand = ['Ks', 'Kh', '4h']\n",
    "board = ['4s', 'Qc', 'Qd', 'Qh', '4d']"
   ]
  },
  {
   "cell_type": "code",
   "execution_count": 76,
   "metadata": {},
   "outputs": [],
   "source": [
    "final_hand = showdown_hand(player_hand, board)"
   ]
  },
  {
   "cell_type": "code",
   "execution_count": 78,
   "metadata": {},
   "outputs": [],
   "source": [
    "dealer_final_hand = showdown_hand(dealer_hand, board)"
   ]
  },
  {
   "cell_type": "code",
   "execution_count": 61,
   "metadata": {},
   "outputs": [
    {
     "data": {
      "text/plain": [
       "'push'"
      ]
     },
     "execution_count": 61,
     "metadata": {},
     "output_type": "execute_result"
    }
   ],
   "source": [
    "winning_player(final_hand, dealer_final_hand)"
   ]
  },
  {
   "cell_type": "code",
   "execution_count": 77,
   "metadata": {
    "scrolled": false
   },
   "outputs": [
    {
     "data": {
      "text/plain": [
       "{'hand': 'Full House',\n",
       " 'strength': 4,\n",
       " 'bonus': 8,\n",
       " 'top': 3,\n",
       " 'kicker': 3,\n",
       " 'kicker2': 3,\n",
       " 'kicker3': 11,\n",
       " 'kicker4': 11,\n",
       " 'showdown': ['Q', 'Q', 'Q', '4', '4']}"
      ]
     },
     "execution_count": 77,
     "metadata": {},
     "output_type": "execute_result"
    }
   ],
   "source": [
    "best_hand(final_hand)"
   ]
  },
  {
   "cell_type": "code",
   "execution_count": 94,
   "metadata": {},
   "outputs": [
    {
     "data": {
      "text/plain": [
       "{'hand': 'Full House',\n",
       " 'strength': 4,\n",
       " 'bonus': 8,\n",
       " 'top': 3,\n",
       " 'kicker': 3,\n",
       " 'kicker2': 3,\n",
       " 'kicker3': 2,\n",
       " 'kicker4': 2,\n",
       " 'showdown': ['Q', 'Q', 'Q', 'K', 'K']}"
      ]
     },
     "execution_count": 94,
     "metadata": {},
     "output_type": "execute_result"
    }
   ],
   "source": [
    "best_hand(dealer_final_hand)"
   ]
  },
  {
   "cell_type": "code",
   "execution_count": 92,
   "metadata": {},
   "outputs": [
    {
     "data": {
      "text/plain": [
       "3"
      ]
     },
     "execution_count": 92,
     "metadata": {},
     "output_type": "execute_result"
    }
   ],
   "source": [
    "test = common_cards(dealer_final_hand)[0][0]\n",
    "test"
   ]
  },
  {
   "cell_type": "code",
   "execution_count": 91,
   "metadata": {},
   "outputs": [
    {
     "data": {
      "text/plain": [
       "2"
      ]
     },
     "execution_count": 91,
     "metadata": {},
     "output_type": "execute_result"
    }
   ],
   "source": [
    "\n",
    "    "
   ]
  },
  {
   "cell_type": "code",
   "execution_count": 65,
   "metadata": {},
   "outputs": [],
   "source": [
    "def kickers(hand, n=2, wild_type=None):\n",
    "    \"\"\"\n",
    "    n: For two-pair enter 2, for quads enter 1\n",
    "    \"\"\"\n",
    "    card_sort = sorted(cards_to_rank[x[0]] for x in hand)\n",
    "    c = collections.Counter([x for x in card_sort])\n",
    "    common = c.most_common(7)\n",
    "    print(common)\n",
    "    kicker_values = [x[0] for x in common[n:]]\n",
    "    print(kicker_values)\n",
    "    kickers = sorted(cards_to_rank[x[0]] for x in hand if cards_to_rank[x[0]] in kicker_values)\n",
    "    return sorted(kickers)"
   ]
  },
  {
   "cell_type": "code",
   "execution_count": 82,
   "metadata": {},
   "outputs": [
    {
     "name": "stdout",
     "output_type": "stream",
     "text": [
      "[(3, 3), (11, 3), (2, 2)]\n",
      "[11, 2]\n"
     ]
    },
    {
     "data": {
      "text/plain": [
       "[2, 2, 11, 11, 11]"
      ]
     },
     "execution_count": 82,
     "metadata": {},
     "output_type": "execute_result"
    }
   ],
   "source": [
    "kickers(dealer_final_hand,1)"
   ]
  },
  {
   "cell_type": "code",
   "execution_count": 67,
   "metadata": {},
   "outputs": [
    {
     "name": "stdout",
     "output_type": "stream",
     "text": [
      "[(3, 3), (11, 3), (2, 2)]\n",
      "[11, 2]\n"
     ]
    },
    {
     "data": {
      "text/plain": [
       "2"
      ]
     },
     "execution_count": 67,
     "metadata": {},
     "output_type": "execute_result"
    }
   ],
   "source": [
    "kickers(dealer_final_hand,1)[0]"
   ]
  },
  {
   "cell_type": "code",
   "execution_count": 68,
   "metadata": {},
   "outputs": [],
   "source": [
    "player_hand = ['Ad', '7h']\n",
    "dealer_hand = ['9h', 'Tc']\n",
    "board = ['2s', '9c', 'Kd', 'Th', 'Qh']"
   ]
  },
  {
   "cell_type": "code",
   "execution_count": 69,
   "metadata": {},
   "outputs": [],
   "source": [
    "final_hand = showdown_hand(player_hand, board)\n",
    "dealer_final_hand = showdown_hand(dealer_hand, board)"
   ]
  },
  {
   "cell_type": "code",
   "execution_count": 70,
   "metadata": {},
   "outputs": [
    {
     "name": "stdout",
     "output_type": "stream",
     "text": [
      "[(5, 2), (6, 2), (2, 1), (3, 1), (13, 1)]\n",
      "[2, 3, 13]\n"
     ]
    },
    {
     "data": {
      "text/plain": [
       "'dealer'"
      ]
     },
     "execution_count": 70,
     "metadata": {},
     "output_type": "execute_result"
    }
   ],
   "source": [
    "winning_player(final_hand, dealer_final_hand)"
   ]
  },
  {
   "cell_type": "code",
   "execution_count": 71,
   "metadata": {},
   "outputs": [
    {
     "name": "stdout",
     "output_type": "stream",
     "text": [
      "[(5, 2), (6, 2), (2, 1), (3, 1), (13, 1)]\n",
      "[2, 3, 13]\n"
     ]
    },
    {
     "data": {
      "text/plain": [
       "{'hand': 'Two Pair',\n",
       " 'strength': 8,\n",
       " 'bonus': 0,\n",
       " 'top': 5,\n",
       " 'kicker': 5,\n",
       " 'kicker2': 6,\n",
       " 'kicker3': 6,\n",
       " 'kicker4': 2,\n",
       " 'showdown': ['T', 'T', '9', '9', 'K']}"
      ]
     },
     "execution_count": 71,
     "metadata": {},
     "output_type": "execute_result"
    }
   ],
   "source": [
    "best_hand(dealer_final_hand)"
   ]
  },
  {
   "cell_type": "code",
   "execution_count": 72,
   "metadata": {},
   "outputs": [
    {
     "name": "stdout",
     "output_type": "stream",
     "text": [
      "[(5, 2), (6, 2), (2, 1), (3, 1), (13, 1)]\n",
      "[2, 3, 13]\n"
     ]
    },
    {
     "data": {
      "text/plain": [
       "[2, 3, 13]"
      ]
     },
     "execution_count": 72,
     "metadata": {},
     "output_type": "execute_result"
    }
   ],
   "source": [
    "kickers(dealer_final_hand, 2)"
   ]
  },
  {
   "cell_type": "code",
   "execution_count": 73,
   "metadata": {},
   "outputs": [
    {
     "data": {
      "text/plain": [
       "['Ad', '7h']"
      ]
     },
     "execution_count": 73,
     "metadata": {},
     "output_type": "execute_result"
    }
   ],
   "source": [
    "player_hand"
   ]
  },
  {
   "cell_type": "code",
   "execution_count": 74,
   "metadata": {},
   "outputs": [
    {
     "ename": "NameError",
     "evalue": "name 'unknown_hand' is not defined",
     "output_type": "error",
     "traceback": [
      "\u001b[1;31m---------------------------------------------------------------------------\u001b[0m",
      "\u001b[1;31mNameError\u001b[0m                                 Traceback (most recent call last)",
      "\u001b[1;32m<ipython-input-74-b304c68d1334>\u001b[0m in \u001b[0;36m<module>\u001b[1;34m\u001b[0m\n\u001b[1;32m----> 1\u001b[1;33m \u001b[0munknown_hand\u001b[0m\u001b[1;33m\u001b[0m\u001b[1;33m\u001b[0m\u001b[0m\n\u001b[0m",
      "\u001b[1;31mNameError\u001b[0m: name 'unknown_hand' is not defined"
     ]
    }
   ],
   "source": []
  },
  {
   "cell_type": "code",
   "execution_count": null,
   "metadata": {},
   "outputs": [],
   "source": [
    "test = player_hand + unknown_hand"
   ]
  },
  {
   "cell_type": "code",
   "execution_count": null,
   "metadata": {},
   "outputs": [],
   "source": [
    "test"
   ]
  },
  {
   "cell_type": "code",
   "execution_count": null,
   "metadata": {},
   "outputs": [],
   "source": [
    "player_hand"
   ]
  },
  {
   "cell_type": "code",
   "execution_count": null,
   "metadata": {},
   "outputs": [],
   "source": []
  }
 ],
 "metadata": {
  "kernelspec": {
   "display_name": "Python [conda env:PythonData]",
   "language": "python",
   "name": "conda-env-PythonData-py"
  },
  "language_info": {
   "codemirror_mode": {
    "name": "ipython",
    "version": 3
   },
   "file_extension": ".py",
   "mimetype": "text/x-python",
   "name": "python",
   "nbconvert_exporter": "python",
   "pygments_lexer": "ipython3",
   "version": "3.7.1"
  }
 },
 "nbformat": 4,
 "nbformat_minor": 2
}
