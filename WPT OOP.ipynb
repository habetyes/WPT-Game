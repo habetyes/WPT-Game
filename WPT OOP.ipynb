{
 "cells": [
  {
   "cell_type": "code",
   "execution_count": 13,
   "metadata": {},
   "outputs": [],
   "source": [
    "import pandas as pd\n",
    "import random\n",
    "import itertools\n",
    "import time"
   ]
  },
  {
   "cell_type": "code",
   "execution_count": 88,
   "metadata": {},
   "outputs": [
    {
     "name": "stdout",
     "output_type": "stream",
     "text": [
      "11 of Hearts\n",
      "10 of Diamonds\n"
     ]
    }
   ],
   "source": [
    "class Card(object):\n",
    "    def __init__(self, value, suit):\n",
    "        self.value = value\n",
    "        self.suit = suit\n",
    "    \n",
    "    def show(self):\n",
    "        print(f'{self.value} of {self.suit}')\n",
    "\n",
    "class Deck(object):\n",
    "    def __init__(self):\n",
    "        self.cards = []\n",
    "        self.build()\n",
    "        \n",
    "    def build(self):\n",
    "        for s in [\"Spades\", \"Clubs\", \"Diamonds\", \"Hearts\"]:\n",
    "            for v in range(1,14):\n",
    "                self.cards.append(Card(v,s))\n",
    "                \n",
    "    def show(self):\n",
    "        for c in self.cards:\n",
    "            c.show()\n",
    "            \n",
    "    def shuffle(self):\n",
    "        for i in range(len(self.cards)-1,0,-1):\n",
    "            rand = random.randint(0,i)\n",
    "            self.cards[i], self.cards[rand] = self.cards[rand] , self.cards[i]\n",
    "            \n",
    "    def drawCard(self):\n",
    "        return self.cards.pop()\n",
    "\n",
    "class Player(object):\n",
    "    def __init__(self, name):\n",
    "        self.hand = []\n",
    "        self.name = name\n",
    "    def draw(self, deck):\n",
    "        self.hand.append(deck.drawCard())\n",
    "        return self\n",
    "        \n",
    "    def showHand(self):\n",
    "        for card in self.hand:\n",
    "            card.show()\n",
    "            \n",
    "    def fold(self):\n",
    "        return self.hand.pop\n",
    "    \n",
    "\n",
    "deck = Deck()\n",
    "deck.shuffle()\n",
    "danny = Player(\"Danny\")\n",
    "danny.draw(deck).draw(deck)\n",
    "danny.showHand()\n"
   ]
  },
  {
   "cell_type": "code",
   "execution_count": 63,
   "metadata": {},
   "outputs": [
    {
     "ename": "TypeError",
     "evalue": "'Deck' object is not iterable",
     "output_type": "error",
     "traceback": [
      "\u001b[1;31m---------------------------------------------------------------------------\u001b[0m",
      "\u001b[1;31mTypeError\u001b[0m                                 Traceback (most recent call last)",
      "\u001b[1;32m<ipython-input-63-f94fd5edf869>\u001b[0m in \u001b[0;36m<module>\u001b[1;34m\u001b[0m\n\u001b[0;32m      1\u001b[0m \u001b[1;31m# Deck.GetRandomCard()\u001b[0m\u001b[1;33m\u001b[0m\u001b[1;33m\u001b[0m\u001b[1;33m\u001b[0m\u001b[0m\n\u001b[0;32m      2\u001b[0m \u001b[0mdeck_of_cards\u001b[0m \u001b[1;33m=\u001b[0m \u001b[0mDeck\u001b[0m\u001b[1;33m(\u001b[0m\u001b[1;33m)\u001b[0m\u001b[1;33m\u001b[0m\u001b[1;33m\u001b[0m\u001b[0m\n\u001b[1;32m----> 3\u001b[1;33m \u001b[1;32mfor\u001b[0m \u001b[0mcard\u001b[0m \u001b[1;32min\u001b[0m \u001b[0mdeck_of_cards\u001b[0m\u001b[1;33m:\u001b[0m\u001b[1;33m\u001b[0m\u001b[1;33m\u001b[0m\u001b[0m\n\u001b[0m\u001b[0;32m      4\u001b[0m     \u001b[0mprint\u001b[0m\u001b[1;33m(\u001b[0m\u001b[0mcard\u001b[0m\u001b[1;33m)\u001b[0m\u001b[1;33m\u001b[0m\u001b[1;33m\u001b[0m\u001b[0m\n",
      "\u001b[1;31mTypeError\u001b[0m: 'Deck' object is not iterable"
     ]
    }
   ],
   "source": [
    "# Deck.GetRandomCard()\n",
    "deck_of_cards = Deck()\n",
    "for card in deck_of_cards:\n",
    "    print(card)"
   ]
  },
  {
   "cell_type": "code",
   "execution_count": 42,
   "metadata": {},
   "outputs": [
    {
     "name": "stdout",
     "output_type": "stream",
     "text": [
      "2 Diamonds\n",
      "['1 Spades', '1 Hearts', '1 Diamonds', '1 Clubs', '2 Spades', '2 Hearts', '2 Diamonds', '2 Clubs', '3 Spades', '3 Hearts', '3 Diamonds', '3 Clubs', '4 Spades', '4 Hearts', '4 Diamonds', '4 Clubs', '5 Spades', '5 Hearts', '5 Diamonds', '5 Clubs', '6 Spades', '6 Hearts', '6 Diamonds', '6 Clubs', '7 Spades', '7 Hearts', '7 Diamonds', '7 Clubs', '8 Spades', '8 Hearts', '8 Diamonds', '8 Clubs', '9 Spades', '9 Hearts', '9 Diamonds', '9 Clubs', '10 Spades', '10 Hearts', '10 Diamonds', '10 Clubs', '11 Spades', '11 Hearts', '11 Diamonds', '11 Clubs', '12 Spades', '12 Hearts', '12 Diamonds', '12 Clubs', '13 Spades', '13 Hearts', '13 Diamonds', '13 Clubs']\n"
     ]
    }
   ],
   "source": [
    "value = range(1,14)\n",
    "suit = ['Spades','Hearts','Diamonds','Clubs']\n",
    "card = []\n",
    "\n",
    "for x in range(1,14):\n",
    "        for suits in suit:\n",
    "            card.append(str(x) + ' ' + suits)\n",
    "        \n",
    "size = len(card) - 1\n",
    "\n",
    "random_number = random.randint(0, size)\n",
    "return_card = card[random_number]\n",
    "print(return_card)\n",
    "print(card)"
   ]
  },
  {
   "cell_type": "code",
   "execution_count": 36,
   "metadata": {
    "scrolled": true
   },
   "outputs": [
    {
     "data": {
      "text/plain": [
       "\"range(1, 14) of ['Spades', 'Hearts', 'Diamonds', 'Clubs']\""
      ]
     },
     "execution_count": 36,
     "metadata": {},
     "output_type": "execute_result"
    }
   ],
   "source": [
    "Deck.card(ace)"
   ]
  },
  {
   "cell_type": "code",
   "execution_count": null,
   "metadata": {},
   "outputs": [],
   "source": []
  },
  {
   "cell_type": "code",
   "execution_count": null,
   "metadata": {},
   "outputs": [],
   "source": []
  }
 ],
 "metadata": {
  "kernelspec": {
   "display_name": "Python [conda env:PythonData]",
   "language": "python",
   "name": "conda-env-PythonData-py"
  },
  "language_info": {
   "codemirror_mode": {
    "name": "ipython",
    "version": 3
   },
   "file_extension": ".py",
   "mimetype": "text/x-python",
   "name": "python",
   "nbconvert_exporter": "python",
   "pygments_lexer": "ipython3",
   "version": "3.7.1"
  }
 },
 "nbformat": 4,
 "nbformat_minor": 2
}
